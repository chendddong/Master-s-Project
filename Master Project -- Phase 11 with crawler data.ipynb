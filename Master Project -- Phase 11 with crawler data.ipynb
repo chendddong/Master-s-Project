{
 "cells": [
  {
   "cell_type": "markdown",
   "metadata": {},
   "source": [
    "# Regression Phase 11: multitasking with Lasso"
   ]
  },
  {
   "cell_type": "code",
   "execution_count": 2,
   "metadata": {
    "collapsed": false
   },
   "outputs": [],
   "source": [
    "import sklearn\n",
    "import plotly.plotly as py\n",
    "import plotly.graph_objs as go\n",
    "from plotly import tools\n",
    "import numpy as np\n",
    "from sklearn.linear_model import MultiTaskLasso, Lasso\n",
    "import graphlab"
   ]
  },
  {
   "cell_type": "code",
   "execution_count": 3,
   "metadata": {
    "collapsed": false
   },
   "outputs": [
    {
     "data": {
      "text/plain": [
       "'0.17.1'"
      ]
     },
     "execution_count": 3,
     "metadata": {},
     "output_type": "execute_result"
    }
   ],
   "source": [
    "sklearn.__version__"
   ]
  },
  {
   "cell_type": "code",
   "execution_count": 4,
   "metadata": {
    "collapsed": false
   },
   "outputs": [
    {
     "name": "stdout",
     "output_type": "stream",
     "text": [
      "Automatically created module for IPython interactive environment\n"
     ]
    }
   ],
   "source": [
    "print (__doc__)"
   ]
  },
  {
   "cell_type": "code",
   "execution_count": 5,
   "metadata": {
    "collapsed": true
   },
   "outputs": [],
   "source": [
    "def get_numpy_data(data_sframe, features, output):\n",
    "    data_sframe['constant'] = 1 #this is how to add a constant to an SFrame\n",
    "    # add the column 'constant' to the front of the features list so that we can extract it along with the ohters:\n",
    "    features = ['constant'] +features # this is how we combine two lists\n",
    "    # select the columns of data_SFrame given by the features list into the SFrame features_sframe (now including constant):\n",
    "    features_sframe = data_sframe[features]\n",
    "    # the following line will convert the features_SFrame into a numpy matrix:\n",
    "    feature_matrix = features_sframe.to_numpy()\n",
    "    # assign the column of data_sframe associated with the output to the SArray output_sarray\n",
    "    output_sarray = data_sframe[output]\n",
    "    # the following will convert the SArray into a numpy array by first converting it to a list\n",
    "    output_array = output_sarray.to_numpy()\n",
    "    return(feature_matrix, output_array)"
   ]
  },
  {
   "cell_type": "code",
   "execution_count": 6,
   "metadata": {
    "collapsed": false
   },
   "outputs": [
    {
     "name": "stderr",
     "output_type": "stream",
     "text": [
      "[INFO] graphlab.cython.cy_server: GraphLab Create v2.1 started. Logging: /tmp/graphlab_server_1492928057.log\n"
     ]
    },
    {
     "name": "stdout",
     "output_type": "stream",
     "text": [
      "This non-commercial license of GraphLab Create for academic use is assigned to dchen@albany.edu and will expire on November 05, 2017.\n"
     ]
    },
    {
     "data": {
      "text/html": [
       "<pre>Finished parsing file /Users/Peter/NY.csv</pre>"
      ],
      "text/plain": [
       "Finished parsing file /Users/Peter/NY.csv"
      ]
     },
     "metadata": {},
     "output_type": "display_data"
    },
    {
     "data": {
      "text/html": [
       "<pre>Parsing completed. Parsed 100 lines in 0.231489 secs.</pre>"
      ],
      "text/plain": [
       "Parsing completed. Parsed 100 lines in 0.231489 secs."
      ]
     },
     "metadata": {},
     "output_type": "display_data"
    },
    {
     "name": "stdout",
     "output_type": "stream",
     "text": [
      "------------------------------------------------------\n",
      "Inferred types from first 100 line(s) of file as \n",
      "column_type_hints=[str,str,int,float,float,str,str,str,str,int,int,str,int,str,str]\n",
      "If parsing fails due to incorrect types, you can correct\n",
      "the inferred type list above and pass it to read_csv in\n",
      "the column_type_hints argument\n",
      "------------------------------------------------------\n"
     ]
    },
    {
     "data": {
      "text/html": [
       "<pre>Finished parsing file /Users/Peter/NY.csv</pre>"
      ],
      "text/plain": [
       "Finished parsing file /Users/Peter/NY.csv"
      ]
     },
     "metadata": {},
     "output_type": "display_data"
    },
    {
     "data": {
      "text/html": [
       "<pre>Parsing completed. Parsed 26382 lines in 0.176974 secs.</pre>"
      ],
      "text/plain": [
       "Parsing completed. Parsed 26382 lines in 0.176974 secs."
      ]
     },
     "metadata": {},
     "output_type": "display_data"
    },
    {
     "data": {
      "text/html": [
       "<pre>Finished parsing file /Users/Peter/Boston.csv</pre>"
      ],
      "text/plain": [
       "Finished parsing file /Users/Peter/Boston.csv"
      ]
     },
     "metadata": {},
     "output_type": "display_data"
    },
    {
     "data": {
      "text/html": [
       "<pre>Parsing completed. Parsed 100 lines in 0.069274 secs.</pre>"
      ],
      "text/plain": [
       "Parsing completed. Parsed 100 lines in 0.069274 secs."
      ]
     },
     "metadata": {},
     "output_type": "display_data"
    },
    {
     "name": "stdout",
     "output_type": "stream",
     "text": [
      "------------------------------------------------------\n",
      "Inferred types from first 100 line(s) of file as \n",
      "column_type_hints=[str,str,int,float,float,str,str,str,str,int,str,str,int,str,str]\n",
      "If parsing fails due to incorrect types, you can correct\n",
      "the inferred type list above and pass it to read_csv in\n",
      "the column_type_hints argument\n",
      "------------------------------------------------------\n"
     ]
    },
    {
     "data": {
      "text/html": [
       "<pre>Finished parsing file /Users/Peter/Boston.csv</pre>"
      ],
      "text/plain": [
       "Finished parsing file /Users/Peter/Boston.csv"
      ]
     },
     "metadata": {},
     "output_type": "display_data"
    },
    {
     "data": {
      "text/html": [
       "<pre>Parsing completed. Parsed 6474 lines in 0.050178 secs.</pre>"
      ],
      "text/plain": [
       "Parsing completed. Parsed 6474 lines in 0.050178 secs."
      ]
     },
     "metadata": {},
     "output_type": "display_data"
    },
    {
     "data": {
      "text/html": [
       "<pre>Finished parsing file /Users/Peter/Chicago.csv</pre>"
      ],
      "text/plain": [
       "Finished parsing file /Users/Peter/Chicago.csv"
      ]
     },
     "metadata": {},
     "output_type": "display_data"
    },
    {
     "data": {
      "text/html": [
       "<pre>Parsing completed. Parsed 100 lines in 0.075344 secs.</pre>"
      ],
      "text/plain": [
       "Parsing completed. Parsed 100 lines in 0.075344 secs."
      ]
     },
     "metadata": {},
     "output_type": "display_data"
    },
    {
     "name": "stdout",
     "output_type": "stream",
     "text": [
      "------------------------------------------------------\n",
      "Inferred types from first 100 line(s) of file as \n",
      "column_type_hints=[str,str,int,float,float,str,str,str,str,int,int,str,int,str,str]\n",
      "If parsing fails due to incorrect types, you can correct\n",
      "the inferred type list above and pass it to read_csv in\n",
      "the column_type_hints argument\n",
      "------------------------------------------------------\n"
     ]
    },
    {
     "data": {
      "text/html": [
       "<pre>Finished parsing file /Users/Peter/Chicago.csv</pre>"
      ],
      "text/plain": [
       "Finished parsing file /Users/Peter/Chicago.csv"
      ]
     },
     "metadata": {},
     "output_type": "display_data"
    },
    {
     "data": {
      "text/html": [
       "<pre>Parsing completed. Parsed 7051 lines in 0.048227 secs.</pre>"
      ],
      "text/plain": [
       "Parsing completed. Parsed 7051 lines in 0.048227 secs."
      ]
     },
     "metadata": {},
     "output_type": "display_data"
    }
   ],
   "source": [
    "hotels_NY = graphlab.SFrame('NY.csv') \n",
    "hotels_NY['price'] = hotels_NY['price'].astype(float)\n",
    "hotels_NY['rates'] = hotels_NY['rates'].astype(float)\n",
    "hotels_NY['zipcode'] = hotels_NY['zipcode'].astype(float)\n",
    "hotels_NY['guests'] = hotels_NY['guests'].astype(float)\n",
    "hotels_NY = hotels_NY[hotels_NY['price'] > 10]\n",
    "\n",
    "hotels_Boston = graphlab.SFrame('Boston.csv') \n",
    "hotels_Boston['price'] = hotels_Boston['price'].astype(float)\n",
    "hotels_Boston['rates'] = hotels_Boston['rates'].astype(float)\n",
    "hotels_Boston['zipcode'] = hotels_Boston['zipcode'].astype(float)\n",
    "hotels_Boston['guests'] = hotels_Boston['guests'].astype(float)\n",
    "hotels_Boston = hotels_Boston[hotels_Boston['price'] > 10]\n",
    "\n",
    "hotels_Chicago = graphlab.SFrame('Chicago.csv') \n",
    "hotels_Chicago['price'] = hotels_Chicago['price'].astype(float)\n",
    "hotels_Chicago['rates'] = hotels_Chicago['rates'].astype(float)\n",
    "hotels_Chicago['zipcode'] = hotels_Chicago['zipcode'].astype(float)\n",
    "hotels_Chicago['guests'] = hotels_Chicago['guests'].astype(float)\n",
    "hotels_Chicago = hotels_Chicago[hotels_Chicago['price'] > 10]"
   ]
  },
  {
   "cell_type": "code",
   "execution_count": null,
   "metadata": {
    "collapsed": false
   },
   "outputs": [],
   "source": []
  },
  {
   "cell_type": "code",
   "execution_count": 7,
   "metadata": {
    "collapsed": false
   },
   "outputs": [],
   "source": [
    "hotels_new = hotels_NY.join(hotels_Boston, how = 'outer')\n",
    "hotels_new = hotels_new.join(hotels_Chicago, how = 'outer')"
   ]
  },
  {
   "cell_type": "code",
   "execution_count": 8,
   "metadata": {
    "collapsed": false
   },
   "outputs": [
    {
     "data": {
      "text/html": [
       "<div style=\"max-height:1000px;max-width:1500px;overflow:auto;\"><table frame=\"box\" rules=\"cols\">\n",
       "    <tr>\n",
       "        <th style=\"padding-left: 1em; padding-right: 1em; text-align: center\">name</th>\n",
       "        <th style=\"padding-left: 1em; padding-right: 1em; text-align: center\">zone</th>\n",
       "        <th style=\"padding-left: 1em; padding-right: 1em; text-align: center\">zipcode</th>\n",
       "        <th style=\"padding-left: 1em; padding-right: 1em; text-align: center\">star</th>\n",
       "        <th style=\"padding-left: 1em; padding-right: 1em; text-align: center\">rating</th>\n",
       "        <th style=\"padding-left: 1em; padding-right: 1em; text-align: center\">rates</th>\n",
       "        <th style=\"padding-left: 1em; padding-right: 1em; text-align: center\">checkin</th>\n",
       "        <th style=\"padding-left: 1em; padding-right: 1em; text-align: center\">checkout</th>\n",
       "    </tr>\n",
       "    <tr>\n",
       "        <td style=\"padding-left: 1em; padding-right: 1em; text-align: center; vertical-align: top\">Courtyard New York<br>Downtown Manhattan/World ...</td>\n",
       "        <td style=\"padding-left: 1em; padding-right: 1em; text-align: center; vertical-align: top\">Wall Street - Financial<br>District ...</td>\n",
       "        <td style=\"padding-left: 1em; padding-right: 1em; text-align: center; vertical-align: top\">10006.0</td>\n",
       "        <td style=\"padding-left: 1em; padding-right: 1em; text-align: center; vertical-align: top\">3.0</td>\n",
       "        <td style=\"padding-left: 1em; padding-right: 1em; text-align: center; vertical-align: top\">4.3</td>\n",
       "        <td style=\"padding-left: 1em; padding-right: 1em; text-align: center; vertical-align: top\">46.0</td>\n",
       "        <td style=\"padding-left: 1em; padding-right: 1em; text-align: center; vertical-align: top\">04/21/2017</td>\n",
       "        <td style=\"padding-left: 1em; padding-right: 1em; text-align: center; vertical-align: top\">04/22/2017</td>\n",
       "    </tr>\n",
       "    <tr>\n",
       "        <td style=\"padding-left: 1em; padding-right: 1em; text-align: center; vertical-align: top\">Courtyard New York<br>Downtown Manhattan/World ...</td>\n",
       "        <td style=\"padding-left: 1em; padding-right: 1em; text-align: center; vertical-align: top\">Wall Street - Financial<br>District ...</td>\n",
       "        <td style=\"padding-left: 1em; padding-right: 1em; text-align: center; vertical-align: top\">10006.0</td>\n",
       "        <td style=\"padding-left: 1em; padding-right: 1em; text-align: center; vertical-align: top\">3.0</td>\n",
       "        <td style=\"padding-left: 1em; padding-right: 1em; text-align: center; vertical-align: top\">4.3</td>\n",
       "        <td style=\"padding-left: 1em; padding-right: 1em; text-align: center; vertical-align: top\">46.0</td>\n",
       "        <td style=\"padding-left: 1em; padding-right: 1em; text-align: center; vertical-align: top\">04/21/2017</td>\n",
       "        <td style=\"padding-left: 1em; padding-right: 1em; text-align: center; vertical-align: top\">04/22/2017</td>\n",
       "    </tr>\n",
       "    <tr>\n",
       "        <td style=\"padding-left: 1em; padding-right: 1em; text-align: center; vertical-align: top\">Courtyard New York<br>Downtown Manhattan/World ...</td>\n",
       "        <td style=\"padding-left: 1em; padding-right: 1em; text-align: center; vertical-align: top\">Wall Street - Financial<br>District ...</td>\n",
       "        <td style=\"padding-left: 1em; padding-right: 1em; text-align: center; vertical-align: top\">10006.0</td>\n",
       "        <td style=\"padding-left: 1em; padding-right: 1em; text-align: center; vertical-align: top\">3.0</td>\n",
       "        <td style=\"padding-left: 1em; padding-right: 1em; text-align: center; vertical-align: top\">4.3</td>\n",
       "        <td style=\"padding-left: 1em; padding-right: 1em; text-align: center; vertical-align: top\">46.0</td>\n",
       "        <td style=\"padding-left: 1em; padding-right: 1em; text-align: center; vertical-align: top\">04/21/2017</td>\n",
       "        <td style=\"padding-left: 1em; padding-right: 1em; text-align: center; vertical-align: top\">04/22/2017</td>\n",
       "    </tr>\n",
       "    <tr>\n",
       "        <td style=\"padding-left: 1em; padding-right: 1em; text-align: center; vertical-align: top\">Courtyard New York<br>Downtown Manhattan/World ...</td>\n",
       "        <td style=\"padding-left: 1em; padding-right: 1em; text-align: center; vertical-align: top\">Wall Street - Financial<br>District ...</td>\n",
       "        <td style=\"padding-left: 1em; padding-right: 1em; text-align: center; vertical-align: top\">10006.0</td>\n",
       "        <td style=\"padding-left: 1em; padding-right: 1em; text-align: center; vertical-align: top\">3.0</td>\n",
       "        <td style=\"padding-left: 1em; padding-right: 1em; text-align: center; vertical-align: top\">4.3</td>\n",
       "        <td style=\"padding-left: 1em; padding-right: 1em; text-align: center; vertical-align: top\">46.0</td>\n",
       "        <td style=\"padding-left: 1em; padding-right: 1em; text-align: center; vertical-align: top\">04/21/2017</td>\n",
       "        <td style=\"padding-left: 1em; padding-right: 1em; text-align: center; vertical-align: top\">04/22/2017</td>\n",
       "    </tr>\n",
       "    <tr>\n",
       "        <td style=\"padding-left: 1em; padding-right: 1em; text-align: center; vertical-align: top\">Courtyard New York<br>Downtown Manhattan/World ...</td>\n",
       "        <td style=\"padding-left: 1em; padding-right: 1em; text-align: center; vertical-align: top\">Wall Street - Financial<br>District ...</td>\n",
       "        <td style=\"padding-left: 1em; padding-right: 1em; text-align: center; vertical-align: top\">10006.0</td>\n",
       "        <td style=\"padding-left: 1em; padding-right: 1em; text-align: center; vertical-align: top\">3.0</td>\n",
       "        <td style=\"padding-left: 1em; padding-right: 1em; text-align: center; vertical-align: top\">4.3</td>\n",
       "        <td style=\"padding-left: 1em; padding-right: 1em; text-align: center; vertical-align: top\">46.0</td>\n",
       "        <td style=\"padding-left: 1em; padding-right: 1em; text-align: center; vertical-align: top\">04/21/2017</td>\n",
       "        <td style=\"padding-left: 1em; padding-right: 1em; text-align: center; vertical-align: top\">04/22/2017</td>\n",
       "    </tr>\n",
       "    <tr>\n",
       "        <td style=\"padding-left: 1em; padding-right: 1em; text-align: center; vertical-align: top\">Courtyard New York<br>Downtown Manhattan/World ...</td>\n",
       "        <td style=\"padding-left: 1em; padding-right: 1em; text-align: center; vertical-align: top\">Wall Street - Financial<br>District ...</td>\n",
       "        <td style=\"padding-left: 1em; padding-right: 1em; text-align: center; vertical-align: top\">10006.0</td>\n",
       "        <td style=\"padding-left: 1em; padding-right: 1em; text-align: center; vertical-align: top\">3.0</td>\n",
       "        <td style=\"padding-left: 1em; padding-right: 1em; text-align: center; vertical-align: top\">4.3</td>\n",
       "        <td style=\"padding-left: 1em; padding-right: 1em; text-align: center; vertical-align: top\">46.0</td>\n",
       "        <td style=\"padding-left: 1em; padding-right: 1em; text-align: center; vertical-align: top\">04/21/2017</td>\n",
       "        <td style=\"padding-left: 1em; padding-right: 1em; text-align: center; vertical-align: top\">04/22/2017</td>\n",
       "    </tr>\n",
       "    <tr>\n",
       "        <td style=\"padding-left: 1em; padding-right: 1em; text-align: center; vertical-align: top\">Park Lane Hotel</td>\n",
       "        <td style=\"padding-left: 1em; padding-right: 1em; text-align: center; vertical-align: top\">Central Park</td>\n",
       "        <td style=\"padding-left: 1em; padding-right: 1em; text-align: center; vertical-align: top\">10019.0</td>\n",
       "        <td style=\"padding-left: 1em; padding-right: 1em; text-align: center; vertical-align: top\">4.0</td>\n",
       "        <td style=\"padding-left: 1em; padding-right: 1em; text-align: center; vertical-align: top\">4.0</td>\n",
       "        <td style=\"padding-left: 1em; padding-right: 1em; text-align: center; vertical-align: top\">6.0</td>\n",
       "        <td style=\"padding-left: 1em; padding-right: 1em; text-align: center; vertical-align: top\">04/21/2017</td>\n",
       "        <td style=\"padding-left: 1em; padding-right: 1em; text-align: center; vertical-align: top\">04/22/2017</td>\n",
       "    </tr>\n",
       "    <tr>\n",
       "        <td style=\"padding-left: 1em; padding-right: 1em; text-align: center; vertical-align: top\">Park Lane Hotel</td>\n",
       "        <td style=\"padding-left: 1em; padding-right: 1em; text-align: center; vertical-align: top\">Central Park</td>\n",
       "        <td style=\"padding-left: 1em; padding-right: 1em; text-align: center; vertical-align: top\">10019.0</td>\n",
       "        <td style=\"padding-left: 1em; padding-right: 1em; text-align: center; vertical-align: top\">4.0</td>\n",
       "        <td style=\"padding-left: 1em; padding-right: 1em; text-align: center; vertical-align: top\">4.0</td>\n",
       "        <td style=\"padding-left: 1em; padding-right: 1em; text-align: center; vertical-align: top\">6.0</td>\n",
       "        <td style=\"padding-left: 1em; padding-right: 1em; text-align: center; vertical-align: top\">04/21/2017</td>\n",
       "        <td style=\"padding-left: 1em; padding-right: 1em; text-align: center; vertical-align: top\">04/22/2017</td>\n",
       "    </tr>\n",
       "    <tr>\n",
       "        <td style=\"padding-left: 1em; padding-right: 1em; text-align: center; vertical-align: top\">Park Lane Hotel</td>\n",
       "        <td style=\"padding-left: 1em; padding-right: 1em; text-align: center; vertical-align: top\">Central Park</td>\n",
       "        <td style=\"padding-left: 1em; padding-right: 1em; text-align: center; vertical-align: top\">10019.0</td>\n",
       "        <td style=\"padding-left: 1em; padding-right: 1em; text-align: center; vertical-align: top\">4.0</td>\n",
       "        <td style=\"padding-left: 1em; padding-right: 1em; text-align: center; vertical-align: top\">4.0</td>\n",
       "        <td style=\"padding-left: 1em; padding-right: 1em; text-align: center; vertical-align: top\">6.0</td>\n",
       "        <td style=\"padding-left: 1em; padding-right: 1em; text-align: center; vertical-align: top\">04/21/2017</td>\n",
       "        <td style=\"padding-left: 1em; padding-right: 1em; text-align: center; vertical-align: top\">04/22/2017</td>\n",
       "    </tr>\n",
       "    <tr>\n",
       "        <td style=\"padding-left: 1em; padding-right: 1em; text-align: center; vertical-align: top\">The Belvedere Hotel</td>\n",
       "        <td style=\"padding-left: 1em; padding-right: 1em; text-align: center; vertical-align: top\">Broadway - Times Square</td>\n",
       "        <td style=\"padding-left: 1em; padding-right: 1em; text-align: center; vertical-align: top\">10036.0</td>\n",
       "        <td style=\"padding-left: 1em; padding-right: 1em; text-align: center; vertical-align: top\">3.5</td>\n",
       "        <td style=\"padding-left: 1em; padding-right: 1em; text-align: center; vertical-align: top\">4.2</td>\n",
       "        <td style=\"padding-left: 1em; padding-right: 1em; text-align: center; vertical-align: top\">16.0</td>\n",
       "        <td style=\"padding-left: 1em; padding-right: 1em; text-align: center; vertical-align: top\">04/21/2017</td>\n",
       "        <td style=\"padding-left: 1em; padding-right: 1em; text-align: center; vertical-align: top\">04/22/2017</td>\n",
       "    </tr>\n",
       "</table>\n",
       "<table frame=\"box\" rules=\"cols\">\n",
       "    <tr>\n",
       "        <th style=\"padding-left: 1em; padding-right: 1em; text-align: center\">room</th>\n",
       "        <th style=\"padding-left: 1em; padding-right: 1em; text-align: center\">size</th>\n",
       "        <th style=\"padding-left: 1em; padding-right: 1em; text-align: center\">price</th>\n",
       "        <th style=\"padding-left: 1em; padding-right: 1em; text-align: center\">bed</th>\n",
       "        <th style=\"padding-left: 1em; padding-right: 1em; text-align: center\">guests</th>\n",
       "        <th style=\"padding-left: 1em; padding-right: 1em; text-align: center\">address</th>\n",
       "    </tr>\n",
       "    <tr>\n",
       "        <td style=\"padding-left: 1em; padding-right: 1em; text-align: center; vertical-align: top\">Room, 1 King Bed</td>\n",
       "        <td style=\"padding-left: 1em; padding-right: 1em; text-align: center; vertical-align: top\">245</td>\n",
       "        <td style=\"padding-left: 1em; padding-right: 1em; text-align: center; vertical-align: top\">220.0</td>\n",
       "        <td style=\"padding-left: 1em; padding-right: 1em; text-align: center; vertical-align: top\">1 King Bed</td>\n",
       "        <td style=\"padding-left: 1em; padding-right: 1em; text-align: center; vertical-align: top\">2.0</td>\n",
       "        <td style=\"padding-left: 1em; padding-right: 1em; text-align: center; vertical-align: top\">Greenwich Street</td>\n",
       "    </tr>\n",
       "    <tr>\n",
       "        <td style=\"padding-left: 1em; padding-right: 1em; text-align: center; vertical-align: top\">Room, 1 King Bed</td>\n",
       "        <td style=\"padding-left: 1em; padding-right: 1em; text-align: center; vertical-align: top\">245</td>\n",
       "        <td style=\"padding-left: 1em; padding-right: 1em; text-align: center; vertical-align: top\">289.0</td>\n",
       "        <td style=\"padding-left: 1em; padding-right: 1em; text-align: center; vertical-align: top\">1 King Bed</td>\n",
       "        <td style=\"padding-left: 1em; padding-right: 1em; text-align: center; vertical-align: top\">2.0</td>\n",
       "        <td style=\"padding-left: 1em; padding-right: 1em; text-align: center; vertical-align: top\">Greenwich Street</td>\n",
       "    </tr>\n",
       "    <tr>\n",
       "        <td style=\"padding-left: 1em; padding-right: 1em; text-align: center; vertical-align: top\">Room, 1 King Bed, Harbor<br>View ...</td>\n",
       "        <td style=\"padding-left: 1em; padding-right: 1em; text-align: center; vertical-align: top\">245</td>\n",
       "        <td style=\"padding-left: 1em; padding-right: 1em; text-align: center; vertical-align: top\">224.0</td>\n",
       "        <td style=\"padding-left: 1em; padding-right: 1em; text-align: center; vertical-align: top\">1 King Bed</td>\n",
       "        <td style=\"padding-left: 1em; padding-right: 1em; text-align: center; vertical-align: top\">2.0</td>\n",
       "        <td style=\"padding-left: 1em; padding-right: 1em; text-align: center; vertical-align: top\">Greenwich Street</td>\n",
       "    </tr>\n",
       "    <tr>\n",
       "        <td style=\"padding-left: 1em; padding-right: 1em; text-align: center; vertical-align: top\">Room, 1 King Bed, Harbor<br>View ...</td>\n",
       "        <td style=\"padding-left: 1em; padding-right: 1em; text-align: center; vertical-align: top\">245</td>\n",
       "        <td style=\"padding-left: 1em; padding-right: 1em; text-align: center; vertical-align: top\">294.0</td>\n",
       "        <td style=\"padding-left: 1em; padding-right: 1em; text-align: center; vertical-align: top\">1 King Bed</td>\n",
       "        <td style=\"padding-left: 1em; padding-right: 1em; text-align: center; vertical-align: top\">2.0</td>\n",
       "        <td style=\"padding-left: 1em; padding-right: 1em; text-align: center; vertical-align: top\">Greenwich Street</td>\n",
       "    </tr>\n",
       "    <tr>\n",
       "        <td style=\"padding-left: 1em; padding-right: 1em; text-align: center; vertical-align: top\">Room, 1 King Bed, View</td>\n",
       "        <td style=\"padding-left: 1em; padding-right: 1em; text-align: center; vertical-align: top\">251</td>\n",
       "        <td style=\"padding-left: 1em; padding-right: 1em; text-align: center; vertical-align: top\">246.0</td>\n",
       "        <td style=\"padding-left: 1em; padding-right: 1em; text-align: center; vertical-align: top\">1 King Bed</td>\n",
       "        <td style=\"padding-left: 1em; padding-right: 1em; text-align: center; vertical-align: top\">2.0</td>\n",
       "        <td style=\"padding-left: 1em; padding-right: 1em; text-align: center; vertical-align: top\">Greenwich Street</td>\n",
       "    </tr>\n",
       "    <tr>\n",
       "        <td style=\"padding-left: 1em; padding-right: 1em; text-align: center; vertical-align: top\">Room, 1 King Bed, View</td>\n",
       "        <td style=\"padding-left: 1em; padding-right: 1em; text-align: center; vertical-align: top\">251</td>\n",
       "        <td style=\"padding-left: 1em; padding-right: 1em; text-align: center; vertical-align: top\">319.0</td>\n",
       "        <td style=\"padding-left: 1em; padding-right: 1em; text-align: center; vertical-align: top\">1 King Bed</td>\n",
       "        <td style=\"padding-left: 1em; padding-right: 1em; text-align: center; vertical-align: top\">2.0</td>\n",
       "        <td style=\"padding-left: 1em; padding-right: 1em; text-align: center; vertical-align: top\">Greenwich Street</td>\n",
       "    </tr>\n",
       "    <tr>\n",
       "        <td style=\"padding-left: 1em; padding-right: 1em; text-align: center; vertical-align: top\">Executive, One Queen Bed,<br>City View ...</td>\n",
       "        <td style=\"padding-left: 1em; padding-right: 1em; text-align: center; vertical-align: top\">312</td>\n",
       "        <td style=\"padding-left: 1em; padding-right: 1em; text-align: center; vertical-align: top\">179.0</td>\n",
       "        <td style=\"padding-left: 1em; padding-right: 1em; text-align: center; vertical-align: top\">1 Queen Bed</td>\n",
       "        <td style=\"padding-left: 1em; padding-right: 1em; text-align: center; vertical-align: top\">2.0</td>\n",
       "        <td style=\"padding-left: 1em; padding-right: 1em; text-align: center; vertical-align: top\">Central Park S</td>\n",
       "    </tr>\n",
       "    <tr>\n",
       "        <td style=\"padding-left: 1em; padding-right: 1em; text-align: center; vertical-align: top\">Premier City View<br>Queen/King ...</td>\n",
       "        <td style=\"padding-left: 1em; padding-right: 1em; text-align: center; vertical-align: top\">312</td>\n",
       "        <td style=\"padding-left: 1em; padding-right: 1em; text-align: center; vertical-align: top\">189.0</td>\n",
       "        <td style=\"padding-left: 1em; padding-right: 1em; text-align: center; vertical-align: top\">1 King Bed or 1 Queen Bed</td>\n",
       "        <td style=\"padding-left: 1em; padding-right: 1em; text-align: center; vertical-align: top\">2.0</td>\n",
       "        <td style=\"padding-left: 1em; padding-right: 1em; text-align: center; vertical-align: top\">Central Park S</td>\n",
       "    </tr>\n",
       "    <tr>\n",
       "        <td style=\"padding-left: 1em; padding-right: 1em; text-align: center; vertical-align: top\">Executive, One King Bed,<br>City View ...</td>\n",
       "        <td style=\"padding-left: 1em; padding-right: 1em; text-align: center; vertical-align: top\">331</td>\n",
       "        <td style=\"padding-left: 1em; padding-right: 1em; text-align: center; vertical-align: top\">194.0</td>\n",
       "        <td style=\"padding-left: 1em; padding-right: 1em; text-align: center; vertical-align: top\">1 King Bed</td>\n",
       "        <td style=\"padding-left: 1em; padding-right: 1em; text-align: center; vertical-align: top\">2.0</td>\n",
       "        <td style=\"padding-left: 1em; padding-right: 1em; text-align: center; vertical-align: top\">Central Park S</td>\n",
       "    </tr>\n",
       "    <tr>\n",
       "        <td style=\"padding-left: 1em; padding-right: 1em; text-align: center; vertical-align: top\">Deluxe Room, 1 King Bed</td>\n",
       "        <td style=\"padding-left: 1em; padding-right: 1em; text-align: center; vertical-align: top\">300</td>\n",
       "        <td style=\"padding-left: 1em; padding-right: 1em; text-align: center; vertical-align: top\">159.0</td>\n",
       "        <td style=\"padding-left: 1em; padding-right: 1em; text-align: center; vertical-align: top\">1 King Bed</td>\n",
       "        <td style=\"padding-left: 1em; padding-right: 1em; text-align: center; vertical-align: top\">2.0</td>\n",
       "        <td style=\"padding-left: 1em; padding-right: 1em; text-align: center; vertical-align: top\">W 48th St</td>\n",
       "    </tr>\n",
       "</table>\n",
       "<table frame=\"box\" rules=\"cols\">\n",
       "    <tr>\n",
       "        <th style=\"padding-left: 1em; padding-right: 1em; text-align: center\">link</th>\n",
       "        <th style=\"padding-left: 1em; padding-right: 1em; text-align: center\">size_sqrt</th>\n",
       "        <th style=\"padding-left: 1em; padding-right: 1em; text-align: center\">star_squared</th>\n",
       "        <th style=\"padding-left: 1em; padding-right: 1em; text-align: center\">rates_rating</th>\n",
       "    </tr>\n",
       "    <tr>\n",
       "        <td style=\"padding-left: 1em; padding-right: 1em; text-align: center; vertical-align: top\">https://www.expedia.com<br>/Wall-Street-Financial- ...</td>\n",
       "        <td style=\"padding-left: 1em; padding-right: 1em; text-align: center; vertical-align: top\">15.6524758425</td>\n",
       "        <td style=\"padding-left: 1em; padding-right: 1em; text-align: center; vertical-align: top\">9.0</td>\n",
       "        <td style=\"padding-left: 1em; padding-right: 1em; text-align: center; vertical-align: top\">197.8</td>\n",
       "    </tr>\n",
       "    <tr>\n",
       "        <td style=\"padding-left: 1em; padding-right: 1em; text-align: center; vertical-align: top\">https://www.expedia.com<br>/Wall-Street-Financial- ...</td>\n",
       "        <td style=\"padding-left: 1em; padding-right: 1em; text-align: center; vertical-align: top\">15.6524758425</td>\n",
       "        <td style=\"padding-left: 1em; padding-right: 1em; text-align: center; vertical-align: top\">9.0</td>\n",
       "        <td style=\"padding-left: 1em; padding-right: 1em; text-align: center; vertical-align: top\">197.8</td>\n",
       "    </tr>\n",
       "    <tr>\n",
       "        <td style=\"padding-left: 1em; padding-right: 1em; text-align: center; vertical-align: top\">https://www.expedia.com<br>/Wall-Street-Financial- ...</td>\n",
       "        <td style=\"padding-left: 1em; padding-right: 1em; text-align: center; vertical-align: top\">15.6524758425</td>\n",
       "        <td style=\"padding-left: 1em; padding-right: 1em; text-align: center; vertical-align: top\">9.0</td>\n",
       "        <td style=\"padding-left: 1em; padding-right: 1em; text-align: center; vertical-align: top\">197.8</td>\n",
       "    </tr>\n",
       "    <tr>\n",
       "        <td style=\"padding-left: 1em; padding-right: 1em; text-align: center; vertical-align: top\">https://www.expedia.com<br>/Wall-Street-Financial- ...</td>\n",
       "        <td style=\"padding-left: 1em; padding-right: 1em; text-align: center; vertical-align: top\">15.6524758425</td>\n",
       "        <td style=\"padding-left: 1em; padding-right: 1em; text-align: center; vertical-align: top\">9.0</td>\n",
       "        <td style=\"padding-left: 1em; padding-right: 1em; text-align: center; vertical-align: top\">197.8</td>\n",
       "    </tr>\n",
       "    <tr>\n",
       "        <td style=\"padding-left: 1em; padding-right: 1em; text-align: center; vertical-align: top\">https://www.expedia.com<br>/Wall-Street-Financial- ...</td>\n",
       "        <td style=\"padding-left: 1em; padding-right: 1em; text-align: center; vertical-align: top\">15.8429795178</td>\n",
       "        <td style=\"padding-left: 1em; padding-right: 1em; text-align: center; vertical-align: top\">9.0</td>\n",
       "        <td style=\"padding-left: 1em; padding-right: 1em; text-align: center; vertical-align: top\">197.8</td>\n",
       "    </tr>\n",
       "    <tr>\n",
       "        <td style=\"padding-left: 1em; padding-right: 1em; text-align: center; vertical-align: top\">https://www.expedia.com<br>/Wall-Street-Financial- ...</td>\n",
       "        <td style=\"padding-left: 1em; padding-right: 1em; text-align: center; vertical-align: top\">15.8429795178</td>\n",
       "        <td style=\"padding-left: 1em; padding-right: 1em; text-align: center; vertical-align: top\">9.0</td>\n",
       "        <td style=\"padding-left: 1em; padding-right: 1em; text-align: center; vertical-align: top\">197.8</td>\n",
       "    </tr>\n",
       "    <tr>\n",
       "        <td style=\"padding-left: 1em; padding-right: 1em; text-align: center; vertical-align: top\">https://www.expedia.com<br>/New-York-Hotels-Park- ...</td>\n",
       "        <td style=\"padding-left: 1em; padding-right: 1em; text-align: center; vertical-align: top\">17.6635217327</td>\n",
       "        <td style=\"padding-left: 1em; padding-right: 1em; text-align: center; vertical-align: top\">16.0</td>\n",
       "        <td style=\"padding-left: 1em; padding-right: 1em; text-align: center; vertical-align: top\">24.0</td>\n",
       "    </tr>\n",
       "    <tr>\n",
       "        <td style=\"padding-left: 1em; padding-right: 1em; text-align: center; vertical-align: top\">https://www.expedia.com<br>/New-York-Hotels-Park- ...</td>\n",
       "        <td style=\"padding-left: 1em; padding-right: 1em; text-align: center; vertical-align: top\">17.6635217327</td>\n",
       "        <td style=\"padding-left: 1em; padding-right: 1em; text-align: center; vertical-align: top\">16.0</td>\n",
       "        <td style=\"padding-left: 1em; padding-right: 1em; text-align: center; vertical-align: top\">24.0</td>\n",
       "    </tr>\n",
       "    <tr>\n",
       "        <td style=\"padding-left: 1em; padding-right: 1em; text-align: center; vertical-align: top\">https://www.expedia.com<br>/New-York-Hotels-Park- ...</td>\n",
       "        <td style=\"padding-left: 1em; padding-right: 1em; text-align: center; vertical-align: top\">18.1934053987</td>\n",
       "        <td style=\"padding-left: 1em; padding-right: 1em; text-align: center; vertical-align: top\">16.0</td>\n",
       "        <td style=\"padding-left: 1em; padding-right: 1em; text-align: center; vertical-align: top\">24.0</td>\n",
       "    </tr>\n",
       "    <tr>\n",
       "        <td style=\"padding-left: 1em; padding-right: 1em; text-align: center; vertical-align: top\">https://www.expedia.com<br>/New-York-Hotels-The- ...</td>\n",
       "        <td style=\"padding-left: 1em; padding-right: 1em; text-align: center; vertical-align: top\">17.3205080757</td>\n",
       "        <td style=\"padding-left: 1em; padding-right: 1em; text-align: center; vertical-align: top\">12.25</td>\n",
       "        <td style=\"padding-left: 1em; padding-right: 1em; text-align: center; vertical-align: top\">67.2</td>\n",
       "    </tr>\n",
       "</table>\n",
       "[38500 rows x 18 columns]<br/>Note: Only the head of the SFrame is printed.<br/>You can use print_rows(num_rows=m, num_columns=n) to print more rows and columns.\n",
       "</div>"
      ],
      "text/plain": [
       "Columns:\n",
       "\tname\tstr\n",
       "\tzone\tstr\n",
       "\tzipcode\tfloat\n",
       "\tstar\tfloat\n",
       "\trating\tfloat\n",
       "\trates\tfloat\n",
       "\tcheckin\tstr\n",
       "\tcheckout\tstr\n",
       "\troom\tstr\n",
       "\tsize\tint\n",
       "\tprice\tfloat\n",
       "\tbed\tstr\n",
       "\tguests\tfloat\n",
       "\taddress\tstr\n",
       "\tlink\tstr\n",
       "\tsize_sqrt\tfloat\n",
       "\tstar_squared\tfloat\n",
       "\trates_rating\tfloat\n",
       "\n",
       "Rows: 38500\n",
       "\n",
       "Data:\n",
       "+-------------------------------+-------------------------------+---------+------+\n",
       "|              name             |              zone             | zipcode | star |\n",
       "+-------------------------------+-------------------------------+---------+------+\n",
       "| Courtyard New York Downtow... | Wall Street - Financial Di... | 10006.0 | 3.0  |\n",
       "| Courtyard New York Downtow... | Wall Street - Financial Di... | 10006.0 | 3.0  |\n",
       "| Courtyard New York Downtow... | Wall Street - Financial Di... | 10006.0 | 3.0  |\n",
       "| Courtyard New York Downtow... | Wall Street - Financial Di... | 10006.0 | 3.0  |\n",
       "| Courtyard New York Downtow... | Wall Street - Financial Di... | 10006.0 | 3.0  |\n",
       "| Courtyard New York Downtow... | Wall Street - Financial Di... | 10006.0 | 3.0  |\n",
       "|        Park Lane Hotel        |          Central Park         | 10019.0 | 4.0  |\n",
       "|        Park Lane Hotel        |          Central Park         | 10019.0 | 4.0  |\n",
       "|        Park Lane Hotel        |          Central Park         | 10019.0 | 4.0  |\n",
       "|      The Belvedere Hotel      |    Broadway - Times Square    | 10036.0 | 3.5  |\n",
       "+-------------------------------+-------------------------------+---------+------+\n",
       "+--------+-------+------------+------------+-------------------------------+------+\n",
       "| rating | rates |  checkin   |  checkout  |              room             | size |\n",
       "+--------+-------+------------+------------+-------------------------------+------+\n",
       "|  4.3   |  46.0 | 04/21/2017 | 04/22/2017 |        Room, 1 King Bed       | 245  |\n",
       "|  4.3   |  46.0 | 04/21/2017 | 04/22/2017 |        Room, 1 King Bed       | 245  |\n",
       "|  4.3   |  46.0 | 04/21/2017 | 04/22/2017 | Room, 1 King Bed, Harbor View | 245  |\n",
       "|  4.3   |  46.0 | 04/21/2017 | 04/22/2017 | Room, 1 King Bed, Harbor View | 245  |\n",
       "|  4.3   |  46.0 | 04/21/2017 | 04/22/2017 |     Room, 1 King Bed, View    | 251  |\n",
       "|  4.3   |  46.0 | 04/21/2017 | 04/22/2017 |     Room, 1 King Bed, View    | 251  |\n",
       "|  4.0   |  6.0  | 04/21/2017 | 04/22/2017 | Executive, One Queen Bed, ... | 312  |\n",
       "|  4.0   |  6.0  | 04/21/2017 | 04/22/2017 |  Premier City View Queen/King | 312  |\n",
       "|  4.0   |  6.0  | 04/21/2017 | 04/22/2017 | Executive, One King Bed, C... | 331  |\n",
       "|  4.2   |  16.0 | 04/21/2017 | 04/22/2017 |    Deluxe Room, 1 King Bed    | 300  |\n",
       "+--------+-------+------------+------------+-------------------------------+------+\n",
       "+-------+---------------------------+--------+------------------+\n",
       "| price |            bed            | guests |     address      |\n",
       "+-------+---------------------------+--------+------------------+\n",
       "| 220.0 |         1 King Bed        |  2.0   | Greenwich Street |\n",
       "| 289.0 |         1 King Bed        |  2.0   | Greenwich Street |\n",
       "| 224.0 |         1 King Bed        |  2.0   | Greenwich Street |\n",
       "| 294.0 |         1 King Bed        |  2.0   | Greenwich Street |\n",
       "| 246.0 |         1 King Bed        |  2.0   | Greenwich Street |\n",
       "| 319.0 |         1 King Bed        |  2.0   | Greenwich Street |\n",
       "| 179.0 |        1 Queen Bed        |  2.0   |  Central Park S  |\n",
       "| 189.0 | 1 King Bed or 1 Queen Bed |  2.0   |  Central Park S  |\n",
       "| 194.0 |         1 King Bed        |  2.0   |  Central Park S  |\n",
       "| 159.0 |         1 King Bed        |  2.0   |    W 48th St     |\n",
       "+-------+---------------------------+--------+------------------+\n",
       "+-------------------------------+---------------+--------------+--------------+\n",
       "|              link             |   size_sqrt   | star_squared | rates_rating |\n",
       "+-------------------------------+---------------+--------------+--------------+\n",
       "| https://www.expedia.com/Wa... | 15.6524758425 |     9.0      |    197.8     |\n",
       "| https://www.expedia.com/Wa... | 15.6524758425 |     9.0      |    197.8     |\n",
       "| https://www.expedia.com/Wa... | 15.6524758425 |     9.0      |    197.8     |\n",
       "| https://www.expedia.com/Wa... | 15.6524758425 |     9.0      |    197.8     |\n",
       "| https://www.expedia.com/Wa... | 15.8429795178 |     9.0      |    197.8     |\n",
       "| https://www.expedia.com/Wa... | 15.8429795178 |     9.0      |    197.8     |\n",
       "| https://www.expedia.com/Ne... | 17.6635217327 |     16.0     |     24.0     |\n",
       "| https://www.expedia.com/Ne... | 17.6635217327 |     16.0     |     24.0     |\n",
       "| https://www.expedia.com/Ne... | 18.1934053987 |     16.0     |     24.0     |\n",
       "| https://www.expedia.com/Ne... | 17.3205080757 |    12.25     |     67.2     |\n",
       "+-------------------------------+---------------+--------------+--------------+\n",
       "[38500 rows x 18 columns]\n",
       "Note: Only the head of the SFrame is printed.\n",
       "You can use print_rows(num_rows=m, num_columns=n) to print more rows and columns."
      ]
     },
     "execution_count": 8,
     "metadata": {},
     "output_type": "execute_result"
    }
   ],
   "source": [
    "from math import log, sqrt\n",
    "hotels_new['size_sqrt'] = hotels_new['size'].apply(sqrt)\n",
    "hotels_new['star_squared'] = hotels_new['star']*hotels_new['star']\n",
    "hotels_new['rates_rating'] = hotels_new['rates']*hotels_new['rating']\n",
    "# drop na values\n",
    "# sf_filter = sf[(sf['carrier'] == 'US')]\n",
    "#hotels = hotels[hotels['name'] != 'FieldHouse Jones']\n",
    "hotels_new"
   ]
  },
  {
   "cell_type": "code",
   "execution_count": 9,
   "metadata": {
    "collapsed": false
   },
   "outputs": [
    {
     "data": {
      "text/html": [
       "<pre>Linear regression:</pre>"
      ],
      "text/plain": [
       "Linear regression:"
      ]
     },
     "metadata": {},
     "output_type": "display_data"
    },
    {
     "data": {
      "text/html": [
       "<pre>--------------------------------------------------------</pre>"
      ],
      "text/plain": [
       "--------------------------------------------------------"
      ]
     },
     "metadata": {},
     "output_type": "display_data"
    },
    {
     "data": {
      "text/html": [
       "<pre>Number of examples          : 38496</pre>"
      ],
      "text/plain": [
       "Number of examples          : 38496"
      ]
     },
     "metadata": {},
     "output_type": "display_data"
    },
    {
     "data": {
      "text/html": [
       "<pre>Number of features          : 9</pre>"
      ],
      "text/plain": [
       "Number of features          : 9"
      ]
     },
     "metadata": {},
     "output_type": "display_data"
    },
    {
     "data": {
      "text/html": [
       "<pre>Number of unpacked features : 9</pre>"
      ],
      "text/plain": [
       "Number of unpacked features : 9"
      ]
     },
     "metadata": {},
     "output_type": "display_data"
    },
    {
     "data": {
      "text/html": [
       "<pre>Number of coefficients    : 10</pre>"
      ],
      "text/plain": [
       "Number of coefficients    : 10"
      ]
     },
     "metadata": {},
     "output_type": "display_data"
    },
    {
     "data": {
      "text/html": [
       "<pre>Starting Accelerated Gradient (FISTA)</pre>"
      ],
      "text/plain": [
       "Starting Accelerated Gradient (FISTA)"
      ]
     },
     "metadata": {},
     "output_type": "display_data"
    },
    {
     "data": {
      "text/html": [
       "<pre>--------------------------------------------------------</pre>"
      ],
      "text/plain": [
       "--------------------------------------------------------"
      ]
     },
     "metadata": {},
     "output_type": "display_data"
    },
    {
     "data": {
      "text/html": [
       "<pre>+-----------+----------+-----------+--------------+--------------------+---------------+</pre>"
      ],
      "text/plain": [
       "+-----------+----------+-----------+--------------+--------------------+---------------+"
      ]
     },
     "metadata": {},
     "output_type": "display_data"
    },
    {
     "data": {
      "text/html": [
       "<pre>| Iteration | Passes   | Step size | Elapsed Time | Training-max_error | Training-rmse |</pre>"
      ],
      "text/plain": [
       "| Iteration | Passes   | Step size | Elapsed Time | Training-max_error | Training-rmse |"
      ]
     },
     "metadata": {},
     "output_type": "display_data"
    },
    {
     "data": {
      "text/html": [
       "<pre>+-----------+----------+-----------+--------------+--------------------+---------------+</pre>"
      ],
      "text/plain": [
       "+-----------+----------+-----------+--------------+--------------------+---------------+"
      ]
     },
     "metadata": {},
     "output_type": "display_data"
    },
    {
     "data": {
      "text/html": [
       "<pre>Tuning step size. First iteration could take longer than subsequent iterations.</pre>"
      ],
      "text/plain": [
       "Tuning step size. First iteration could take longer than subsequent iterations."
      ]
     },
     "metadata": {},
     "output_type": "display_data"
    },
    {
     "data": {
      "text/html": [
       "<pre>| 1         | 2        | 0.000002  | 1.339836     | 758.770204         | 173.814290    |</pre>"
      ],
      "text/plain": [
       "| 1         | 2        | 0.000002  | 1.339836     | 758.770204         | 173.814290    |"
      ]
     },
     "metadata": {},
     "output_type": "display_data"
    },
    {
     "data": {
      "text/html": [
       "<pre>| 2         | 3        | 0.000002  | 1.370646     | 732.458325         | 162.692828    |</pre>"
      ],
      "text/plain": [
       "| 2         | 3        | 0.000002  | 1.370646     | 732.458325         | 162.692828    |"
      ]
     },
     "metadata": {},
     "output_type": "display_data"
    },
    {
     "data": {
      "text/html": [
       "<pre>| 3         | 4        | 0.000002  | 1.404604     | 718.279339         | 158.027272    |</pre>"
      ],
      "text/plain": [
       "| 3         | 4        | 0.000002  | 1.404604     | 718.279339         | 158.027272    |"
      ]
     },
     "metadata": {},
     "output_type": "display_data"
    },
    {
     "data": {
      "text/html": [
       "<pre>| 4         | 5        | 0.000002  | 1.436253     | 705.143683         | 153.446624    |</pre>"
      ],
      "text/plain": [
       "| 4         | 5        | 0.000002  | 1.436253     | 705.143683         | 153.446624    |"
      ]
     },
     "metadata": {},
     "output_type": "display_data"
    },
    {
     "data": {
      "text/html": [
       "<pre>| 5         | 6        | 0.000002  | 1.468760     | 704.710726         | 152.937683    |</pre>"
      ],
      "text/plain": [
       "| 5         | 6        | 0.000002  | 1.468760     | 704.710726         | 152.937683    |"
      ]
     },
     "metadata": {},
     "output_type": "display_data"
    },
    {
     "data": {
      "text/html": [
       "<pre>| 6         | 7        | 0.000002  | 1.509031     | 708.418668         | 153.779560    |</pre>"
      ],
      "text/plain": [
       "| 6         | 7        | 0.000002  | 1.509031     | 708.418668         | 153.779560    |"
      ]
     },
     "metadata": {},
     "output_type": "display_data"
    },
    {
     "data": {
      "text/html": [
       "<pre>+-----------+----------+-----------+--------------+--------------------+---------------+</pre>"
      ],
      "text/plain": [
       "+-----------+----------+-----------+--------------+--------------------+---------------+"
      ]
     },
     "metadata": {},
     "output_type": "display_data"
    },
    {
     "data": {
      "text/html": [
       "<pre>TERMINATED: Iteration limit reached.</pre>"
      ],
      "text/plain": [
       "TERMINATED: Iteration limit reached."
      ]
     },
     "metadata": {},
     "output_type": "display_data"
    },
    {
     "data": {
      "text/html": [
       "<pre>This model may not be optimal. To improve it, consider increasing `max_iterations`.</pre>"
      ],
      "text/plain": [
       "This model may not be optimal. To improve it, consider increasing `max_iterations`."
      ]
     },
     "metadata": {},
     "output_type": "display_data"
    }
   ],
   "source": [
    "all_features = ['star', \n",
    "                'star_squared',\n",
    "                'size_sqrt',\n",
    "                'rates_rating', \n",
    "                'zipcode',\n",
    "                'rating',\n",
    "                'rates',\n",
    "                'size',\n",
    "                'guests'\n",
    "               ]\n",
    "hotels_new = hotels_new[hotels_new['star'] != None]\n",
    "\n",
    "model_all = graphlab.linear_regression.create(hotels_new, target='price', features = all_features,\n",
    "                                              validation_set=None, \n",
    "                                              l2_penalty=0., l1_penalty=5e6)"
   ]
  },
  {
   "cell_type": "code",
   "execution_count": 10,
   "metadata": {
    "collapsed": false
   },
   "outputs": [
    {
     "name": "stdout",
     "output_type": "stream",
     "text": [
      "+--------------+-------+-----------------+--------+\n",
      "|     name     | index |      value      | stderr |\n",
      "+--------------+-------+-----------------+--------+\n",
      "| (intercept)  |  None |  148.617685217  |  None  |\n",
      "|     star     |  None |  7.82253762889  |  None  |\n",
      "| star_squared |  None |   3.5379148204  |  None  |\n",
      "|  size_sqrt   |  None |  0.786830224227 |  None  |\n",
      "|    rating    |  None |  1.94124863158  |  None  |\n",
      "|     size     |  None | 0.0612675962455 |  None  |\n",
      "+--------------+-------+-----------------+--------+\n",
      "[6 rows x 4 columns]\n",
      "\n"
     ]
    }
   ],
   "source": [
    "# get the non-zero weights\n",
    "non_zero_weight = model_all[\"coefficients\"][model_all[\"coefficients\"][\"value\"] > 0]\n",
    "non_zero_weight.print_rows(num_rows=10)"
   ]
  },
  {
   "cell_type": "code",
   "execution_count": 11,
   "metadata": {
    "collapsed": false
   },
   "outputs": [],
   "source": [
    "(training_and_validation, testing) = hotels_new.random_split(.9,seed=1) # initial train/test split\n",
    "(training, validation) = training_and_validation.random_split(0.5, seed=1) # split training into train and validat"
   ]
  },
  {
   "cell_type": "code",
   "execution_count": 12,
   "metadata": {
    "collapsed": false
   },
   "outputs": [
    {
     "name": "stdout",
     "output_type": "stream",
     "text": [
      "{10.0: 268492056.8316335,\n",
      " 31.622776601683793: 268492755.02004635,\n",
      " 100.0: 268494963.0753368,\n",
      " 316.22776601683796: 268501947.4546832,\n",
      " 1000.0: 268524052.96246976,\n",
      " 3162.2776601683795: 268594146.3043443,\n",
      " 10000.0: 268817696.84467596,\n",
      " 31622.776601683792: 269544396.0402416,\n",
      " 100000.0: 272050974.4316129,\n",
      " 316227.76601683791: 281788261.0603819,\n",
      " 1000000.0: 334767644.0565404,\n",
      " 3162277.6601683795: 459416115.29744786,\n",
      " 10000000.0: 479835446.8600876}\n",
      "(10.0, 268492056.8316335)\n"
     ]
    }
   ],
   "source": [
    "import pprint\n",
    "#set a result set for the validation rss\n",
    "validation_rss = {}\n",
    "for l1_penalty in np.logspace(1,7, num=13):\n",
    "    #here we taking all the features into consideration\n",
    "    model = graphlab.linear_regression.create(training, target='price', features=all_features,\n",
    "                                              validation_set=None, verbose = False,\n",
    "                                              l2_penalty=0., l1_penalty=l1_penalty)\n",
    "    predictions = model.predict(validation)\n",
    "    residual = validation['price'] - predictions\n",
    "    rss = sum(residual**2)\n",
    "    #dictionary is key value pair thing\n",
    "    validation_rss[l1_penalty] = rss\n",
    "\n",
    "pprint.pprint(validation_rss)\n",
    "#here we can use the min to print out the smallest value in a dictionary very important\n",
    "print min(validation_rss.items(), key = lambda x:x[1])"
   ]
  },
  {
   "cell_type": "code",
   "execution_count": 13,
   "metadata": {
    "collapsed": false
   },
   "outputs": [
    {
     "name": "stdout",
     "output_type": "stream",
     "text": [
      "10\n",
      "+--------------+-------+------------------+--------+\n",
      "|     name     | index |      value       | stderr |\n",
      "+--------------+-------+------------------+--------+\n",
      "| (intercept)  |  None |  32.6830731076   |  None  |\n",
      "|     star     |  None |  16.9631426983   |  None  |\n",
      "| star_squared |  None |  5.90000718909   |  None  |\n",
      "|  size_sqrt   |  None |  2.56628443176   |  None  |\n",
      "| rates_rating |  None | 0.00258532834924 |  None  |\n",
      "|    rating    |  None |  10.4220820743   |  None  |\n",
      "|     size     |  None |  0.154454766112  |  None  |\n",
      "|    guests    |  None |   8.595618513    |  None  |\n",
      "+--------------+-------+------------------+--------+\n",
      "[8 rows x 4 columns]\n",
      "\n"
     ]
    }
   ],
   "source": [
    "model_best = graphlab.linear_regression.create(training, target='price', features=all_features,\n",
    "                                              validation_set=None, verbose = False,\n",
    "                                              l2_penalty=0., l1_penalty=10.0)\n",
    "non_zero_weight_best = model_best[\"coefficients\"][model_best[\"coefficients\"][\"value\"] > 0]\n",
    "print model_best[\"coefficients\"][\"value\"].nnz()\n",
    "non_zero_weight_best.print_rows(num_rows=20)"
   ]
  },
  {
   "cell_type": "code",
   "execution_count": 39,
   "metadata": {
    "collapsed": true
   },
   "outputs": [],
   "source": [
    "max_nonzeros = 6"
   ]
  },
  {
   "cell_type": "code",
   "execution_count": 40,
   "metadata": {
    "collapsed": true
   },
   "outputs": [],
   "source": [
    "l1_penalty_values = np.logspace(5, 7, num=20)"
   ]
  },
  {
   "cell_type": "code",
   "execution_count": 41,
   "metadata": {
    "collapsed": false
   },
   "outputs": [
    {
     "name": "stdout",
     "output_type": "stream",
     "text": [
      "{100000.0: 10,\n",
      " 127427.49857031347: 10,\n",
      " 162377.67391887208: 10,\n",
      " 206913.80811147901: 8,\n",
      " 263665.08987303555: 8,\n",
      " 335981.82862837811: 8,\n",
      " 428133.23987193959: 8,\n",
      " 545559.47811685142: 8,\n",
      " 695192.79617756058: 8,\n",
      " 885866.79041008325: 8,\n",
      " 1128837.8916846884: 7,\n",
      " 1438449.888287663: 7,\n",
      " 1832980.7108324375: 6,\n",
      " 2335721.4690901213: 6,\n",
      " 2976351.441631319: 5,\n",
      " 3792690.1907322537: 3,\n",
      " 4832930.2385717519: 2,\n",
      " 6158482.110660254: 1,\n",
      " 7847599.7035146067: 1,\n",
      " 10000000.0: 1}\n"
     ]
    }
   ],
   "source": [
    "coef_dict ={}\n",
    "for l1_penalty in l1_penalty_values:\n",
    "    model  = graphlab.linear_regression.create(training,target = 'price', features = all_features, validation_set = None,\n",
    "                                             verbose = None, l2_penalty=0.,l1_penalty=l1_penalty)\n",
    "    coef_dict[l1_penalty] = model['coefficients']['value'].nnz()\n",
    "    \n",
    "pprint.pprint(coef_dict)"
   ]
  },
  {
   "cell_type": "code",
   "execution_count": 42,
   "metadata": {
    "collapsed": true
   },
   "outputs": [],
   "source": [
    "l1_penalty_min = 1438449.888287663\n",
    "l1_penalty_max = 2976351.441631319"
   ]
  },
  {
   "cell_type": "code",
   "execution_count": 43,
   "metadata": {
    "collapsed": true
   },
   "outputs": [],
   "source": [
    "l1_penalty_values = np.linspace(l1_penalty_min,l1_penalty_max,20)"
   ]
  },
  {
   "cell_type": "code",
   "execution_count": 44,
   "metadata": {
    "collapsed": false
   },
   "outputs": [
    {
     "data": {
      "text/plain": [
       "{1438449.888287663: (354852863.3395697, 7),\n",
       " 1519392.0753057501: (359139027.25768495, 7),\n",
       " 1600334.2623238373: (363297290.8222947, 6),\n",
       " 1681276.4493419244: (366642762.65656614, 6),\n",
       " 1762218.6363600115: (370043917.0666373, 6),\n",
       " 1843160.8233780987: (373502728.33559275, 6),\n",
       " 1924103.010396186: (377020882.8720901, 6),\n",
       " 2005045.1974142732: (380598092.80847305, 6),\n",
       " 2085987.3844323603: (385078165.6126793, 6),\n",
       " 2166929.5714504477: (390721861.37658316, 6),\n",
       " 2247871.7584685348: (396547821.5613216, 6),\n",
       " 2328813.9454866219: (402556037.5919883, 6),\n",
       " 2409756.1325047091: (408746509.4685857, 6),\n",
       " 2490698.3195227962: (415118320.2756001, 6),\n",
       " 2571640.5065408833: (421672265.4725574, 6),\n",
       " 2652582.6935589705: (428490820.41652113, 6),\n",
       " 2733524.8805770576: (433942347.9058434, 5),\n",
       " 2814467.0675951447: (438610423.7824869, 5),\n",
       " 2895409.2546132319: (443344133.5903675, 5),\n",
       " 2976351.441631319: (448143463.0128483, 5)}"
      ]
     },
     "execution_count": 44,
     "metadata": {},
     "output_type": "execute_result"
    }
   ],
   "source": [
    "validation_rss = {}\n",
    "for l1_penalty in l1_penalty_values:\n",
    "    model = graphlab.linear_regression.create(training,target='price', features=all_features,\n",
    "                                             validation_set = None, verbose = False, l2_penalty= 0, l1_penalty=l1_penalty)\n",
    "    predictions = model.predict(validation)\n",
    "    residuals = predictions - validation['price']\n",
    "    rss = sum(residuals**2)\n",
    "    validation_rss[l1_penalty] = rss, model['coefficients']['value'].nnz()\n",
    "    \n",
    "validation_rss"
   ]
  },
  {
   "cell_type": "code",
   "execution_count": 45,
   "metadata": {
    "collapsed": false
   },
   "outputs": [
    {
     "name": "stdout",
     "output_type": "stream",
     "text": [
      "363297290.822 1600334.26232\n"
     ]
    }
   ],
   "source": [
    "bestRSS = 9223372036854775807.0\n",
    "for k,v in validation_rss.iteritems():    \n",
    "    if (v[1] == max_nonzeros) and (v[0] < bestRSS):\n",
    "        bestRSS = v[0]\n",
    "        bestl1 = k\n",
    "        \n",
    "print bestRSS, bestl1"
   ]
  },
  {
   "cell_type": "code",
   "execution_count": 46,
   "metadata": {
    "collapsed": true
   },
   "outputs": [],
   "source": [
    "model = graphlab.linear_regression.create(training,target='price',features= all_features,\n",
    "                                         validation_set = None, verbose = False,\n",
    "                                         l2_penalty=0., l1_penalty=1600334)\n"
   ]
  },
  {
   "cell_type": "code",
   "execution_count": 47,
   "metadata": {
    "collapsed": false
   },
   "outputs": [
    {
     "name": "stdout",
     "output_type": "stream",
     "text": [
      "+--------------+-------+-----------------+--------+\n",
      "|     name     | index |      value      | stderr |\n",
      "+--------------+-------+-----------------+--------+\n",
      "| (intercept)  |  None |  114.386439457  |  None  |\n",
      "|     star     |  None |   10.226270841  |  None  |\n",
      "| star_squared |  None |  4.22230289753  |  None  |\n",
      "|  size_sqrt   |  None |  1.23436188373  |  None  |\n",
      "|    rating    |  None |  3.98505518439  |  None  |\n",
      "|     size     |  None | 0.0872451686419 |  None  |\n",
      "+--------------+-------+-----------------+--------+\n",
      "[6 rows x 4 columns]\n",
      "\n",
      "+--------------+-------+-----------------+--------+\n",
      "|     name     | index |      value      | stderr |\n",
      "+--------------+-------+-----------------+--------+\n",
      "| (intercept)  |  None |  114.386439457  |  None  |\n",
      "|     star     |  None |   10.226270841  |  None  |\n",
      "| star_squared |  None |  4.22230289753  |  None  |\n",
      "|  size_sqrt   |  None |  1.23436188373  |  None  |\n",
      "| rates_rating |  None |       0.0       |  None  |\n",
      "|   zipcode    |  None |       0.0       |  None  |\n",
      "|    rating    |  None |  3.98505518439  |  None  |\n",
      "|    rates     |  None |       0.0       |  None  |\n",
      "|     size     |  None | 0.0872451686419 |  None  |\n",
      "|    guests    |  None |       0.0       |  None  |\n",
      "+--------------+-------+-----------------+--------+\n",
      "[10 rows x 4 columns]\n",
      "\n"
     ]
    }
   ],
   "source": [
    "non_zero_weight_test = model['coefficients'][model['coefficients']['value']>0]\n",
    "non_zero_weight_test.print_rows(num_rows=20)\n",
    "model['coefficients'].print_rows(num_rows=20)"
   ]
  },
  {
   "cell_type": "code",
   "execution_count": 48,
   "metadata": {
    "collapsed": false
   },
   "outputs": [
    {
     "name": "stdout",
     "output_type": "stream",
     "text": [
      "83961839.5408\n",
      "3874\n"
     ]
    }
   ],
   "source": [
    "predictions = model.predict(testing)\n",
    "residuals = predictions - testing['price']\n",
    "rss = sum(residuals**2)\n",
    "print rss\n",
    "print len(predictions)"
   ]
  },
  {
   "cell_type": "code",
   "execution_count": 49,
   "metadata": {
    "collapsed": false
   },
   "outputs": [
    {
     "data": {
      "text/html": [
       "<pre>Linear regression:</pre>"
      ],
      "text/plain": [
       "Linear regression:"
      ]
     },
     "metadata": {},
     "output_type": "display_data"
    },
    {
     "data": {
      "text/html": [
       "<pre>--------------------------------------------------------</pre>"
      ],
      "text/plain": [
       "--------------------------------------------------------"
      ]
     },
     "metadata": {},
     "output_type": "display_data"
    },
    {
     "data": {
      "text/html": [
       "<pre>Number of examples          : 25144</pre>"
      ],
      "text/plain": [
       "Number of examples          : 25144"
      ]
     },
     "metadata": {},
     "output_type": "display_data"
    },
    {
     "data": {
      "text/html": [
       "<pre>Number of features          : 9</pre>"
      ],
      "text/plain": [
       "Number of features          : 9"
      ]
     },
     "metadata": {},
     "output_type": "display_data"
    },
    {
     "data": {
      "text/html": [
       "<pre>Number of unpacked features : 9</pre>"
      ],
      "text/plain": [
       "Number of unpacked features : 9"
      ]
     },
     "metadata": {},
     "output_type": "display_data"
    },
    {
     "data": {
      "text/html": [
       "<pre>Number of coefficients    : 10</pre>"
      ],
      "text/plain": [
       "Number of coefficients    : 10"
      ]
     },
     "metadata": {},
     "output_type": "display_data"
    },
    {
     "data": {
      "text/html": [
       "<pre>Starting Accelerated Gradient (FISTA)</pre>"
      ],
      "text/plain": [
       "Starting Accelerated Gradient (FISTA)"
      ]
     },
     "metadata": {},
     "output_type": "display_data"
    },
    {
     "data": {
      "text/html": [
       "<pre>--------------------------------------------------------</pre>"
      ],
      "text/plain": [
       "--------------------------------------------------------"
      ]
     },
     "metadata": {},
     "output_type": "display_data"
    },
    {
     "data": {
      "text/html": [
       "<pre>+-----------+----------+-----------+--------------+--------------------+---------------+</pre>"
      ],
      "text/plain": [
       "+-----------+----------+-----------+--------------+--------------------+---------------+"
      ]
     },
     "metadata": {},
     "output_type": "display_data"
    },
    {
     "data": {
      "text/html": [
       "<pre>| Iteration | Passes   | Step size | Elapsed Time | Training-max_error | Training-rmse |</pre>"
      ],
      "text/plain": [
       "| Iteration | Passes   | Step size | Elapsed Time | Training-max_error | Training-rmse |"
      ]
     },
     "metadata": {},
     "output_type": "display_data"
    },
    {
     "data": {
      "text/html": [
       "<pre>+-----------+----------+-----------+--------------+--------------------+---------------+</pre>"
      ],
      "text/plain": [
       "+-----------+----------+-----------+--------------+--------------------+---------------+"
      ]
     },
     "metadata": {},
     "output_type": "display_data"
    },
    {
     "data": {
      "text/html": [
       "<pre>Tuning step size. First iteration could take longer than subsequent iterations.</pre>"
      ],
      "text/plain": [
       "Tuning step size. First iteration could take longer than subsequent iterations."
      ]
     },
     "metadata": {},
     "output_type": "display_data"
    },
    {
     "data": {
      "text/html": [
       "<pre>| 1         | 2        | 0.000002  | 0.333621     | 678.183717         | 149.584797    |</pre>"
      ],
      "text/plain": [
       "| 1         | 2        | 0.000002  | 0.333621     | 678.183717         | 149.584797    |"
      ]
     },
     "metadata": {},
     "output_type": "display_data"
    },
    {
     "data": {
      "text/html": [
       "<pre>| 2         | 3        | 0.000002  | 0.361689     | 662.351632         | 145.483948    |</pre>"
      ],
      "text/plain": [
       "| 2         | 3        | 0.000002  | 0.361689     | 662.351632         | 145.483948    |"
      ]
     },
     "metadata": {},
     "output_type": "display_data"
    },
    {
     "data": {
      "text/html": [
       "<pre>| 3         | 4        | 0.000002  | 0.391327     | 655.187856         | 143.809370    |</pre>"
      ],
      "text/plain": [
       "| 3         | 4        | 0.000002  | 0.391327     | 655.187856         | 143.809370    |"
      ]
     },
     "metadata": {},
     "output_type": "display_data"
    },
    {
     "data": {
      "text/html": [
       "<pre>| 4         | 5        | 0.000002  | 0.425086     | 648.560377         | 142.670207    |</pre>"
      ],
      "text/plain": [
       "| 4         | 5        | 0.000002  | 0.425086     | 648.560377         | 142.670207    |"
      ]
     },
     "metadata": {},
     "output_type": "display_data"
    },
    {
     "data": {
      "text/html": [
       "<pre>| 5         | 6        | 0.000002  | 0.458283     | 643.788255         | 141.770173    |</pre>"
      ],
      "text/plain": [
       "| 5         | 6        | 0.000002  | 0.458283     | 643.788255         | 141.770173    |"
      ]
     },
     "metadata": {},
     "output_type": "display_data"
    },
    {
     "data": {
      "text/html": [
       "<pre>| 6         | 7        | 0.000002  | 0.489442     | 641.871332         | 140.806832    |</pre>"
      ],
      "text/plain": [
       "| 6         | 7        | 0.000002  | 0.489442     | 641.871332         | 140.806832    |"
      ]
     },
     "metadata": {},
     "output_type": "display_data"
    },
    {
     "data": {
      "text/html": [
       "<pre>+-----------+----------+-----------+--------------+--------------------+---------------+</pre>"
      ],
      "text/plain": [
       "+-----------+----------+-----------+--------------+--------------------+---------------+"
      ]
     },
     "metadata": {},
     "output_type": "display_data"
    },
    {
     "data": {
      "text/html": [
       "<pre>TERMINATED: Iteration limit reached.</pre>"
      ],
      "text/plain": [
       "TERMINATED: Iteration limit reached."
      ]
     },
     "metadata": {},
     "output_type": "display_data"
    },
    {
     "data": {
      "text/html": [
       "<pre>This model may not be optimal. To improve it, consider increasing `max_iterations`.</pre>"
      ],
      "text/plain": [
       "This model may not be optimal. To improve it, consider increasing `max_iterations`."
      ]
     },
     "metadata": {},
     "output_type": "display_data"
    },
    {
     "name": "stdout",
     "output_type": "stream",
     "text": [
      "89776044.2737\n",
      "3874\n"
     ]
    }
   ],
   "source": [
    "# use the same l1_penalty\n",
    "# single task performance\n",
    "hotels_NY['size_sqrt'] = hotels_NY['size'].apply(sqrt)\n",
    "hotels_NY['star_squared'] = hotels_NY['star']*hotels_NY['star']\n",
    "hotels_NY['rates_rating'] = hotels_NY['rates']*hotels_NY['rating']\n",
    "\n",
    "model_NY = graphlab.linear_regression.create(hotels_NY, target='price', features = all_features,\n",
    "                                              validation_set=None, \n",
    "                                             \n",
    "                                              l2_penalty=0., l1_penalty=1600334)\n",
    "\n",
    "predictions = model_NY.predict(testing)\n",
    "residuals = predictions - testing['price']\n",
    "rss = sum(residuals**2)\n",
    "print rss\n",
    "print len(predictions)"
   ]
  },
  {
   "cell_type": "markdown",
   "metadata": {},
   "source": [
    "As we can see, the model using the multi-tasking performs better on the testing data than the single task based on the RSS"
   ]
  }
 ],
 "metadata": {
  "kernelspec": {
   "display_name": "Python 2",
   "language": "python",
   "name": "python2"
  },
  "language_info": {
   "codemirror_mode": {
    "name": "ipython",
    "version": 2
   },
   "file_extension": ".py",
   "mimetype": "text/x-python",
   "name": "python",
   "nbconvert_exporter": "python",
   "pygments_lexer": "ipython2",
   "version": "2.7.12"
  }
 },
 "nbformat": 4,
 "nbformat_minor": 0
}
