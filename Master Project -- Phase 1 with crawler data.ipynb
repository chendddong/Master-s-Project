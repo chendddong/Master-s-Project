{
 "cells": [
  {
   "cell_type": "markdown",
   "metadata": {},
   "source": [
    "# Regression Phase 1: Exploring the data"
   ]
  },
  {
   "cell_type": "code",
   "execution_count": 41,
   "metadata": {
    "collapsed": true
   },
   "outputs": [],
   "source": [
    "import graphlab\n",
    "from graphlab import SFrame"
   ]
  },
  {
   "cell_type": "code",
   "execution_count": 42,
   "metadata": {
    "collapsed": false
   },
   "outputs": [
    {
     "data": {
      "text/html": [
       "<pre>Finished parsing file /Users/Peter/LA_0421.csv</pre>"
      ],
      "text/plain": [
       "Finished parsing file /Users/Peter/LA_0421.csv"
      ]
     },
     "metadata": {},
     "output_type": "display_data"
    },
    {
     "data": {
      "text/html": [
       "<pre>Parsing completed. Parsed 100 lines in 0.039424 secs.</pre>"
      ],
      "text/plain": [
       "Parsing completed. Parsed 100 lines in 0.039424 secs."
      ]
     },
     "metadata": {},
     "output_type": "display_data"
    },
    {
     "name": "stdout",
     "output_type": "stream",
     "text": [
      "------------------------------------------------------\n",
      "Inferred types from first 100 line(s) of file as \n",
      "column_type_hints=[str,str,float,float,str,str,str,str,int,str,str,int,str,str]\n",
      "If parsing fails due to incorrect types, you can correct\n",
      "the inferred type list above and pass it to read_csv in\n",
      "the column_type_hints argument\n",
      "------------------------------------------------------\n"
     ]
    },
    {
     "data": {
      "text/html": [
       "<pre>Finished parsing file /Users/Peter/LA_0421.csv</pre>"
      ],
      "text/plain": [
       "Finished parsing file /Users/Peter/LA_0421.csv"
      ]
     },
     "metadata": {},
     "output_type": "display_data"
    },
    {
     "data": {
      "text/html": [
       "<pre>Parsing completed. Parsed 1467 lines in 0.018457 secs.</pre>"
      ],
      "text/plain": [
       "Parsing completed. Parsed 1467 lines in 0.018457 secs."
      ]
     },
     "metadata": {},
     "output_type": "display_data"
    }
   ],
   "source": [
    "train_data = graphlab.SFrame.read_csv('LA_0421.csv')\n",
    "train_data\n",
    "train_data['price'] = train_data['price'].astype(float)"
   ]
  },
  {
   "cell_type": "markdown",
   "metadata": {},
   "source": [
    "# a case study\n",
    "\n",
    "## Introduction\n",
    "\n",
    "So we have a very interesting request which is to know a hotel price in a given area in a given day. An we would like to know how to predict it.\n",
    "\n",
    "For example, during the prcess of planning a vacation, I came across an idea of how can I predict the price of the hotel so that I can get the best prices. During the process, I have noticed that the nightly rate would fluctuated dramatically.\n",
    "\n",
    "We are going to use the historical data from the same area, same start and same date to predict the possible nightly rate for the request.\n",
    "\n",
    "For the first simple regression model, we are going to use the variable the hotel area as the input and use the variable price as the output.\n",
    "\n",
    "RSS is the metric of the metric and we want to find the 'best' fit line for the prediction.\n",
    "\n",
    "\n",
    "# Explore the data set\n",
    "\n",
    "* we are using the size and the price"
   ]
  },
  {
   "cell_type": "code",
   "execution_count": 43,
   "metadata": {
    "collapsed": false
   },
   "outputs": [
    {
     "data": {
      "application/javascript": [
       "$(\"head\").append($(\"<link/>\").attr({\n",
       "  rel:  \"stylesheet\",\n",
       "  type: \"text/css\",\n",
       "  href: \"//cdnjs.cloudflare.com/ajax/libs/font-awesome/4.1.0/css/font-awesome.min.css\"\n",
       "}));\n",
       "$(\"head\").append($(\"<link/>\").attr({\n",
       "  rel:  \"stylesheet\",\n",
       "  type: \"text/css\",\n",
       "  href: \"https://static.turi.com/products/graphlab-create/2.1/canvas/css/canvas.css\"\n",
       "}));\n",
       "\n",
       "            (function(){\n",
       "\n",
       "                var e = null;\n",
       "                if (typeof element == 'undefined') {\n",
       "                    var scripts = document.getElementsByTagName('script');\n",
       "                    var thisScriptTag = scripts[scripts.length-1];\n",
       "                    var parentDiv = thisScriptTag.parentNode;\n",
       "                    e = document.createElement('div');\n",
       "                    parentDiv.appendChild(e);\n",
       "                } else {\n",
       "                    e = element[0];\n",
       "                }\n",
       "\n",
       "                if (typeof requirejs !== 'undefined') {\n",
       "                    // disable load timeout; ipython_app.js is large and can take a while to load.\n",
       "                    requirejs.config({waitSeconds: 0});\n",
       "                }\n",
       "\n",
       "                require(['https://static.turi.com/products/graphlab-create/2.1/canvas/js/ipython_app.js'], function(IPythonApp){\n",
       "                    var app = new IPythonApp();\n",
       "                    app.attachView('sframe','Plots', {\"selected_variable\": {\"name\": [\"train_data\"], \"descriptives\": {\"rows\": 1467, \"columns\": 14}, \"view_component\": \"Plots\", \"view_file\": \"sframe\", \"view_params\": {\"y\": \"price\", \"x\": \"size\", \"columns\": [\"name\", \"zone\", \"star\", \"rating\", \"rates\", \"checkin\", \"checkout\", \"room\", \"size\", \"price\", \"bed\", \"guests\", \"address\", \"link\"], \"view\": \"Scatter Plot\"}, \"view_components\": [\"Summary\", \"Table\", \"Bar Chart\", \"BoxWhisker Plot\", \"Line Chart\", \"Scatter Plot\", \"Heat Map\", \"Plots\"], \"type\": \"SFrame\", \"columns\": [{\"dtype\": \"str\", \"name\": \"name\"}, {\"dtype\": \"str\", \"name\": \"zone\"}, {\"dtype\": \"float\", \"name\": \"star\"}, {\"dtype\": \"float\", \"name\": \"rating\"}, {\"dtype\": \"str\", \"name\": \"rates\"}, {\"dtype\": \"str\", \"name\": \"checkin\"}, {\"dtype\": \"str\", \"name\": \"checkout\"}, {\"dtype\": \"str\", \"name\": \"room\"}, {\"dtype\": \"int\", \"name\": \"size\"}, {\"dtype\": \"float\", \"name\": \"price\"}, {\"dtype\": \"str\", \"name\": \"bed\"}, {\"dtype\": \"int\", \"name\": \"guests\"}, {\"dtype\": \"str\", \"name\": \"address\"}, {\"dtype\": \"str\", \"name\": \"link\"}], \"column_identifiers\": [\"rating\", \"star\", \"name\", \"zone\", \"room\", \"checkin\", \"bed\", \"rates\", \"guests\", \"address\", \"link\", \"checkout\", \"price\", \"size\"]}, \"complete\": 1, \"ipython\": true, \"progress\": 1.0, \"data\": [[400, 221.0], [490, 164.0], [455, 164.0], [654, 239.0], [654, 239.0], [904, 314.0], [538, 92.0], [200, 106.0], [200, 106.0], [506, 344.0], [427, 339.0], [400, 107.0], [384, 338.0], [182, 299.0], [410, 368.0], [300, 189.0], [316, 269.0], [350, 250.0], [371, 279.0], [355, 270.0], [355, 270.0], [355, 290.0], [1195, 654.0], [680, 234.0], [721, 370.0], [500, 379.0], [300, 120.0], [506, 304.0], [1001, 249.0], [300, 140.0], [365, 169.0], [365, 169.0], [365, 189.0], [276, 269.0], [365, 259.0], [300, 194.0], [390, 279.0], [390, 209.0], [958, 225.0], [300, 169.0], [390, 279.0], [390, 209.0], [390, 279.0], [377, 309.0], [603, 569.0], [350, 159.0], [355, 159.0], [350, 159.0], [452, 229.0], [450, 265.0], [450, 271.0], [215, 99.0], [425, 264.0], [450, 281.0], [540, 339.0], [450, 281.0], [450, 288.0], [450, 281.0], [450, 288.0], [450, 290.0], [936, 199.0], [644, 497.0], [420, 249.0], [855, 663.0], [855, 679.0], [1025, 867.0], [1025, 888.0], [350, 163.0], [350, 159.0], [200, 170.0], [221, 309.0], [300, 197.0], [175, 115.0], [290, 255.0], [350, 179.0], [476, 179.0], [454, 359.0], [225, 209.0], [301, 247.0], [300, 125.0], [300, 224.0], [315, 260.0], [312, 260.0], [312, 260.0], [395, 269.0], [753, 150.0], [465, 229.0], [300, 169.0], [400, 199.0], [400, 209.0], [276, 229.0], [398, 239.0], [345, 105.0], [640, 269.0], [484, 432.0], [300, 169.0], [325, 119.0], [269, 135.0], [525, 845.0], [269, 150.0], [300, 150.0], [300, 150.0], [300, 155.0], [325, 245.0], [560, 121.0], [373, 129.0], [304, 152.0], [304, 161.0], [304, 161.0], [475, 314.0], [304, 178.0], [225, 229.0], [230, 100.0], [260, 110.0], [260, 110.0], [300, 130.0], [350, 183.0], [448, 149.0], [260, 136.0], [240, 87.0], [200, 76.0], [200, 76.0], [200, 76.0], [260, 76.0], [850, 382.0], [850, 424.0], [930, 467.0], [1000, 484.0], [506, 279.0], [308, 229.0], [500, 278.0], [500, 309.0], [525, 283.0], [525, 314.0], [248, 134.0], [750, 235.0], [300, 150.0], [300, 229.0], [300, 239.0], [300, 239.0], [300, 249.0], [300, 249.0], [300, 269.0], [484, 379.0], [300, 279.0], [300, 299.0], [150, 80.0], [398, 229.0], [200, 100.0], [200, 100.0], [200, 110.0], [215, 229.0], [258, 249.0], [323, 289.0], [301, 115.0], [301, 115.0], [225, 229.0], [603, 569.0], [250, 189.0], [288, 149.0], [288, 189.0], [288, 149.0], [288, 189.0], [288, 179.0], [288, 219.0], [160, 308.0], [288, 179.0], [288, 219.0], [168, 61.0], [476, 249.0], [270, 119.0], [320, 209.0], [350, 173.0], [476, 249.0], [250, 159.0], [295, 159.0], [291, 169.0], [355, 179.0], [398, 189.0], [603, 199.0], [300, 459.0], [225, 90.0], [225, 90.0], [225, 100.0], [754, 161.0], [400, 458.0], [275, 467.0], [506, 344.0], [275, 509.0], [500, 267.0], [441, 209.0], [210, 117.0], [230, 117.0], [220, 117.0], [850, 218.0], [375, 135.0], [450, 409.0], [350, 149.0], [250, 180.0], [786, 492.0], [500, 379.0], [350, 169.0], [338, 369.0], [301, 199.0], [398, 229.0], [495, 259.0], [700, 289.0], [750, 379.0], [725, 399.0], [1200, 779.0], [175, 164.0], [500, 300.0], [270, 87.0], [334, 94.0], [270, 97.0], [312, 85.0], [323, 95.0], [200, 299.0], [215, 299.0], [120, 130.0], [360, 139.0], [350, 359.0], [450, 599.0], [100, 60.0], [580, 359.0], [474, 239.0], [225, 80.0], [635, 219.0], [225, 80.0], [260, 99.0], [300, 125.0], [260, 219.0], [300, 239.0], [190, 95.0], [470, 291.0], [200, 113.0], [240, 150.0], [450, 209.0], [450, 300.0], [300, 199.0], [355, 209.0], [304, 299.0], [280, 320.0], [450, 370.0], [334, 159.0], [540, 400.0], [540, 430.0], [344, 365.0], [336, 223.0], [336, 279.0], [392, 223.0], [392, 279.0], [377, 342.0], [336, 239.0], [336, 239.0], [336, 239.0], [786, 459.0], [342, 409.0], [350, 285.0], [350, 295.0], [182, 299.0], [390, 74.0], [350, 325.0], [250, 105.0], [650, 329.0], [355, 329.0], [377, 362.0], [646, 499.0], [170, 120.0], [625, 159.0], [300, 145.0], [361, 136.0], [168, 100.0], [525, 149.0], [301, 165.0], [377, 309.0], [400, 118.0], [323, 359.0], [425, 369.0], [280, 209.0], [646, 459.0], [1055, 139.0], [520, 239.0], [240, 259.0], [385, 279.0], [316, 294.0], [200, 95.0], [215, 189.0], [850, 499.0], [225, 115.0], [225, 133.0], [325, 169.0], [371, 299.0], [301, 155.0], [301, 155.0], [220, 129.0], [625, 149.0], [265, 139.0], [28, 144.0], [28, 144.0], [260, 179.0], [225, 86.0], [225, 86.0], [225, 86.0], [355, 106.0], [350, 179.0], [635, 214.0], [316, 269.0], [225, 86.0], [400, 119.0], [400, 119.0], [420, 139.0], [400, 119.0], [400, 129.0], [400, 129.0], [400, 189.0], [360, 149.0], [300, 134.0], [400, 189.0], [400, 189.0], [300, 99.0], [200, 179.0], [300, 110.0], [599, 184.0], [600, 815.0], [248, 155.0], [11, 209.0], [316, 279.0], [250, 248.0], [599, 184.0], [290, 246.0], [300, 130.0], [484, 379.0], [300, 145.0], [300, 145.0], [301, 120.0], [301, 120.0], [226, 329.0], [281, 199.0], [281, 189.0], [281, 209.0], [300, 209.0], [386, 349.0], [281, 209.0], [281, 209.0], [281, 229.0], [440, 254.0], [440, 274.0], [225, 219.0], [300, 249.0], [592, 299.0], [316, 294.0], [468, 209.0], [275, 120.0], [300, 111.0], [300, 119.0], [250, 150.0], [276, 106.0], [276, 113.0], [600, 569.0], [316, 269.0], [400, 339.0], [400, 339.0], [400, 389.0], [400, 389.0], [300, 199.0], [355, 279.0], [398, 229.0], [398, 249.0], [452, 269.0], [452, 289.0], [1001, 699.0], [450, 385.0], [525, 179.0], [588, 404.0], [350, 149.0], [276, 105.0], [300, 120.0], [300, 140.0], [230, 169.0], [450, 129.0], [280, 249.0], [450, 139.0], [288, 110.0], [450, 169.0], [850, 605.0], [301, 125.0], [301, 130.0], [225, 239.0], [330, 139.0], [325, 359.0], [600, 256.0], [200, 96.0], [200, 102.0], [220, 112.0], [350, 184.0], [220, 122.0], [300, 137.0], [300, 152.0], [264, 259.0], [420, 309.0], [441, 349.0], [323, 219.0], [225, 86.0], [506, 299.0], [225, 86.0], [600, 285.0], [500, 364.0], [226, 329.0], [460, 384.0], [550, 389.0], [550, 404.0], [715, 424.0], [250, 175.0], [350, 191.0], [350, 159.0], [1055, 139.0], [350, 159.0], [350, 201.0], [350, 169.0], [350, 211.0], [275, 99.0], [275, 99.0], [275, 109.0], [300, 119.0], [400, 209.0], [400, 190.0], [140, 110.0], [161, 130.0], [226, 130.0], [226, 155.0], [484, 399.0], [312, 169.0], [312, 169.0], [312, 179.0], [452, 289.0], [640, 269.0], [299, 179.0], [355, 304.0], [400, 209.0], [288, 100.0], [288, 100.0], [275, 99.0], [506, 324.0], [275, 109.0], [300, 459.0], [312, 155.0], [753, 240.0], [312, 189.0], [244, 135.0], [110, 170.0], [196, 175.0], [300, 189.0], [300, 189.0], [522, 279.0], [525, 279.0], [484, 399.0], [700, 349.0], [299, 194.0], [264, 259.0], [140, 110.0], [161, 130.0], [276, 249.0], [226, 155.0], [161, 195.0], [500, 300.0], [280, 159.0], [280, 159.0], [1001, 237.0], [226, 229.0], [475, 369.0], [325, 385.0], [450, 399.0], [172, 119.0], [750, 439.0], [345, 144.0], [1000, 1.0], [1500, 2.0], [300, 389.0], [301, 105.0], [301, 110.0], [301, 120.0], [144, 107.0], [144, 119.0], [427, 299.0], [603, 569.0], [484, 635.0], [520, 209.0], [614, 805.0], [829, 1.0], [1152, 2.0], [300, 179.0], [350, 191.0], [350, 159.0], [338, 364.0], [183, 129.0], [350, 201.0], [350, 169.0], [753, 240.0], [360, 509.0], [713, 259.0], [600, 289.0], [650, 309.0], [900, 369.0], [500, 289.0], [550, 309.0], [600, 349.0], [386, 354.0], [260, 140.0], [330, 150.0], [330, 150.0], [1356, 229.0], [330, 155.0], [330, 155.0], [316, 314.0], [330, 160.0], [603, 865.0], [500, 200.0], [750, 225.0], [294, 179.0], [294, 209.0], [300, 429.0], [603, 865.0], [316, 249.0], [294, 209.0], [300, 120.0], [250, 130.0], [215, 99.0], [294, 249.0], [350, 154.0], [600, 129.0], [330, 159.0], [350, 154.0], [361, 139.0], [350, 174.0], [276, 84.0], [305, 189.0], [400, 173.0], [365, 139.0], [475, 314.0], [525, 199.0], [310, 199.0], [310, 199.0], [310, 204.0], [310, 249.0], [275, 88.0], [538, 369.0], [377, 309.0], [650, 579.0], [675, 609.0], [700, 655.0], [452, 349.0], [237, 229.0], [360, 139.0], [265, 164.0], [265, 164.0], [600, 815.0], [870, 228.0], [265, 174.0], [265, 169.0], [265, 179.0], [265, 169.0], [300, 85.0], [180, 66.0], [300, 105.0], [300, 135.0], [450, 300.0], [400, 154.0], [400, 169.0], [230, 130.0], [325, 72.0], [360, 169.0], [448, 149.0], [355, 179.0], [182, 279.0], [780, 219.0], [345, 139.0], [250, 359.0], [250, 384.0], [250, 409.0], [250, 377.0], [250, 419.0], [276, 84.0], [250, 469.0], [300, 429.0], [400, 100.0], [300, 479.0], [732, 389.0], [400, 594.0], [400, 619.0], [388, 180.0], [440, 664.0], [440, 689.0], [442, 189.0], [338, 339.0], [442, 194.0], [442, 209.0], [442, 209.0], [481, 229.0], [442, 229.0], [300, 174.0], [280, 144.0], [338, 139.0], [194, 80.0], [405, 159.0], [405, 169.0], [409, 169.0], [300, 72.0], [439, 179.0], [420, 319.0], [420, 340.0], [420, 340.0], [452, 490.0], [850, 586.0], [441, 901.0], [441, 901.0], [301, 145.0], [301, 150.0], [325, 110.0], [440, 149.0], [686, 339.0], [260, 189.0], [260, 179.0], [260, 199.0], [240, 173.0], [240, 178.0], [300, 193.0], [291, 199.0], [291, 219.0], [295, 199.0], [300, 115.0], [323, 205.0], [215, 299.0], [323, 234.0], [506, 249.0], [441, 189.0], [300, 99.0], [300, 109.0], [350, 215.0], [300, 139.0], [320, 139.0], [293, 149.0], [293, 159.0], [293, 164.0], [240, 60.0], [290, 169.0], [290, 174.0], [290, 159.0], [293, 174.0], [1000, 180.0], [500, 219.0], [603, 229.0], [600, 299.0], [336, 169.0], [342, 179.0], [350, 110.0], [448, 199.0], [361, 199.0], [200, 69.0], [200, 69.0], [204, 75.0], [204, 75.0], [300, 332.0], [700, 569.0], [315, 239.0], [386, 339.0], [400, 199.0], [324, 169.0], [324, 189.0], [324, 193.0], [324, 202.0], [324, 179.0], [324, 199.0], [600, 225.0], [280, 319.0], [280, 319.0], [350, 369.0], [400, 369.0], [291, 159.0], [300, 369.0], [584, 324.0], [300, 389.0], [316, 249.0], [275, 62.0], [600, 799.0], [20, 179.0], [22, 199.0], [25, 239.0], [220, 199.0], [650, 569.0], [265, 147.0], [475, 279.0], [320, 396.0], [320, 465.0], [320, 405.0], [450, 240.0], [320, 540.0], [240, 388.0], [340, 125.0], [323, 625.0], [320, 563.0], [320, 650.0], [475, 159.0], [470, 650.0], [320, 590.0], [320, 680.0], [269, 159.0], [269, 169.0], [269, 169.0], [269, 179.0], [506, 304.0], [560, 309.0], [560, 309.0], [575, 415.0], [575, 425.0], [325, 159.0], [500, 385.0], [250, 130.0], [325, 169.0], [325, 159.0], [325, 169.0], [323, 174.0], [465, 269.0], [398, 199.0], [400, 775.0], [200, 103.0], [300, 130.0], [700, 569.0], [700, 569.0], [318, 229.0], [280, 259.0], [250, 259.0], [280, 194.0], [339, 289.0], [340, 289.0], [500, 415.0], [215, 229.0], [568, 359.0], [570, 359.0], [360, 139.0], [244, 135.0], [276, 249.0], [365, 410.0], [400, 695.0], [300, 189.0], [200, 107.0], [365, 449.0], [300, 369.0], [342, 139.0], [452, 309.0], [225, 299.0], [299, 109.0], [475, 219.0], [380, 525.0], [377, 525.0], [377, 525.0], [377, 585.0], [250, 150.0], [377, 585.0], [377, 585.0], [403, 625.0], [430, 655.0], [630, 765.0], [630, 825.0], [861, 1.0], [225, 293.0], [1249, 2.0], [315, 239.0], [344, 455.0], [465, 289.0], [377, 339.0], [377, 359.0], [527, 389.0], [400, 120.0], [646, 439.0], [646, 459.0], [904, 232.0], [325, 243.0], [325, 253.0], [290, 280.0], [721, 975.0], [325, 253.0], [325, 298.0], [325, 243.0], [325, 253.0], [280, 121.0], [290, 290.0], [680, 369.0], [335, 308.0], [342, 379.0], [350, 283.0], [276, 249.0], [325, 283.0], [325, 293.0], [325, 338.0], [600, 1.0], [212, 209.0], [338, 394.0], [325, 283.0], [386, 344.0], [325, 338.0], [400, 369.0], [300, 369.0], [300, 369.0], [290, 238.0], [300, 389.0], [400, 439.0], [600, 699.0], [600, 799.0], [316, 259.0], [345, 105.0], [463, 385.0], [562, 405.0], [710, 505.0], [420, 269.0], [750, 285.0], [484, 309.0], [484, 349.0], [325, 170.0], [570, 369.0], [570, 329.0], [570, 369.0], [532, 269.0], [700, 609.0], [344, 150.0], [340, 150.0], [344, 160.0], [300, 339.0], [300, 339.0], [375, 356.0], [452, 309.0], [500, 373.0], [550, 373.0], [275, 379.0], [350, 399.0], [350, 399.0], [700, 416.0], [700, 458.0], [1200, 765.0], [299, 204.0], [288, 209.0], [288, 209.0], [275, 110.0], [250, 140.0], [288, 209.0], [336, 190.0], [336, 214.0], [248, 149.0], [288, 200.0], [288, 224.0], [450, 219.0], [220, 99.0], [409, 339.0], [288, 249.0], [336, 224.0], [300, 134.0], [336, 249.0], [325, 259.0], [288, 259.0], [288, 259.0], [288, 234.0], [288, 259.0], [288, 259.0], [398, 249.0], [753, 121.0], [398, 274.0], [684, 420.0], [684, 449.0], [441, 199.0], [829, 567.0], [299, 179.0], [829, 599.0], [334, 169.0], [312, 160.0], [237, 169.0], [237, 189.0], [150, 279.0], [237, 199.0], [350, 179.0], [441, 289.0], [325, 245.0], [330, 430.0], [330, 440.0], [350, 169.0], [375, 490.0], [320, 159.0], [334, 530.0], [377, 595.0], [377, 605.0], [500, 644.0], [495, 644.0], [409, 392.0], [280, 319.0], [350, 369.0], [603, 569.0], [312, 159.0], [250, 175.0], [312, 149.0], [312, 159.0], [312, 159.0], [312, 179.0], [312, 189.0], [312, 189.0], [312, 179.0], [490, 119.0], [312, 189.0], [355, 98.0], [431, 104.0], [431, 107.0], [325, 159.0], [380, 192.0], [325, 169.0], [325, 169.0], [325, 179.0], [409, 412.0], [325, 189.0], [280, 110.0], [342, 389.0], [325, 189.0], [325, 199.0], [325, 209.0], [570, 199.0], [570, 209.0], [570, 219.0], [325, 199.0], [1033, 225.0], [269, 188.0], [800, 509.0], [269, 188.0], [269, 197.0], [269, 197.0], [388, 149.0], [388, 149.0], [226, 359.0], [402, 429.0], [402, 429.0], [402, 379.0], [402, 429.0], [402, 429.0], [402, 389.0], [350, 169.0], [402, 389.0], [402, 439.0], [500, 509.0], [500, 559.0], [220, 99.0], [1150, 2.0], [350, 200.0], [400, 250.0], [690, 1.0], [575, 415.0], [575, 425.0], [332, 179.0], [332, 194.0], [240, 65.0], [250, 145.0], [226, 85.0], [325, 235.0], [275, 189.0], [320, 124.0], [275, 259.0], [256, 115.0], [300, 115.0], [380, 219.0], [380, 229.0], [680, 489.0], [400, 139.0], [753, 569.0], [850, 699.0], [850, 699.0], [210, 89.0], [506, 319.0], [350, 179.0], [409, 379.0], [350, 179.0], [350, 199.0], [650, 569.0], [301, 109.0], [248, 130.0], [164, 83.0], [300, 75.0], [550, 245.0], [721, 1.0], [500, 87.0], [538, 314.0], [377, 329.0], [344, 159.0], [344, 199.0], [483, 169.0], [428, 219.0], [323, 209.0], [950, 219.0], [300, 134.0], [300, 134.0], [325, 235.0], [753, 150.0], [818, 572.0], [344, 345.0], [344, 375.0], [344, 345.0]], \"columns\": [{\"dtype\": \"str\", \"name\": \"name\"}, {\"dtype\": \"str\", \"name\": \"zone\"}, {\"dtype\": \"float\", \"name\": \"star\"}, {\"dtype\": \"float\", \"name\": \"rating\"}, {\"dtype\": \"str\", \"name\": \"rates\"}, {\"dtype\": \"str\", \"name\": \"checkin\"}, {\"dtype\": \"str\", \"name\": \"checkout\"}, {\"dtype\": \"str\", \"name\": \"room\"}, {\"dtype\": \"int\", \"name\": \"size\"}, {\"dtype\": \"float\", \"name\": \"price\"}, {\"dtype\": \"str\", \"name\": \"bed\"}, {\"dtype\": \"int\", \"name\": \"guests\"}, {\"dtype\": \"str\", \"name\": \"address\"}, {\"dtype\": \"str\", \"name\": \"link\"}]}, e);\n",
       "                });\n",
       "            })();\n",
       "        "
      ]
     },
     "metadata": {},
     "output_type": "display_data"
    }
   ],
   "source": [
    "graphlab.canvas.set_target('ipynb')\n",
    "train_data.show(view = \"Scatter Plot\", x = \"size\", y = \"price\")"
   ]
  },
  {
   "cell_type": "code",
   "execution_count": 44,
   "metadata": {
    "collapsed": false
   },
   "outputs": [],
   "source": [
    "size_model = graphlab.linear_regression.create(train_data, target = 'price', features = ['size'],\n",
    "                                                     validation_set = None, verbose = False)"
   ]
  },
  {
   "cell_type": "markdown",
   "metadata": {},
   "source": [
    "# See the fit"
   ]
  },
  {
   "cell_type": "code",
   "execution_count": 45,
   "metadata": {
    "collapsed": true
   },
   "outputs": [],
   "source": [
    "import matplotlib.pyplot as plt\n",
    "%matplotlib inline"
   ]
  },
  {
   "cell_type": "code",
   "execution_count": 46,
   "metadata": {
    "collapsed": false
   },
   "outputs": [
    {
     "data": {
      "text/plain": [
       "[<matplotlib.lines.Line2D at 0x123a7bf50>,\n",
       " <matplotlib.lines.Line2D at 0x123a97050>]"
      ]
     },
     "execution_count": 46,
     "metadata": {},
     "output_type": "execute_result"
    },
    {
     "data": {
      "image/png": "[encoded data removed]",
      "text/plain": [
       "<matplotlib.figure.Figure at 0x122f32090>"
      ]
     },
     "metadata": {},
     "output_type": "display_data"
    }
   ],
   "source": [
    "# the blue dots are original data, green line is the fit from the simple regression\n",
    "plt.plot(train_data['size'], train_data['price'], '.',\n",
    "         train_data['size'], size_model.predict(train_data), '-')"
   ]
  },
  {
   "cell_type": "markdown",
   "metadata": {},
   "source": [
    "# Remove the distracted point and redo the analysis"
   ]
  },
  {
   "cell_type": "markdown",
   "metadata": {},
   "source": [
    "There is one data point that has the largest room size, yet the hotel price is extremely low.  This point does not follow the trend of the rest of the data very well.  A question is how much including this abnormal point is influencing our fit on the other datapoints.  Let's remove this datapoint and see what happens."
   ]
  },
  {
   "cell_type": "code",
   "execution_count": 47,
   "metadata": {
    "collapsed": false
   },
   "outputs": [],
   "source": [
    "train_data_Minus = train_data[train_data['size'] < 1500] \n",
    "train_data_Minus = train_data_Minus[train_data_Minus['price'] > 1]"
   ]
  },
  {
   "cell_type": "code",
   "execution_count": 48,
   "metadata": {
    "collapsed": false
   },
   "outputs": [
    {
     "data": {
      "application/javascript": [
       "$(\"head\").append($(\"<link/>\").attr({\n",
       "  rel:  \"stylesheet\",\n",
       "  type: \"text/css\",\n",
       "  href: \"//cdnjs.cloudflare.com/ajax/libs/font-awesome/4.1.0/css/font-awesome.min.css\"\n",
       "}));\n",
       "$(\"head\").append($(\"<link/>\").attr({\n",
       "  rel:  \"stylesheet\",\n",
       "  type: \"text/css\",\n",
       "  href: \"https://static.turi.com/products/graphlab-create/2.1/canvas/css/canvas.css\"\n",
       "}));\n",
       "\n",
       "            (function(){\n",
       "\n",
       "                var e = null;\n",
       "                if (typeof element == 'undefined') {\n",
       "                    var scripts = document.getElementsByTagName('script');\n",
       "                    var thisScriptTag = scripts[scripts.length-1];\n",
       "                    var parentDiv = thisScriptTag.parentNode;\n",
       "                    e = document.createElement('div');\n",
       "                    parentDiv.appendChild(e);\n",
       "                } else {\n",
       "                    e = element[0];\n",
       "                }\n",
       "\n",
       "                if (typeof requirejs !== 'undefined') {\n",
       "                    // disable load timeout; ipython_app.js is large and can take a while to load.\n",
       "                    requirejs.config({waitSeconds: 0});\n",
       "                }\n",
       "\n",
       "                require(['https://static.turi.com/products/graphlab-create/2.1/canvas/js/ipython_app.js'], function(IPythonApp){\n",
       "                    var app = new IPythonApp();\n",
       "                    app.attachView('sframe','Plots', {\"selected_variable\": {\"name\": [\"train_data_Minus\"], \"descriptives\": {\"rows\": 1453, \"columns\": 14}, \"view_component\": \"Plots\", \"view_file\": \"sframe\", \"view_params\": {\"y\": \"price\", \"x\": \"size\", \"columns\": [\"name\", \"zone\", \"star\", \"rating\", \"rates\", \"checkin\", \"checkout\", \"room\", \"size\", \"price\", \"bed\", \"guests\", \"address\", \"link\"], \"view\": \"Scatter Plot\"}, \"view_components\": [\"Summary\", \"Table\", \"Bar Chart\", \"BoxWhisker Plot\", \"Line Chart\", \"Scatter Plot\", \"Heat Map\", \"Plots\"], \"type\": \"SFrame\", \"columns\": [{\"dtype\": \"str\", \"name\": \"name\"}, {\"dtype\": \"str\", \"name\": \"zone\"}, {\"dtype\": \"float\", \"name\": \"star\"}, {\"dtype\": \"float\", \"name\": \"rating\"}, {\"dtype\": \"str\", \"name\": \"rates\"}, {\"dtype\": \"str\", \"name\": \"checkin\"}, {\"dtype\": \"str\", \"name\": \"checkout\"}, {\"dtype\": \"str\", \"name\": \"room\"}, {\"dtype\": \"int\", \"name\": \"size\"}, {\"dtype\": \"float\", \"name\": \"price\"}, {\"dtype\": \"str\", \"name\": \"bed\"}, {\"dtype\": \"int\", \"name\": \"guests\"}, {\"dtype\": \"str\", \"name\": \"address\"}, {\"dtype\": \"str\", \"name\": \"link\"}], \"column_identifiers\": [\"rating\", \"star\", \"name\", \"zone\", \"room\", \"checkin\", \"bed\", \"rates\", \"guests\", \"address\", \"link\", \"checkout\", \"price\", \"size\"]}, \"complete\": 1, \"ipython\": true, \"progress\": 1.0, \"data\": [[525, 179.0], [490, 164.0], [455, 164.0], [654, 239.0], [654, 239.0], [904, 314.0], [904, 314.0], [200, 106.0], [237, 209.0], [200, 106.0], [250, 149.0], [384, 279.0], [603, 569.0], [410, 309.0], [410, 368.0], [410, 379.0], [410, 438.0], [350, 250.0], [350, 250.0], [1001, 237.0], [355, 270.0], [355, 290.0], [355, 290.0], [721, 350.0], [721, 370.0], [350, 163.0], [200, 95.0], [300, 130.0], [300, 140.0], [365, 169.0], [365, 169.0], [365, 189.0], [532, 239.0], [365, 259.0], [390, 209.0], [754, 161.0], [390, 209.0], [390, 279.0], [390, 209.0], [650, 569.0], [390, 209.0], [390, 279.0], [700, 284.0], [700, 379.0], [280, 111.0], [355, 159.0], [350, 159.0], [452, 229.0], [450, 265.0], [441, 189.0], [450, 265.0], [600, 815.0], [450, 281.0], [450, 288.0], [350, 110.0], [450, 288.0], [450, 281.0], [450, 288.0], [450, 290.0], [450, 297.0], [644, 497.0], [644, 509.0], [855, 663.0], [316, 314.0], [1025, 867.0], [1025, 888.0], [355, 209.0], [350, 159.0], [342, 359.0], [200, 179.0], [300, 197.0], [340, 125.0], [753, 240.0], [500, 300.0], [476, 179.0], [434, 189.0], [504, 219.0], [301, 247.0], [301, 252.0], [300, 224.0], [342, 389.0], [355, 304.0], [312, 260.0], [377, 289.0], [316, 269.0], [610, 341.0], [300, 169.0], [400, 199.0], [400, 209.0], [400, 219.0], [398, 239.0], [475, 239.0], [532, 269.0], [300, 134.0], [325, 110.0], [448, 149.0], [269, 135.0], [650, 569.0], [269, 150.0], [300, 150.0], [400, 695.0], [300, 155.0], [300, 155.0], [273, 89.0], [373, 129.0], [304, 152.0], [304, 161.0], [304, 161.0], [304, 169.0], [304, 178.0], [500, 104.0], [230, 100.0], [1356, 229.0], [950, 219.0], [300, 130.0], [300, 130.0], [300, 150.0], [260, 136.0], [275, 146.0], [325, 118.0], [200, 76.0], [1200, 699.0], [712, 339.0], [280, 249.0], [850, 424.0], [930, 467.0], [1000, 484.0], [301, 145.0], [301, 155.0], [500, 278.0], [500, 309.0], [470, 291.0], [525, 314.0], [248, 134.0], [540, 164.0], [300, 150.0], [300, 155.0], [300, 239.0], [300, 239.0], [300, 249.0], [300, 249.0], [300, 269.0], [300, 269.0], [300, 279.0], [300, 299.0], [398, 209.0], [350, 179.0], [200, 100.0], [200, 100.0], [200, 110.0], [215, 229.0], [316, 259.0], [323, 289.0], [275, 88.0], [300, 134.0], [237, 229.0], [250, 149.0], [470, 259.0], [288, 149.0], [850, 218.0], [288, 149.0], [288, 189.0], [288, 179.0], [288, 219.0], [732, 389.0], [532, 309.0], [288, 219.0], [476, 209.0], [476, 249.0], [450, 240.0], [600, 129.0], [280, 234.0], [388, 180.0], [250, 159.0], [386, 344.0], [291, 169.0], [355, 179.0], [398, 189.0], [280, 144.0], [225, 90.0], [225, 90.0], [225, 90.0], [225, 100.0], [625, 159.0], [506, 279.0], [275, 467.0], [275, 484.0], [506, 324.0], [500, 603.0], [500, 773.0], [300, 199.0], [230, 117.0], [220, 117.0], [220, 209.0], [250, 127.0], [450, 409.0], [350, 149.0], [338, 369.0], [600, 159.0], [350, 169.0], [350, 169.0], [301, 199.0], [301, 199.0], [300, 459.0], [495, 259.0], [700, 289.0], [750, 379.0], [725, 399.0], [1200, 779.0], [190, 328.0], [270, 84.0], [270, 87.0], [334, 94.0], [350, 184.0], [312, 85.0], [400, 107.0], [200, 299.0], [215, 299.0], [300, 319.0], [300, 319.0], [350, 359.0], [450, 599.0], [100, 60.0], [300, 249.0], [336, 139.0], [225, 80.0], [300, 134.0], [230, 130.0], [260, 99.0], [300, 125.0], [260, 219.0], [300, 239.0], [280, 239.0], [250, 180.0], [200, 113.0], [180, 230.0], [355, 290.0], [200, 179.0], [550, 319.0], [280, 280.0], [280, 305.0], [280, 320.0], [450, 370.0], [450, 385.0], [540, 400.0], [540, 430.0], [540, 480.0], [336, 223.0], [484, 399.0], [392, 223.0], [392, 279.0], [336, 239.0], [220, 99.0], [300, 120.0], [409, 379.0], [215, 189.0], [336, 139.0], [430, 310.0], [520, 209.0], [350, 285.0], [350, 295.0], [300, 350.0], [350, 335.0], [650, 329.0], [276, 264.0], [646, 399.0], [529, 259.0], [170, 120.0], [260, 125.0], [350, 169.0], [250, 190.0], [168, 100.0], [299, 179.0], [301, 165.0], [377, 309.0], [377, 329.0], [323, 359.0], [338, 339.0], [425, 399.0], [646, 459.0], [646, 489.0], [240, 259.0], [240, 259.0], [385, 279.0], [370, 279.0], [480, 399.0], [550, 399.0], [850, 499.0], [225, 115.0], [225, 133.0], [225, 140.0], [244, 135.0], [540, 339.0], [301, 155.0], [220, 129.0], [260, 139.0], [560, 121.0], [753, 240.0], [1033, 225.0], [400, 139.0], [225, 86.0], [603, 569.0], [225, 86.0], [355, 106.0], [300, 145.0], [225, 86.0], [225, 86.0], [290, 280.0], [400, 119.0], [400, 119.0], [506, 304.0], [400, 119.0], [400, 129.0], [400, 129.0], [1014, 289.0], [400, 189.0], [400, 189.0], [400, 189.0], [400, 189.0], [300, 99.0], [248, 110.0], [377, 362.0], [365, 139.0], [291, 145.0], [316, 279.0], [11, 209.0], [240, 248.0], [250, 248.0], [225, 248.0], [330, 139.0], [300, 130.0], [300, 135.0], [300, 145.0], [1001, 699.0], [301, 120.0], [750, 169.0], [281, 179.0], [281, 199.0], [281, 189.0], [281, 209.0], [281, 199.0], [281, 219.0], [225, 229.0], [281, 209.0], [281, 229.0], [440, 254.0], [440, 274.0], [753, 150.0], [592, 279.0], [592, 299.0], [276, 249.0], [280, 90.0], [275, 120.0], [194, 80.0], [300, 119.0], [1001, 249.0], [276, 106.0], [360, 659.0], [475, 159.0], [900, 256.0], [400, 339.0], [400, 339.0], [330, 85.0], [400, 389.0], [622, 509.0], [622, 589.0], [398, 229.0], [398, 249.0], [1055, 139.0], [958, 225.0], [603, 309.0], [450, 385.0], [386, 354.0], [550, 455.0], [350, 149.0], [316, 269.0], [300, 120.0], [300, 140.0], [300, 155.0], [450, 129.0], [450, 139.0], [450, 139.0], [450, 159.0], [450, 169.0], [500, 146.0], [301, 125.0], [301, 130.0], [301, 135.0], [340, 179.0], [676, 214.0], [150, 92.0], [200, 96.0], [200, 102.0], [300, 189.0], [220, 112.0], [220, 122.0], [300, 137.0], [300, 152.0], [264, 259.0], [420, 309.0], [441, 349.0], [603, 335.0], [225, 86.0], [390, 74.0], [225, 86.0], [500, 349.0], [500, 364.0], [325, 235.0], [635, 219.0], [550, 389.0], [550, 404.0], [715, 424.0], [350, 149.0], [550, 199.0], [350, 159.0], [686, 339.0], [350, 159.0], [325, 169.0], [350, 169.0], [350, 211.0], [240, 87.0], [288, 110.0], [409, 339.0], [400, 189.0], [400, 209.0], [400, 190.0], [140, 110.0], [161, 130.0], [440, 149.0], [226, 155.0], [161, 195.0], [312, 169.0], [800, 509.0], [312, 179.0], [312, 189.0], [640, 269.0], [400, 169.0], [400, 189.0], [400, 209.0], [288, 100.0], [288, 100.0], [275, 99.0], [603, 569.0], [316, 249.0], [312, 169.0], [312, 169.0], [312, 179.0], [312, 189.0], [538, 369.0], [300, 459.0], [196, 175.0], [300, 189.0], [450, 225.0], [522, 279.0], [525, 279.0], [700, 349.0], [700, 349.0], [250, 109.0], [1055, 139.0], [140, 110.0], [161, 130.0], [226, 130.0], [226, 155.0], [161, 195.0], [280, 159.0], [280, 159.0], [280, 159.0], [304, 249.0], [377, 309.0], [226, 329.0], [325, 385.0], [450, 399.0], [452, 249.0], [248, 149.0], [575, 489.0], [380, 149.0], [290, 246.0], [301, 110.0], [300, 125.0], [144, 107.0], [144, 119.0], [1033, 225.0], [600, 139.0], [484, 635.0], [484, 635.0], [377, 342.0], [1152, 2.0], [350, 149.0], [350, 191.0], [350, 159.0], [409, 412.0], [276, 249.0], [350, 201.0], [350, 169.0], [350, 211.0], [300, 136.0], [280, 209.0], [600, 289.0], [215, 229.0], [900, 369.0], [646, 165.0], [550, 309.0], [600, 349.0], [260, 140.0], [260, 140.0], [330, 150.0], [330, 150.0], [300, 199.0], [330, 155.0], [330, 155.0], [334, 155.0], [330, 160.0], [545, 200.0], [225, 219.0], [240, 388.0], [300, 174.0], [294, 209.0], [294, 179.0], [294, 209.0], [294, 179.0], [400, 173.0], [300, 194.0], [300, 229.0], [294, 219.0], [440, 164.0], [350, 154.0], [350, 174.0], [350, 184.0], [350, 154.0], [350, 164.0], [350, 174.0], [305, 184.0], [588, 404.0], [441, 209.0], [305, 184.0], [305, 189.0], [305, 234.0], [506, 304.0], [310, 199.0], [310, 204.0], [310, 249.0], [310, 199.0], [310, 204.0], [310, 249.0], [650, 579.0], [675, 609.0], [700, 655.0], [452, 309.0], [265, 154.0], [409, 392.0], [265, 164.0], [265, 174.0], [265, 164.0], [265, 174.0], [300, 115.0], [265, 179.0], [265, 169.0], [300, 85.0], [409, 359.0], [300, 105.0], [300, 135.0], [450, 300.0], [400, 154.0], [400, 169.0], [275, 62.0], [580, 359.0], [360, 169.0], [360, 184.0], [312, 155.0], [215, 99.0], [780, 219.0], [290, 290.0], [250, 359.0], [250, 384.0], [250, 409.0], [250, 377.0], [250, 419.0], [250, 444.0], [250, 469.0], [300, 429.0], [300, 454.0], [300, 479.0], [400, 569.0], [725, 975.0], [400, 619.0], [500, 379.0], [440, 664.0], [440, 689.0], [442, 189.0], [360, 149.0], [300, 179.0], [442, 209.0], [316, 294.0], [481, 229.0], [442, 229.0], [323, 209.0], [389, 139.0], [338, 139.0], [409, 159.0], [250, 145.0], [405, 169.0], [484, 432.0], [366, 169.0], [439, 179.0], [420, 319.0], [786, 492.0], [420, 340.0], [452, 490.0], [388, 180.0], [625, 149.0], [441, 901.0], [301, 145.0], [377, 309.0], [308, 189.0], [260, 177.0], [260, 179.0], [260, 189.0], [190, 95.0], [260, 199.0], [300, 159.0], [300, 169.0], [506, 344.0], [291, 199.0], [386, 329.0], [295, 199.0], [295, 219.0], [323, 205.0], [323, 209.0], [323, 234.0], [400, 199.0], [300, 99.0], [300, 99.0], [300, 109.0], [325, 109.0], [300, 139.0], [320, 139.0], [293, 149.0], [226, 219.0], [293, 164.0], [290, 159.0], [290, 169.0], [480, 319.0], [225, 229.0], [713, 259.0], [260, 76.0], [646, 234.0], [603, 229.0], [316, 269.0], [336, 169.0], [200, 107.0], [448, 199.0], [448, 199.0], [320, 124.0], [200, 69.0], [200, 69.0], [204, 75.0], [204, 75.0], [680, 369.0], [700, 569.0], [315, 239.0], [315, 279.0], [465, 289.0], [324, 169.0], [324, 189.0], [1195, 629.0], [324, 202.0], [324, 179.0], [324, 199.0], [600, 225.0], [280, 319.0], [280, 319.0], [350, 369.0], [400, 369.0], [300, 369.0], [300, 369.0], [500, 379.0], [300, 389.0], [345, 105.0], [600, 699.0], [600, 799.0], [599, 184.0], [22, 199.0], [452, 289.0], [300, 83.0], [280, 319.0], [265, 147.0], [325, 199.0], [320, 396.0], [320, 465.0], [599, 184.0], [312, 160.0], [452, 309.0], [320, 625.0], [323, 540.0], [323, 625.0], [250, 130.0], [325, 235.0], [750, 285.0], [300, 429.0], [431, 130.0], [320, 680.0], [269, 159.0], [700, 169.0], [269, 169.0], [269, 179.0], [425, 264.0], [560, 309.0], [560, 309.0], [575, 415.0], [575, 425.0], [325, 159.0], [325, 169.0], [325, 159.0], [475, 304.0], [325, 159.0], [325, 169.0], [323, 174.0], [323, 184.0], [490, 130.0], [398, 209.0], [200, 103.0], [480, 279.0], [700, 569.0], [700, 569.0], [318, 229.0], [280, 259.0], [750, 235.0], [269, 259.0], [339, 289.0], [340, 289.0], [340, 289.0], [568, 359.0], [568, 359.0], [465, 229.0], [225, 106.0], [200, 78.0], [365, 377.0], [600, 815.0], [818, 572.0], [215, 199.0], [355, 279.0], [420, 209.0], [365, 464.0], [365, 482.0], [342, 409.0], [225, 299.0], [299, 109.0], [484, 432.0], [380, 525.0], [377, 525.0], [377, 525.0], [377, 585.0], [380, 585.0], [377, 585.0], [306, 100.0], [403, 625.0], [430, 655.0], [450, 219.0], [630, 825.0], [250, 175.0], [315, 239.0], [315, 279.0], [465, 289.0], [420, 139.0], [377, 359.0], [527, 389.0], [527, 409.0], [325, 110.0], [325, 289.0], [300, 75.0], [325, 243.0], [325, 253.0], [325, 298.0], [325, 243.0], [300, 72.0], [325, 298.0], [325, 243.0], [325, 253.0], [275, 62.0], [600, 285.0], [276, 84.0], [335, 308.0], [248, 140.0], [484, 399.0], [350, 328.0], [325, 283.0], [325, 293.0], [325, 338.0], [325, 283.0], [325, 293.0], [360, 139.0], [325, 283.0], [325, 293.0], [325, 338.0], [400, 369.0], [377, 329.0], [300, 369.0], [300, 389.0], [300, 389.0], [400, 439.0], [600, 699.0], [600, 799.0], [380, 299.0], [420, 385.0], [463, 385.0], [562, 405.0], [325, 245.0], [420, 269.0], [420, 309.0], [484, 309.0], [300, 115.0], [570, 329.0], [570, 369.0], [570, 329.0], [570, 369.0], [700, 569.0], [700, 609.0], [344, 150.0], [340, 150.0], [344, 160.0], [338, 364.0], [753, 240.0], [375, 356.0], [240, 60.0], [500, 373.0], [525, 845.0], [280, 121.0], [350, 399.0], [400, 120.0], [700, 416.0], [700, 458.0], [320, 114.0], [288, 185.0], [288, 209.0], [288, 209.0], [288, 185.0], [250, 150.0], [288, 209.0], [336, 190.0], [753, 121.0], [336, 214.0], [288, 200.0], [288, 224.0], [325, 259.0], [172, 119.0], [288, 249.0], [288, 249.0], [336, 224.0], [288, 199.0], [336, 249.0], [288, 234.0], [288, 259.0], [365, 139.0], [288, 234.0], [288, 259.0], [288, 259.0], [1014, 274.0], [398, 274.0], [398, 274.0], [684, 420.0], [904, 232.0], [684, 449.0], [750, 144.0], [829, 599.0], [829, 599.0], [334, 169.0], [350, 215.0], [220, 199.0], [237, 189.0], [237, 179.0], [237, 199.0], [250, 150.0], [441, 289.0], [330, 420.0], [635, 214.0], [330, 440.0], [375, 480.0], [474, 239.0], [334, 500.0], [225, 209.0], [377, 595.0], [377, 605.0], [550, 245.0], [280, 329.0], [280, 319.0], [506, 344.0], [603, 569.0], [221, 309.0], [786, 439.0], [312, 159.0], [312, 149.0], [312, 159.0], [312, 159.0], [484, 379.0], [323, 199.0], [325, 235.0], [312, 179.0], [312, 189.0], [312, 189.0], [355, 98.0], [427, 299.0], [431, 107.0], [240, 169.0], [325, 169.0], [230, 169.0], [325, 169.0], [325, 179.0], [325, 179.0], [325, 189.0], [475, 314.0], [299, 204.0], [325, 189.0], [350, 169.0], [325, 209.0], [244, 135.0], [570, 209.0], [150, 80.0], [325, 199.0], [269, 179.0], [269, 188.0], [269, 188.0], [538, 92.0], [269, 197.0], [269, 197.0], [388, 149.0], [388, 149.0], [402, 379.0], [402, 429.0], [402, 429.0], [402, 379.0], [260, 83.0], [402, 429.0], [402, 389.0], [402, 439.0], [550, 169.0], [402, 439.0], [500, 509.0], [500, 559.0], [1150, 2.0], [425, 244.0], [350, 200.0], [400, 250.0], [700, 144.0], [575, 425.0], [450, 62.0], [936, 199.0], [275, 139.0], [275, 139.0], [275, 159.0], [275, 159.0], [275, 189.0], [275, 189.0], [275, 259.0], [525, 149.0], [380, 209.0], [380, 219.0], [215, 99.0], [280, 110.0], [680, 489.0], [753, 569.0], [850, 699.0], [420, 249.0], [506, 299.0], [350, 159.0], [350, 179.0], [350, 179.0], [350, 179.0], [350, 199.0], [325, 170.0], [248, 130.0], [226, 80.0], [164, 83.0], [275, 110.0], [300, 209.0], [500, 76.0], [226, 319.0], [309, 149.0], [309, 189.0], [721, 975.0], [430, 263.0], [428, 179.0], [448, 149.0], [300, 129.0], [300, 134.0], [300, 199.0], [300, 134.0], [356, 315.0], [356, 345.0], [280, 157.0], [344, 345.0], [344, 375.0], [226, 329.0], [506, 279.0], [334, 159.0], [500, 385.0], [506, 319.0], [344, 455.0], [182, 279.0], [182, 299.0], [182, 299.0]], \"columns\": [{\"dtype\": \"str\", \"name\": \"name\"}, {\"dtype\": \"str\", \"name\": \"zone\"}, {\"dtype\": \"float\", \"name\": \"star\"}, {\"dtype\": \"float\", \"name\": \"rating\"}, {\"dtype\": \"str\", \"name\": \"rates\"}, {\"dtype\": \"str\", \"name\": \"checkin\"}, {\"dtype\": \"str\", \"name\": \"checkout\"}, {\"dtype\": \"str\", \"name\": \"room\"}, {\"dtype\": \"int\", \"name\": \"size\"}, {\"dtype\": \"float\", \"name\": \"price\"}, {\"dtype\": \"str\", \"name\": \"bed\"}, {\"dtype\": \"int\", \"name\": \"guests\"}, {\"dtype\": \"str\", \"name\": \"address\"}, {\"dtype\": \"str\", \"name\": \"link\"}]}, e);\n",
       "                });\n",
       "            })();\n",
       "        "
      ]
     },
     "metadata": {},
     "output_type": "display_data"
    }
   ],
   "source": [
    "train_data_Minus.show(view = \"Scatter Plot\", x = \"size\", y = \"price\")"
   ]
  },
  {
   "cell_type": "markdown",
   "metadata": {},
   "source": [
    "### Refit our simple regression model on this modified dataset:\n"
   ]
  },
  {
   "cell_type": "code",
   "execution_count": 49,
   "metadata": {
    "collapsed": true
   },
   "outputs": [],
   "source": [
    "size_model_Minus = graphlab.linear_regression.create(train_data_Minus, target = 'price', features = ['size'],\n",
    "                                                     validation_set = None, verbose = False)"
   ]
  },
  {
   "cell_type": "markdown",
   "metadata": {},
   "source": [
    "### Look at the fit:"
   ]
  },
  {
   "cell_type": "code",
   "execution_count": 50,
   "metadata": {
    "collapsed": false
   },
   "outputs": [
    {
     "data": {
      "text/plain": [
       "[<matplotlib.lines.Line2D at 0x123a04110>,\n",
       " <matplotlib.lines.Line2D at 0x123a041d0>]"
      ]
     },
     "execution_count": 50,
     "metadata": {},
     "output_type": "execute_result"
    },
    {
     "data": {
      "image/png": "[encoded data removed]",
      "text/plain": [
       "<matplotlib.figure.Figure at 0x123a5a6d0>"
      ]
     },
     "metadata": {},
     "output_type": "display_data"
    }
   ],
   "source": [
    "plt.plot(train_data_Minus['size'],train_data_Minus['price'],'.',\n",
    "        train_data_Minus['size'],size_model_Minus.predict(train_data_Minus),'-')"
   ]
  },
  {
   "cell_type": "markdown",
   "metadata": {},
   "source": [
    "# Compare coefficients for full-data fit versus no-Abnormal point fit"
   ]
  },
  {
   "cell_type": "markdown",
   "metadata": {},
   "source": [
    "Visually, the fit seems different, but let's quantify this by examining the estimated coefficients of our original fit and that of the modified dataset with the abnormal point removed"
   ]
  },
  {
   "cell_type": "code",
   "execution_count": 51,
   "metadata": {
    "collapsed": false
   },
   "outputs": [
    {
     "data": {
      "text/html": [
       "<div style=\"max-height:1000px;max-width:1500px;overflow:auto;\"><table frame=\"box\" rules=\"cols\">\n",
       "    <tr>\n",
       "        <th style=\"padding-left: 1em; padding-right: 1em; text-align: center\">name</th>\n",
       "        <th style=\"padding-left: 1em; padding-right: 1em; text-align: center\">index</th>\n",
       "        <th style=\"padding-left: 1em; padding-right: 1em; text-align: center\">value</th>\n",
       "        <th style=\"padding-left: 1em; padding-right: 1em; text-align: center\">stderr</th>\n",
       "    </tr>\n",
       "    <tr>\n",
       "        <td style=\"padding-left: 1em; padding-right: 1em; text-align: center; vertical-align: top\">(intercept)</td>\n",
       "        <td style=\"padding-left: 1em; padding-right: 1em; text-align: center; vertical-align: top\">None</td>\n",
       "        <td style=\"padding-left: 1em; padding-right: 1em; text-align: center; vertical-align: top\">176.520639819</td>\n",
       "        <td style=\"padding-left: 1em; padding-right: 1em; text-align: center; vertical-align: top\">7.57629569478</td>\n",
       "    </tr>\n",
       "    <tr>\n",
       "        <td style=\"padding-left: 1em; padding-right: 1em; text-align: center; vertical-align: top\">size</td>\n",
       "        <td style=\"padding-left: 1em; padding-right: 1em; text-align: center; vertical-align: top\">None</td>\n",
       "        <td style=\"padding-left: 1em; padding-right: 1em; text-align: center; vertical-align: top\">0.195453748709</td>\n",
       "        <td style=\"padding-left: 1em; padding-right: 1em; text-align: center; vertical-align: top\">0.0164952425864</td>\n",
       "    </tr>\n",
       "</table>\n",
       "[2 rows x 4 columns]<br/>\n",
       "</div>"
      ],
      "text/plain": [
       "Columns:\n",
       "\tname\tstr\n",
       "\tindex\tstr\n",
       "\tvalue\tfloat\n",
       "\tstderr\tfloat\n",
       "\n",
       "Rows: 2\n",
       "\n",
       "Data:\n",
       "+-------------+-------+----------------+-----------------+\n",
       "|     name    | index |     value      |      stderr     |\n",
       "+-------------+-------+----------------+-----------------+\n",
       "| (intercept) |  None | 176.520639819  |  7.57629569478  |\n",
       "|     size    |  None | 0.195453748709 | 0.0164952425864 |\n",
       "+-------------+-------+----------------+-----------------+\n",
       "[2 rows x 4 columns]"
      ]
     },
     "execution_count": 51,
     "metadata": {},
     "output_type": "execute_result"
    }
   ],
   "source": [
    "size_model.get('coefficients')"
   ]
  },
  {
   "cell_type": "code",
   "execution_count": 52,
   "metadata": {
    "collapsed": false
   },
   "outputs": [
    {
     "data": {
      "text/html": [
       "<div style=\"max-height:1000px;max-width:1500px;overflow:auto;\"><table frame=\"box\" rules=\"cols\">\n",
       "    <tr>\n",
       "        <th style=\"padding-left: 1em; padding-right: 1em; text-align: center\">name</th>\n",
       "        <th style=\"padding-left: 1em; padding-right: 1em; text-align: center\">index</th>\n",
       "        <th style=\"padding-left: 1em; padding-right: 1em; text-align: center\">value</th>\n",
       "        <th style=\"padding-left: 1em; padding-right: 1em; text-align: center\">stderr</th>\n",
       "    </tr>\n",
       "    <tr>\n",
       "        <td style=\"padding-left: 1em; padding-right: 1em; text-align: center; vertical-align: top\">(intercept)</td>\n",
       "        <td style=\"padding-left: 1em; padding-right: 1em; text-align: center; vertical-align: top\">None</td>\n",
       "        <td style=\"padding-left: 1em; padding-right: 1em; text-align: center; vertical-align: top\">96.1808897241</td>\n",
       "        <td style=\"padding-left: 1em; padding-right: 1em; text-align: center; vertical-align: top\">8.64899432279</td>\n",
       "    </tr>\n",
       "    <tr>\n",
       "        <td style=\"padding-left: 1em; padding-right: 1em; text-align: center; vertical-align: top\">size</td>\n",
       "        <td style=\"padding-left: 1em; padding-right: 1em; text-align: center; vertical-align: top\">None</td>\n",
       "        <td style=\"padding-left: 1em; padding-right: 1em; text-align: center; vertical-align: top\">0.411889907028</td>\n",
       "        <td style=\"padding-left: 1em; padding-right: 1em; text-align: center; vertical-align: top\">0.0203156316421</td>\n",
       "    </tr>\n",
       "</table>\n",
       "[2 rows x 4 columns]<br/>\n",
       "</div>"
      ],
      "text/plain": [
       "Columns:\n",
       "\tname\tstr\n",
       "\tindex\tstr\n",
       "\tvalue\tfloat\n",
       "\tstderr\tfloat\n",
       "\n",
       "Rows: 2\n",
       "\n",
       "Data:\n",
       "+-------------+-------+----------------+-----------------+\n",
       "|     name    | index |     value      |      stderr     |\n",
       "+-------------+-------+----------------+-----------------+\n",
       "| (intercept) |  None | 96.1808897241  |  8.64899432279  |\n",
       "|     size    |  None | 0.411889907028 | 0.0203156316421 |\n",
       "+-------------+-------+----------------+-----------------+\n",
       "[2 rows x 4 columns]"
      ]
     },
     "execution_count": 52,
     "metadata": {},
     "output_type": "execute_result"
    }
   ],
   "source": [
    "size_model_Minus.get('coefficients')"
   ]
  },
  {
   "cell_type": "markdown",
   "metadata": {},
   "source": [
    "Above: We see that for the version without abnormal data points, per unit increase in size, the predicted increase in hotel prices is 0.412. In contrast, for the original dataset, the growth is only 0.195 per unit increase in hotel price. So those tree points could affect the out come this much!"
   ]
  },
  {
   "cell_type": "markdown",
   "metadata": {},
   "source": [
    "### High leverage points: \n",
    "The hotel with 0 review score is said to be a \"high leverage\" point because it is at an extreme x value say 0 where there are not other observations.  As a result, recalling the closed-form solution for simple regression, this point has the *potential* to dramatically change the least squares line since the center of x mass is heavily influenced by this one point and the least squares line will try to fit close to that outlying (in x) point.  If a high leverage point follows the trend of the other data, this might not have much effect.  On the other hand, if this point somehow differs, it can be strongly influential in the resulting fit.\n",
    "\n",
    "[Influential observations, high leverage points, and outliers in linear regression](http://projecteuclid.org/download/pdf_1/euclid.ss/1177013622)\n",
    "***\n",
    "[The performance of diagnostic-robust generalized potentials for the identification of multiple high leverage points in linear regression](http://www.tandfonline.com/doi/abs/10.1080/02664760802553463)\n",
    "***\n",
    "[Unmasking multivariate outliers and leverage points](http://wis.kuleuven.be/stat/robust/papers/publications-1990/rousseeuwvanzomeren-unmaskingoutliersleveragepoint.pdf)\n",
    "\n",
    "### Influential observations:  \n",
    "An influential observation is one where the removal of the point significantly changes the fit.  As discussed above, high leverage points are good candidates for being influential observations, but need not be.  Other observations that are *not* leverage points can also be influential observations (e.g., strongly outlying in y even if x is a typical value).\n",
    "\n",
    "[Detection of influential observation in linear regression](http://www.stat.ucla.edu/~nchristo/statistics100C/1268249.pdf)\n",
    "***\n",
    "[Applied regression analysis](https://leseprobe.buch.de/images-adb/dd/cc/ddcc9caf-cd31-439b-8d9b-1080fd7fddc7.pdf)\n"
   ]
  },
  {
   "cell_type": "code",
   "execution_count": null,
   "metadata": {
    "collapsed": true
   },
   "outputs": [],
   "source": []
  }
 ],
 "metadata": {
  "kernelspec": {
   "display_name": "Python 2",
   "language": "python",
   "name": "python2"
  },
  "language_info": {
   "codemirror_mode": {
    "name": "ipython",
    "version": 2
   },
   "file_extension": ".py",
   "mimetype": "text/x-python",
   "name": "python",
   "nbconvert_exporter": "python",
   "pygments_lexer": "ipython2",
   "version": "2.7.12"
  }
 },
 "nbformat": 4,
 "nbformat_minor": 0
}
