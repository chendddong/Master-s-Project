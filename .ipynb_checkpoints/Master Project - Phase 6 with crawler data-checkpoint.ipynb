{
 "cells": [
  {
   "cell_type": "markdown",
   "metadata": {},
   "source": [
    "# Regression Phase 6: Ridge Regression (interpretation)\n"
   ]
  },
  {
   "cell_type": "markdown",
   "metadata": {},
   "source": [
    "we will run ridge regression multiple times with different L2 penalties to see which one produces the best fit. We will revisit the example of polynomial regression as a means to see the effect of L2 regularization. "
   ]
  },
  {
   "cell_type": "markdown",
   "metadata": {},
   "source": [
    "* Use a pre-built implementation of regression (GraphLab Create) to run polynomial regression\n",
    "* Use matplotlib to visualize polynomial regressions\n",
    "* Use a pre-built implementation of regression (GraphLab Create) to run polynomial regression, this time with L2 penalty\n",
    "* Use matplotlib to visualize polynomial regressions under L2 regularization\n",
    "* Choose best L2 penalty using cross-validation.\n",
    "* Assess the final fit using test data."
   ]
  },
  {
   "cell_type": "markdown",
   "metadata": {},
   "source": [
    "# import the graphlab"
   ]
  },
  {
   "cell_type": "code",
   "execution_count": 1,
   "metadata": {
    "collapsed": true
   },
   "outputs": [],
   "source": [
    "import graphlab\n",
    "import numpy as np"
   ]
  },
  {
   "cell_type": "markdown",
   "metadata": {},
   "source": [
    "# Polynomial regression, revisited"
   ]
  },
  {
   "cell_type": "markdown",
   "metadata": {},
   "source": [
    "We have built on the material from last phase, where we wrote the function to produce an SFrame with columns containing the powers of a given input. "
   ]
  },
  {
   "cell_type": "code",
   "execution_count": 3,
   "metadata": {
    "collapsed": true
   },
   "outputs": [],
   "source": [
    "def polynomial_sframe(feature, degree):\n",
    "    #assume that degree >=1\n",
    "    #initialize the SFrame:\n",
    "    poly_sframe = graphlab.SFrame()\n",
    "    # and set poly_srame['power_1'] equal to the passed feature\n",
    "    # let's try a different method this time see how this goes \n",
    "    poly_sframe['power_1'] = feature\n",
    "    # first check if the degree>1\n",
    "    if degree > 1:\n",
    "        # we loop over the remainning degreesl\n",
    "        # range usaually stats at 0 and stops at the endpoint-1. we want it to start at 2 and stop at degree\n",
    "        for power in range(2,degree + 1):\n",
    "            #first we'll give the column a name:\n",
    "            name ='power_' +str(power)\n",
    "            #then assign poly_sframe[name] to the appropriate power of freature\n",
    "            poly_sframe[name] = poly_sframe['power_1'].apply(lambda x: x**power)\n",
    "    return poly_sframe"
   ]
  },
  {
   "cell_type": "code",
   "execution_count": 4,
   "metadata": {
    "collapsed": false
   },
   "outputs": [
    {
     "name": "stdout",
     "output_type": "stream",
     "text": [
      "This non-commercial license of GraphLab Create for academic use is assigned to dchen@albany.edu and will expire on November 05, 2017.\n"
     ]
    },
    {
     "name": "stderr",
     "output_type": "stream",
     "text": [
      "[INFO] graphlab.cython.cy_server: GraphLab Create v2.1 started. Logging: /tmp/graphlab_server_1492753154.log\n"
     ]
    },
    {
     "name": "stdout",
     "output_type": "stream",
     "text": [
      "+---------+---------+---------+\n",
      "| power_1 | power_2 | power_3 |\n",
      "+---------+---------+---------+\n",
      "|   1.0   |   1.0   |   1.0   |\n",
      "|   2.0   |   4.0   |   8.0   |\n",
      "|   3.0   |   9.0   |   27.0  |\n",
      "+---------+---------+---------+\n",
      "[3 rows x 3 columns]\n",
      "\n"
     ]
    }
   ],
   "source": [
    "# test the method out\n",
    "tmp = graphlab.SArray([1., 2., 3.])\n",
    "tmp_cubed = tmp.apply(lambda x: x**3)\n",
    "print polynomial_sframe(tmp, 3)"
   ]
  },
  {
   "cell_type": "markdown",
   "metadata": {},
   "source": [
    "Let's use matplotlib to visualize what a polynomial regression looks like on the hotels data.\n"
   ]
  },
  {
   "cell_type": "code",
   "execution_count": 5,
   "metadata": {
    "collapsed": true
   },
   "outputs": [],
   "source": [
    "import matplotlib.pyplot as plt\n",
    "%matplotlib inline"
   ]
  },
  {
   "cell_type": "code",
   "execution_count": 28,
   "metadata": {
    "collapsed": false
   },
   "outputs": [
    {
     "data": {
      "text/html": [
       "<pre>Finished parsing file /Users/Peter/NY0421-23.csv</pre>"
      ],
      "text/plain": [
       "Finished parsing file /Users/Peter/NY0421-23.csv"
      ]
     },
     "metadata": {},
     "output_type": "display_data"
    },
    {
     "data": {
      "text/html": [
       "<pre>Parsing completed. Parsed 100 lines in 0.066662 secs.</pre>"
      ],
      "text/plain": [
       "Parsing completed. Parsed 100 lines in 0.066662 secs."
      ]
     },
     "metadata": {},
     "output_type": "display_data"
    },
    {
     "name": "stdout",
     "output_type": "stream",
     "text": [
      "------------------------------------------------------\n",
      "Inferred types from first 100 line(s) of file as \n",
      "column_type_hints=[str,str,int,float,float,str,str,str,str,int,int,str,int,str,str]\n",
      "If parsing fails due to incorrect types, you can correct\n",
      "the inferred type list above and pass it to read_csv in\n",
      "the column_type_hints argument\n",
      "------------------------------------------------------\n"
     ]
    },
    {
     "data": {
      "text/html": [
       "<pre>Finished parsing file /Users/Peter/NY0421-23.csv</pre>"
      ],
      "text/plain": [
       "Finished parsing file /Users/Peter/NY0421-23.csv"
      ]
     },
     "metadata": {},
     "output_type": "display_data"
    },
    {
     "data": {
      "text/html": [
       "<pre>Parsing completed. Parsed 5643 lines in 0.042494 secs.</pre>"
      ],
      "text/plain": [
       "Parsing completed. Parsed 5643 lines in 0.042494 secs."
      ]
     },
     "metadata": {},
     "output_type": "display_data"
    },
    {
     "data": {
      "text/html": [
       "<div style=\"max-height:1000px;max-width:1500px;overflow:auto;\"><table frame=\"box\" rules=\"cols\">\n",
       "    <tr>\n",
       "        <th style=\"padding-left: 1em; padding-right: 1em; text-align: center\">name</th>\n",
       "        <th style=\"padding-left: 1em; padding-right: 1em; text-align: center\">zone</th>\n",
       "        <th style=\"padding-left: 1em; padding-right: 1em; text-align: center\">zipcode</th>\n",
       "        <th style=\"padding-left: 1em; padding-right: 1em; text-align: center\">star</th>\n",
       "        <th style=\"padding-left: 1em; padding-right: 1em; text-align: center\">rating</th>\n",
       "        <th style=\"padding-left: 1em; padding-right: 1em; text-align: center\">rates</th>\n",
       "        <th style=\"padding-left: 1em; padding-right: 1em; text-align: center\">checkin</th>\n",
       "        <th style=\"padding-left: 1em; padding-right: 1em; text-align: center\">checkout</th>\n",
       "    </tr>\n",
       "    <tr>\n",
       "        <td style=\"padding-left: 1em; padding-right: 1em; text-align: center; vertical-align: top\">Dumont NYC-an Affinia<br>hotel ...</td>\n",
       "        <td style=\"padding-left: 1em; padding-right: 1em; text-align: center; vertical-align: top\">Midtown East - Grand<br>Central ...</td>\n",
       "        <td style=\"padding-left: 1em; padding-right: 1em; text-align: center; vertical-align: top\">10016.0</td>\n",
       "        <td style=\"padding-left: 1em; padding-right: 1em; text-align: center; vertical-align: top\">4.0</td>\n",
       "        <td style=\"padding-left: 1em; padding-right: 1em; text-align: center; vertical-align: top\">4.4</td>\n",
       "        <td style=\"padding-left: 1em; padding-right: 1em; text-align: center; vertical-align: top\">2,991</td>\n",
       "        <td style=\"padding-left: 1em; padding-right: 1em; text-align: center; vertical-align: top\">04/21/2017</td>\n",
       "        <td style=\"padding-left: 1em; padding-right: 1em; text-align: center; vertical-align: top\">04/22/2017</td>\n",
       "    </tr>\n",
       "    <tr>\n",
       "        <td style=\"padding-left: 1em; padding-right: 1em; text-align: center; vertical-align: top\">Dumont NYC-an Affinia<br>hotel ...</td>\n",
       "        <td style=\"padding-left: 1em; padding-right: 1em; text-align: center; vertical-align: top\">Midtown East - Grand<br>Central ...</td>\n",
       "        <td style=\"padding-left: 1em; padding-right: 1em; text-align: center; vertical-align: top\">10016.0</td>\n",
       "        <td style=\"padding-left: 1em; padding-right: 1em; text-align: center; vertical-align: top\">4.0</td>\n",
       "        <td style=\"padding-left: 1em; padding-right: 1em; text-align: center; vertical-align: top\">4.4</td>\n",
       "        <td style=\"padding-left: 1em; padding-right: 1em; text-align: center; vertical-align: top\">2,991</td>\n",
       "        <td style=\"padding-left: 1em; padding-right: 1em; text-align: center; vertical-align: top\">04/21/2017</td>\n",
       "        <td style=\"padding-left: 1em; padding-right: 1em; text-align: center; vertical-align: top\">04/22/2017</td>\n",
       "    </tr>\n",
       "    <tr>\n",
       "        <td style=\"padding-left: 1em; padding-right: 1em; text-align: center; vertical-align: top\">Salisbury Hotel</td>\n",
       "        <td style=\"padding-left: 1em; padding-right: 1em; text-align: center; vertical-align: top\">Broadway - Times Square</td>\n",
       "        <td style=\"padding-left: 1em; padding-right: 1em; text-align: center; vertical-align: top\">10019.0</td>\n",
       "        <td style=\"padding-left: 1em; padding-right: 1em; text-align: center; vertical-align: top\">3.0</td>\n",
       "        <td style=\"padding-left: 1em; padding-right: 1em; text-align: center; vertical-align: top\">4.1</td>\n",
       "        <td style=\"padding-left: 1em; padding-right: 1em; text-align: center; vertical-align: top\">14,936</td>\n",
       "        <td style=\"padding-left: 1em; padding-right: 1em; text-align: center; vertical-align: top\">04/21/2017</td>\n",
       "        <td style=\"padding-left: 1em; padding-right: 1em; text-align: center; vertical-align: top\">04/22/2017</td>\n",
       "    </tr>\n",
       "    <tr>\n",
       "        <td style=\"padding-left: 1em; padding-right: 1em; text-align: center; vertical-align: top\">Salisbury Hotel</td>\n",
       "        <td style=\"padding-left: 1em; padding-right: 1em; text-align: center; vertical-align: top\">Broadway - Times Square</td>\n",
       "        <td style=\"padding-left: 1em; padding-right: 1em; text-align: center; vertical-align: top\">10019.0</td>\n",
       "        <td style=\"padding-left: 1em; padding-right: 1em; text-align: center; vertical-align: top\">3.0</td>\n",
       "        <td style=\"padding-left: 1em; padding-right: 1em; text-align: center; vertical-align: top\">4.1</td>\n",
       "        <td style=\"padding-left: 1em; padding-right: 1em; text-align: center; vertical-align: top\">14,936</td>\n",
       "        <td style=\"padding-left: 1em; padding-right: 1em; text-align: center; vertical-align: top\">04/21/2017</td>\n",
       "        <td style=\"padding-left: 1em; padding-right: 1em; text-align: center; vertical-align: top\">04/22/2017</td>\n",
       "    </tr>\n",
       "    <tr>\n",
       "        <td style=\"padding-left: 1em; padding-right: 1em; text-align: center; vertical-align: top\">The Roosevelt Hotel, New<br>York City ...</td>\n",
       "        <td style=\"padding-left: 1em; padding-right: 1em; text-align: center; vertical-align: top\">Midtown East - Grand<br>Central ...</td>\n",
       "        <td style=\"padding-left: 1em; padding-right: 1em; text-align: center; vertical-align: top\">10017.0</td>\n",
       "        <td style=\"padding-left: 1em; padding-right: 1em; text-align: center; vertical-align: top\">4.0</td>\n",
       "        <td style=\"padding-left: 1em; padding-right: 1em; text-align: center; vertical-align: top\">3.7</td>\n",
       "        <td style=\"padding-left: 1em; padding-right: 1em; text-align: center; vertical-align: top\">19,170</td>\n",
       "        <td style=\"padding-left: 1em; padding-right: 1em; text-align: center; vertical-align: top\">04/21/2017</td>\n",
       "        <td style=\"padding-left: 1em; padding-right: 1em; text-align: center; vertical-align: top\">04/22/2017</td>\n",
       "    </tr>\n",
       "    <tr>\n",
       "        <td style=\"padding-left: 1em; padding-right: 1em; text-align: center; vertical-align: top\">The Roosevelt Hotel, New<br>York City ...</td>\n",
       "        <td style=\"padding-left: 1em; padding-right: 1em; text-align: center; vertical-align: top\">Midtown East - Grand<br>Central ...</td>\n",
       "        <td style=\"padding-left: 1em; padding-right: 1em; text-align: center; vertical-align: top\">10017.0</td>\n",
       "        <td style=\"padding-left: 1em; padding-right: 1em; text-align: center; vertical-align: top\">4.0</td>\n",
       "        <td style=\"padding-left: 1em; padding-right: 1em; text-align: center; vertical-align: top\">3.7</td>\n",
       "        <td style=\"padding-left: 1em; padding-right: 1em; text-align: center; vertical-align: top\">19,170</td>\n",
       "        <td style=\"padding-left: 1em; padding-right: 1em; text-align: center; vertical-align: top\">04/21/2017</td>\n",
       "        <td style=\"padding-left: 1em; padding-right: 1em; text-align: center; vertical-align: top\">04/22/2017</td>\n",
       "    </tr>\n",
       "    <tr>\n",
       "        <td style=\"padding-left: 1em; padding-right: 1em; text-align: center; vertical-align: top\">The Roosevelt Hotel, New<br>York City ...</td>\n",
       "        <td style=\"padding-left: 1em; padding-right: 1em; text-align: center; vertical-align: top\">Midtown East - Grand<br>Central ...</td>\n",
       "        <td style=\"padding-left: 1em; padding-right: 1em; text-align: center; vertical-align: top\">10017.0</td>\n",
       "        <td style=\"padding-left: 1em; padding-right: 1em; text-align: center; vertical-align: top\">4.0</td>\n",
       "        <td style=\"padding-left: 1em; padding-right: 1em; text-align: center; vertical-align: top\">3.7</td>\n",
       "        <td style=\"padding-left: 1em; padding-right: 1em; text-align: center; vertical-align: top\">19,170</td>\n",
       "        <td style=\"padding-left: 1em; padding-right: 1em; text-align: center; vertical-align: top\">04/21/2017</td>\n",
       "        <td style=\"padding-left: 1em; padding-right: 1em; text-align: center; vertical-align: top\">04/22/2017</td>\n",
       "    </tr>\n",
       "    <tr>\n",
       "        <td style=\"padding-left: 1em; padding-right: 1em; text-align: center; vertical-align: top\">The Roosevelt Hotel, New<br>York City ...</td>\n",
       "        <td style=\"padding-left: 1em; padding-right: 1em; text-align: center; vertical-align: top\">Midtown East - Grand<br>Central ...</td>\n",
       "        <td style=\"padding-left: 1em; padding-right: 1em; text-align: center; vertical-align: top\">10017.0</td>\n",
       "        <td style=\"padding-left: 1em; padding-right: 1em; text-align: center; vertical-align: top\">4.0</td>\n",
       "        <td style=\"padding-left: 1em; padding-right: 1em; text-align: center; vertical-align: top\">3.7</td>\n",
       "        <td style=\"padding-left: 1em; padding-right: 1em; text-align: center; vertical-align: top\">19,170</td>\n",
       "        <td style=\"padding-left: 1em; padding-right: 1em; text-align: center; vertical-align: top\">04/21/2017</td>\n",
       "        <td style=\"padding-left: 1em; padding-right: 1em; text-align: center; vertical-align: top\">04/22/2017</td>\n",
       "    </tr>\n",
       "    <tr>\n",
       "        <td style=\"padding-left: 1em; padding-right: 1em; text-align: center; vertical-align: top\">The Roosevelt Hotel, New<br>York City ...</td>\n",
       "        <td style=\"padding-left: 1em; padding-right: 1em; text-align: center; vertical-align: top\">Midtown East - Grand<br>Central ...</td>\n",
       "        <td style=\"padding-left: 1em; padding-right: 1em; text-align: center; vertical-align: top\">10017.0</td>\n",
       "        <td style=\"padding-left: 1em; padding-right: 1em; text-align: center; vertical-align: top\">4.0</td>\n",
       "        <td style=\"padding-left: 1em; padding-right: 1em; text-align: center; vertical-align: top\">3.7</td>\n",
       "        <td style=\"padding-left: 1em; padding-right: 1em; text-align: center; vertical-align: top\">19,170</td>\n",
       "        <td style=\"padding-left: 1em; padding-right: 1em; text-align: center; vertical-align: top\">04/21/2017</td>\n",
       "        <td style=\"padding-left: 1em; padding-right: 1em; text-align: center; vertical-align: top\">04/22/2017</td>\n",
       "    </tr>\n",
       "    <tr>\n",
       "        <td style=\"padding-left: 1em; padding-right: 1em; text-align: center; vertical-align: top\">YOTEL New York at Times<br>Square ...</td>\n",
       "        <td style=\"padding-left: 1em; padding-right: 1em; text-align: center; vertical-align: top\">Midtown West</td>\n",
       "        <td style=\"padding-left: 1em; padding-right: 1em; text-align: center; vertical-align: top\">10036.0</td>\n",
       "        <td style=\"padding-left: 1em; padding-right: 1em; text-align: center; vertical-align: top\">4.0</td>\n",
       "        <td style=\"padding-left: 1em; padding-right: 1em; text-align: center; vertical-align: top\">4.3</td>\n",
       "        <td style=\"padding-left: 1em; padding-right: 1em; text-align: center; vertical-align: top\">8,319</td>\n",
       "        <td style=\"padding-left: 1em; padding-right: 1em; text-align: center; vertical-align: top\">04/21/2017</td>\n",
       "        <td style=\"padding-left: 1em; padding-right: 1em; text-align: center; vertical-align: top\">04/22/2017</td>\n",
       "    </tr>\n",
       "</table>\n",
       "<table frame=\"box\" rules=\"cols\">\n",
       "    <tr>\n",
       "        <th style=\"padding-left: 1em; padding-right: 1em; text-align: center\">room</th>\n",
       "        <th style=\"padding-left: 1em; padding-right: 1em; text-align: center\">size</th>\n",
       "        <th style=\"padding-left: 1em; padding-right: 1em; text-align: center\">price</th>\n",
       "        <th style=\"padding-left: 1em; padding-right: 1em; text-align: center\">bed</th>\n",
       "        <th style=\"padding-left: 1em; padding-right: 1em; text-align: center\">guests</th>\n",
       "        <th style=\"padding-left: 1em; padding-right: 1em; text-align: center\">address</th>\n",
       "        <th style=\"padding-left: 1em; padding-right: 1em; text-align: center\">link</th>\n",
       "    </tr>\n",
       "    <tr>\n",
       "        <td style=\"padding-left: 1em; padding-right: 1em; text-align: center; vertical-align: top\">Studio Suite, 1 King Bed</td>\n",
       "        <td style=\"padding-left: 1em; padding-right: 1em; text-align: center; vertical-align: top\">450</td>\n",
       "        <td style=\"padding-left: 1em; padding-right: 1em; text-align: center; vertical-align: top\">179.0</td>\n",
       "        <td style=\"padding-left: 1em; padding-right: 1em; text-align: center; vertical-align: top\">1 king bed</td>\n",
       "        <td style=\"padding-left: 1em; padding-right: 1em; text-align: center; vertical-align: top\">2</td>\n",
       "        <td style=\"padding-left: 1em; padding-right: 1em; text-align: center; vertical-align: top\">E. 34th Street at<br>Lexington Avenue ...</td>\n",
       "        <td style=\"padding-left: 1em; padding-right: 1em; text-align: center; vertical-align: top\">https://www.expedia.com<br>/New-York-Hotels-Dumont- ...</td>\n",
       "    </tr>\n",
       "    <tr>\n",
       "        <td style=\"padding-left: 1em; padding-right: 1em; text-align: center; vertical-align: top\">Studio Suite, 1 King Bed</td>\n",
       "        <td style=\"padding-left: 1em; padding-right: 1em; text-align: center; vertical-align: top\">450</td>\n",
       "        <td style=\"padding-left: 1em; padding-right: 1em; text-align: center; vertical-align: top\">299.0</td>\n",
       "        <td style=\"padding-left: 1em; padding-right: 1em; text-align: center; vertical-align: top\">1 king bed</td>\n",
       "        <td style=\"padding-left: 1em; padding-right: 1em; text-align: center; vertical-align: top\">2</td>\n",
       "        <td style=\"padding-left: 1em; padding-right: 1em; text-align: center; vertical-align: top\">E. 34th Street at<br>Lexington Avenue ...</td>\n",
       "        <td style=\"padding-left: 1em; padding-right: 1em; text-align: center; vertical-align: top\">https://www.expedia.com<br>/New-York-Hotels-Dumont- ...</td>\n",
       "    </tr>\n",
       "    <tr>\n",
       "        <td style=\"padding-left: 1em; padding-right: 1em; text-align: center; vertical-align: top\">Standard Room, 2 Double<br>Beds ...</td>\n",
       "        <td style=\"padding-left: 1em; padding-right: 1em; text-align: center; vertical-align: top\">280</td>\n",
       "        <td style=\"padding-left: 1em; padding-right: 1em; text-align: center; vertical-align: top\">169.0</td>\n",
       "        <td style=\"padding-left: 1em; padding-right: 1em; text-align: center; vertical-align: top\">2 double beds</td>\n",
       "        <td style=\"padding-left: 1em; padding-right: 1em; text-align: center; vertical-align: top\">4</td>\n",
       "        <td style=\"padding-left: 1em; padding-right: 1em; text-align: center; vertical-align: top\">W 57th St</td>\n",
       "        <td style=\"padding-left: 1em; padding-right: 1em; text-align: center; vertical-align: top\">https://www.expedia.com<br>/New-York-Hotels- ...</td>\n",
       "    </tr>\n",
       "    <tr>\n",
       "        <td style=\"padding-left: 1em; padding-right: 1em; text-align: center; vertical-align: top\">Suite, 1 King Bed</td>\n",
       "        <td style=\"padding-left: 1em; padding-right: 1em; text-align: center; vertical-align: top\">500</td>\n",
       "        <td style=\"padding-left: 1em; padding-right: 1em; text-align: center; vertical-align: top\">199.0</td>\n",
       "        <td style=\"padding-left: 1em; padding-right: 1em; text-align: center; vertical-align: top\">1 king bed</td>\n",
       "        <td style=\"padding-left: 1em; padding-right: 1em; text-align: center; vertical-align: top\">2</td>\n",
       "        <td style=\"padding-left: 1em; padding-right: 1em; text-align: center; vertical-align: top\">W 57th St</td>\n",
       "        <td style=\"padding-left: 1em; padding-right: 1em; text-align: center; vertical-align: top\">https://www.expedia.com<br>/New-York-Hotels- ...</td>\n",
       "    </tr>\n",
       "    <tr>\n",
       "        <td style=\"padding-left: 1em; padding-right: 1em; text-align: center; vertical-align: top\">Superior Room, 1 King Bed</td>\n",
       "        <td style=\"padding-left: 1em; padding-right: 1em; text-align: center; vertical-align: top\">180</td>\n",
       "        <td style=\"padding-left: 1em; padding-right: 1em; text-align: center; vertical-align: top\">199.0</td>\n",
       "        <td style=\"padding-left: 1em; padding-right: 1em; text-align: center; vertical-align: top\">1 king bed</td>\n",
       "        <td style=\"padding-left: 1em; padding-right: 1em; text-align: center; vertical-align: top\">2</td>\n",
       "        <td style=\"padding-left: 1em; padding-right: 1em; text-align: center; vertical-align: top\">E 45th Street</td>\n",
       "        <td style=\"padding-left: 1em; padding-right: 1em; text-align: center; vertical-align: top\">https://www.expedia.com<br>/New-York-Hotels-The- ...</td>\n",
       "    </tr>\n",
       "    <tr>\n",
       "        <td style=\"padding-left: 1em; padding-right: 1em; text-align: center; vertical-align: top\">Standard Room, 1 Queen<br>Bed ...</td>\n",
       "        <td style=\"padding-left: 1em; padding-right: 1em; text-align: center; vertical-align: top\">130</td>\n",
       "        <td style=\"padding-left: 1em; padding-right: 1em; text-align: center; vertical-align: top\">199.0</td>\n",
       "        <td style=\"padding-left: 1em; padding-right: 1em; text-align: center; vertical-align: top\">1 queen bed</td>\n",
       "        <td style=\"padding-left: 1em; padding-right: 1em; text-align: center; vertical-align: top\">2</td>\n",
       "        <td style=\"padding-left: 1em; padding-right: 1em; text-align: center; vertical-align: top\">E 45th Street</td>\n",
       "        <td style=\"padding-left: 1em; padding-right: 1em; text-align: center; vertical-align: top\">https://www.expedia.com<br>/New-York-Hotels-The- ...</td>\n",
       "    </tr>\n",
       "    <tr>\n",
       "        <td style=\"padding-left: 1em; padding-right: 1em; text-align: center; vertical-align: top\">Superior Double Room, 2<br>Double Beds ...</td>\n",
       "        <td style=\"padding-left: 1em; padding-right: 1em; text-align: center; vertical-align: top\">192</td>\n",
       "        <td style=\"padding-left: 1em; padding-right: 1em; text-align: center; vertical-align: top\">239.0</td>\n",
       "        <td style=\"padding-left: 1em; padding-right: 1em; text-align: center; vertical-align: top\">2 double beds</td>\n",
       "        <td style=\"padding-left: 1em; padding-right: 1em; text-align: center; vertical-align: top\">4</td>\n",
       "        <td style=\"padding-left: 1em; padding-right: 1em; text-align: center; vertical-align: top\">E 45th Street</td>\n",
       "        <td style=\"padding-left: 1em; padding-right: 1em; text-align: center; vertical-align: top\">https://www.expedia.com<br>/New-York-Hotels-The- ...</td>\n",
       "    </tr>\n",
       "    <tr>\n",
       "        <td style=\"padding-left: 1em; padding-right: 1em; text-align: center; vertical-align: top\">Deluxe Room, 1 King Bed</td>\n",
       "        <td style=\"padding-left: 1em; padding-right: 1em; text-align: center; vertical-align: top\">300</td>\n",
       "        <td style=\"padding-left: 1em; padding-right: 1em; text-align: center; vertical-align: top\">259.0</td>\n",
       "        <td style=\"padding-left: 1em; padding-right: 1em; text-align: center; vertical-align: top\">1 king bed</td>\n",
       "        <td style=\"padding-left: 1em; padding-right: 1em; text-align: center; vertical-align: top\">2</td>\n",
       "        <td style=\"padding-left: 1em; padding-right: 1em; text-align: center; vertical-align: top\">E 45th Street</td>\n",
       "        <td style=\"padding-left: 1em; padding-right: 1em; text-align: center; vertical-align: top\">https://www.expedia.com<br>/New-York-Hotels-The- ...</td>\n",
       "    </tr>\n",
       "    <tr>\n",
       "        <td style=\"padding-left: 1em; padding-right: 1em; text-align: center; vertical-align: top\">Deluxe Double Room, 2<br>Double Beds ...</td>\n",
       "        <td style=\"padding-left: 1em; padding-right: 1em; text-align: center; vertical-align: top\">300</td>\n",
       "        <td style=\"padding-left: 1em; padding-right: 1em; text-align: center; vertical-align: top\">269.0</td>\n",
       "        <td style=\"padding-left: 1em; padding-right: 1em; text-align: center; vertical-align: top\">2 double beds</td>\n",
       "        <td style=\"padding-left: 1em; padding-right: 1em; text-align: center; vertical-align: top\">4</td>\n",
       "        <td style=\"padding-left: 1em; padding-right: 1em; text-align: center; vertical-align: top\">E 45th Street</td>\n",
       "        <td style=\"padding-left: 1em; padding-right: 1em; text-align: center; vertical-align: top\">https://www.expedia.com<br>/New-York-Hotels-The- ...</td>\n",
       "    </tr>\n",
       "    <tr>\n",
       "        <td style=\"padding-left: 1em; padding-right: 1em; text-align: center; vertical-align: top\">Premium Queen</td>\n",
       "        <td style=\"padding-left: 1em; padding-right: 1em; text-align: center; vertical-align: top\">172</td>\n",
       "        <td style=\"padding-left: 1em; padding-right: 1em; text-align: center; vertical-align: top\">199.0</td>\n",
       "        <td style=\"padding-left: 1em; padding-right: 1em; text-align: center; vertical-align: top\">1 queen bed</td>\n",
       "        <td style=\"padding-left: 1em; padding-right: 1em; text-align: center; vertical-align: top\">2</td>\n",
       "        <td style=\"padding-left: 1em; padding-right: 1em; text-align: center; vertical-align: top\">Tenth Avenue</td>\n",
       "        <td style=\"padding-left: 1em; padding-right: 1em; text-align: center; vertical-align: top\">https://www.expedia.com<br>/New-York-Hotels-YOTEL- ...</td>\n",
       "    </tr>\n",
       "</table>\n",
       "[? rows x 15 columns]<br/>Note: Only the head of the SFrame is printed. This SFrame is lazily evaluated.<br/>You can use sf.materialize() to force materialization.\n",
       "</div>"
      ],
      "text/plain": [
       "Columns:\n",
       "\tname\tstr\n",
       "\tzone\tstr\n",
       "\tzipcode\tfloat\n",
       "\tstar\tfloat\n",
       "\trating\tfloat\n",
       "\trates\tstr\n",
       "\tcheckin\tstr\n",
       "\tcheckout\tstr\n",
       "\troom\tstr\n",
       "\tsize\tint\n",
       "\tprice\tfloat\n",
       "\tbed\tstr\n",
       "\tguests\tint\n",
       "\taddress\tstr\n",
       "\tlink\tstr\n",
       "\n",
       "Rows: Unknown\n",
       "\n",
       "Data:\n",
       "+--------------------------------+------------------------------+---------+------+\n",
       "|              name              |             zone             | zipcode | star |\n",
       "+--------------------------------+------------------------------+---------+------+\n",
       "|  Dumont NYC-an Affinia hotel   | Midtown East - Grand Central | 10016.0 | 4.0  |\n",
       "|  Dumont NYC-an Affinia hotel   | Midtown East - Grand Central | 10016.0 | 4.0  |\n",
       "|        Salisbury Hotel         |   Broadway - Times Square    | 10019.0 | 3.0  |\n",
       "|        Salisbury Hotel         |   Broadway - Times Square    | 10019.0 | 3.0  |\n",
       "| The Roosevelt Hotel, New Y...  | Midtown East - Grand Central | 10017.0 | 4.0  |\n",
       "| The Roosevelt Hotel, New Y...  | Midtown East - Grand Central | 10017.0 | 4.0  |\n",
       "| The Roosevelt Hotel, New Y...  | Midtown East - Grand Central | 10017.0 | 4.0  |\n",
       "| The Roosevelt Hotel, New Y...  | Midtown East - Grand Central | 10017.0 | 4.0  |\n",
       "| The Roosevelt Hotel, New Y...  | Midtown East - Grand Central | 10017.0 | 4.0  |\n",
       "| YOTEL New York at Times Square |         Midtown West         | 10036.0 | 4.0  |\n",
       "+--------------------------------+------------------------------+---------+------+\n",
       "+--------+--------+------------+------------+-------------------------------+\n",
       "| rating | rates  |  checkin   |  checkout  |              room             |\n",
       "+--------+--------+------------+------------+-------------------------------+\n",
       "|  4.4   | 2,991  | 04/21/2017 | 04/22/2017 |    Studio Suite, 1 King Bed   |\n",
       "|  4.4   | 2,991  | 04/21/2017 | 04/22/2017 |    Studio Suite, 1 King Bed   |\n",
       "|  4.1   | 14,936 | 04/21/2017 | 04/22/2017 |  Standard Room, 2 Double Beds |\n",
       "|  4.1   | 14,936 | 04/21/2017 | 04/22/2017 |       Suite, 1 King Bed       |\n",
       "|  3.7   | 19,170 | 04/21/2017 | 04/22/2017 |   Superior Room, 1 King Bed   |\n",
       "|  3.7   | 19,170 | 04/21/2017 | 04/22/2017 |   Standard Room, 1 Queen Bed  |\n",
       "|  3.7   | 19,170 | 04/21/2017 | 04/22/2017 | Superior Double Room, 2 Do... |\n",
       "|  3.7   | 19,170 | 04/21/2017 | 04/22/2017 |    Deluxe Room, 1 King Bed    |\n",
       "|  3.7   | 19,170 | 04/21/2017 | 04/22/2017 | Deluxe Double Room, 2 Doub... |\n",
       "|  4.3   | 8,319  | 04/21/2017 | 04/22/2017 |         Premium Queen         |\n",
       "+--------+--------+------------+------------+-------------------------------+\n",
       "+------+-------+---------------+--------+-------------------------------+\n",
       "| size | price |      bed      | guests |            address            |\n",
       "+------+-------+---------------+--------+-------------------------------+\n",
       "| 450  | 179.0 |   1 king bed  |   2    | E. 34th Street at Lexingto... |\n",
       "| 450  | 299.0 |   1 king bed  |   2    | E. 34th Street at Lexingto... |\n",
       "| 280  | 169.0 | 2 double beds |   4    |           W 57th St           |\n",
       "| 500  | 199.0 |   1 king bed  |   2    |           W 57th St           |\n",
       "| 180  | 199.0 |   1 king bed  |   2    |         E 45th Street         |\n",
       "| 130  | 199.0 |  1 queen bed  |   2    |         E 45th Street         |\n",
       "| 192  | 239.0 | 2 double beds |   4    |         E 45th Street         |\n",
       "| 300  | 259.0 |   1 king bed  |   2    |         E 45th Street         |\n",
       "| 300  | 269.0 | 2 double beds |   4    |         E 45th Street         |\n",
       "| 172  | 199.0 |  1 queen bed  |   2    |          Tenth Avenue         |\n",
       "+------+-------+---------------+--------+-------------------------------+\n",
       "+-------------------------------+\n",
       "|              link             |\n",
       "+-------------------------------+\n",
       "| https://www.expedia.com/Ne... |\n",
       "| https://www.expedia.com/Ne... |\n",
       "| https://www.expedia.com/Ne... |\n",
       "| https://www.expedia.com/Ne... |\n",
       "| https://www.expedia.com/Ne... |\n",
       "| https://www.expedia.com/Ne... |\n",
       "| https://www.expedia.com/Ne... |\n",
       "| https://www.expedia.com/Ne... |\n",
       "| https://www.expedia.com/Ne... |\n",
       "| https://www.expedia.com/Ne... |\n",
       "+-------------------------------+\n",
       "[? rows x 15 columns]\n",
       "Note: Only the head of the SFrame is printed. This SFrame is lazily evaluated.\n",
       "You can use sf.materialize() to force materialization."
      ]
     },
     "execution_count": 28,
     "metadata": {},
     "output_type": "execute_result"
    }
   ],
   "source": [
    "hotels = graphlab.SFrame('NY0421-23.csv')\n",
    "hotels['price'] = hotels['price'].astype(float)\n",
    "# hotels['rates'] = hotels['rates'].astype(float)\n",
    "hotels['zipcode'] = hotels['zipcode'].astype(float)\n",
    "\n",
    "#hotels = hotels[hotels['size'] < 1500] \n",
    "hotels = hotels[hotels['price'] > 10]\n",
    "hotels"
   ]
  },
  {
   "cell_type": "markdown",
   "metadata": {},
   "source": [
    "As in last phase, we will use the size variable. For plotting purposes (connecting the dots), we'll need to sort by the values of size. For hotels with identical size, we break the tie by their prices."
   ]
  },
  {
   "cell_type": "code",
   "execution_count": 29,
   "metadata": {
    "collapsed": true
   },
   "outputs": [],
   "source": [
    "hotels = hotels.sort(['size','price'])"
   ]
  },
  {
   "cell_type": "markdown",
   "metadata": {},
   "source": [
    "Let us revisit the 15th-order polynomial model using the 'size' input. Generate polynomial features up to degree 15 using polynomial_sframe() and fit a model with these features. When fitting the model, use an L2 penalty of 1e-5:"
   ]
  },
  {
   "cell_type": "code",
   "execution_count": 30,
   "metadata": {
    "collapsed": false
   },
   "outputs": [],
   "source": [
    "l2_small_penalty = 1e-5\n",
    "degree = 15\n",
    "poly_data = polynomial_sframe(hotels['size'], degree)\n",
    "features = poly_data.column_names() # get the name of the features\n",
    "poly_data['price'] = hotels['price'] # add price to the data since it's the target\n",
    "model = graphlab.linear_regression.create(poly_data, target = 'price', features = features, l2_penalty=l2_small_penalty,verbose=False,\n",
    "                                          validation_set=None)"
   ]
  },
  {
   "cell_type": "markdown",
   "metadata": {},
   "source": [
    "When we have so many features and so few data points, the solution can become highly numerically unstable, which can sometimes lead to strange unpredictable results. Thus, rather than using no regularization, we will introduce a tiny amount of regularization (l2_penalty=1e-5) to make the solution numerically stable. \n",
    "\n",
    "With the L2 penalty specified above, fit the model and print out the learned weights."
   ]
  },
  {
   "cell_type": "code",
   "execution_count": 31,
   "metadata": {
    "collapsed": false
   },
   "outputs": [
    {
     "name": "stdout",
     "output_type": "stream",
     "text": [
      "+-------------+-------+--------------------+-------------------+\n",
      "|     name    | index |       value        |       stderr      |\n",
      "+-------------+-------+--------------------+-------------------+\n",
      "| (intercept) |  None |   83.0583298817    |   72.1275393875   |\n",
      "|   power_1   |  None |   1.98637394904    |   1.21470764749   |\n",
      "|   power_2   |  None |  -0.0169115353902  |        nan        |\n",
      "|   power_3   |  None | 6.60142962561e-05  |        nan        |\n",
      "|   power_4   |  None | -1.05560429897e-07 |        nan        |\n",
      "|   power_5   |  None | 6.21439662104e-11  |        nan        |\n",
      "|   power_6   |  None | -1.5500247166e-15  |        nan        |\n",
      "|   power_7   |  None | 1.26114852145e-18  | 8.83379789718e-19 |\n",
      "|   power_8   |  None | -1.14527229882e-18 | 5.25231650069e-19 |\n",
      "|   power_9   |  None | -2.83099604749e-18 | 1.30401146771e-18 |\n",
      "|   power_10  |  None | -1.13599480601e-26 |        nan        |\n",
      "|   power_11  |  None | 1.78673304581e-30  |        nan        |\n",
      "|   power_12  |  None | 3.26035175345e-33  |        nan        |\n",
      "|   power_13  |  None | 1.56022369986e-36  |        nan        |\n",
      "|   power_14  |  None | -3.97680340223e-42 |        nan        |\n",
      "|   power_15  |  None | -7.6884913008e-43  |        nan        |\n",
      "+-------------+-------+--------------------+-------------------+\n",
      "[16 rows x 4 columns]\n",
      "\n"
     ]
    }
   ],
   "source": [
    "model.get(\"coefficients\").print_rows(16)"
   ]
  },
  {
   "cell_type": "markdown",
   "metadata": {},
   "source": [
    "# Observe overfitting\n"
   ]
  },
  {
   "cell_type": "markdown",
   "metadata": {},
   "source": [
    "Recall from Week 3 that the polynomial fit of degree 15 changed wildly whenever the data changed. And we can see from the graph that The model had a high variance. And we would use ridge regression reduces such variance. But first, we must reproduce the experiment we did in the last  phase\n",
    "\n",
    "Split the data"
   ]
  },
  {
   "cell_type": "code",
   "execution_count": 32,
   "metadata": {
    "collapsed": true
   },
   "outputs": [],
   "source": [
    "(semi_split1, semi_split2) = hotels.random_split(.5,seed=0)\n",
    "(set_1, set_2) = semi_split1.random_split(0.5, seed=0)\n",
    "(set_3, set_4) = semi_split2.random_split(0.5, seed=0)"
   ]
  },
  {
   "cell_type": "markdown",
   "metadata": {},
   "source": [
    "Next, fit a 15th degree polynomial on set_1, set_2, set_3, and set_4, using 'size' to predict prices. Print the weights and make a plot of the resulting model. This time we are going to add l_2 penalty."
   ]
  },
  {
   "cell_type": "code",
   "execution_count": 33,
   "metadata": {
    "collapsed": false
   },
   "outputs": [
    {
     "name": "stdout",
     "output_type": "stream",
     "text": [
      "+-------------+-------+----------------+---------------+\n",
      "|     name    | index |     value      |     stderr    |\n",
      "+-------------+-------+----------------+---------------+\n",
      "| (intercept) |  None | -43.9028430427 | 1099.68622641 |\n",
      "|   power_1   |  None | 4.02639994904  | 32.5707800099 |\n",
      "+-------------+-------+----------------+---------------+\n",
      "[16 rows x 4 columns]\n",
      "\n"
     ]
    },
    {
     "data": {
      "image/png": "[encoded data removed]",
      "text/plain": [
       "<matplotlib.figure.Figure at 0x11e6bc490>"
      ]
     },
     "metadata": {},
     "output_type": "display_data"
    }
   ],
   "source": [
    "l2_small_penalty = 1e-5\n",
    "degree = 15\n",
    "set1_poly_data = polynomial_sframe(set_1['size'], degree)\n",
    "set1_features = set1_poly_data.column_names() # get the name of the features\n",
    "set1_poly_data['price'] = set_1['price'] # add price to the data since it's the target\n",
    "set1_model = graphlab.linear_regression.create(set1_poly_data, target = 'price', features = set1_features, l2_penalty=l2_small_penalty,verbose=False,\n",
    "                                          validation_set=None)\n",
    "plt.plot(set1_poly_data['power_1'],set1_poly_data['price'],'.',\n",
    "        set1_poly_data['power_1'], set1_model.predict(set1_poly_data),'-')\n",
    "set1_model.get(\"coefficients\").print_rows(2)"
   ]
  },
  {
   "cell_type": "code",
   "execution_count": 34,
   "metadata": {
    "collapsed": false
   },
   "outputs": [
    {
     "name": "stdout",
     "output_type": "stream",
     "text": [
      "+-------------+-------+----------------+---------------+\n",
      "|     name    | index |     value      |     stderr    |\n",
      "+-------------+-------+----------------+---------------+\n",
      "| (intercept) |  None | -34.6416511451 | 190.347521484 |\n",
      "|   power_1   |  None | 4.21684878574  | 1.23996280772 |\n",
      "+-------------+-------+----------------+---------------+\n",
      "[16 rows x 4 columns]\n",
      "\n"
     ]
    },
    {
     "data": {
      "image/png": "[encoded data removed]",
      "text/plain": [
       "<matplotlib.figure.Figure at 0x125a9e110>"
      ]
     },
     "metadata": {},
     "output_type": "display_data"
    }
   ],
   "source": [
    "set2_poly_data = polynomial_sframe(set_2['size'], degree)\n",
    "set2_features = set2_poly_data.column_names() # get the name of the features\n",
    "set2_poly_data['price'] = set_2['price'] # add price to the data since it's the target\n",
    "set2_model = graphlab.linear_regression.create(set2_poly_data, target = 'price', features = set2_features, l2_penalty=l2_small_penalty,verbose=False,\n",
    "                                          validation_set=None)\n",
    "plt.plot(set2_poly_data['power_1'],set2_poly_data['price'],'.',\n",
    "        set2_poly_data['power_1'], set2_model.predict(set2_poly_data),'-')\n",
    "set2_model.get(\"coefficients\").print_rows(2)"
   ]
  },
  {
   "cell_type": "code",
   "execution_count": 35,
   "metadata": {
    "collapsed": false
   },
   "outputs": [
    {
     "name": "stdout",
     "output_type": "stream",
     "text": [
      "+-------------+-------+----------------+---------------+\n",
      "|     name    | index |     value      |     stderr    |\n",
      "+-------------+-------+----------------+---------------+\n",
      "| (intercept) |  None | -192.958182596 | 548.094332039 |\n",
      "|   power_1   |  None | 6.61642095357  | 13.7238063779 |\n",
      "+-------------+-------+----------------+---------------+\n",
      "[16 rows x 4 columns]\n",
      "\n"
     ]
    },
    {
     "data": {
      "image/png": "[encoded data removed]",
      "text/plain": [
       "<matplotlib.figure.Figure at 0x12440d5d0>"
      ]
     },
     "metadata": {},
     "output_type": "display_data"
    }
   ],
   "source": [
    "set3_poly_data = polynomial_sframe(set_3['size'], degree)\n",
    "set3_features = set3_poly_data.column_names() # get the name of the features\n",
    "set3_poly_data['price'] = set_3['price'] # add price to the data since it's the target\n",
    "set3_model = graphlab.linear_regression.create(set3_poly_data, target = 'price', features = set3_features, l2_penalty=l2_small_penalty,verbose=False,\n",
    "                                          validation_set=None)\n",
    "plt.plot(set3_poly_data['power_1'],set3_poly_data['price'],'.',\n",
    "        set3_poly_data['power_1'], set3_model.predict(set3_poly_data),'-')\n",
    "set3_model.get(\"coefficients\").print_rows(2)"
   ]
  },
  {
   "cell_type": "code",
   "execution_count": 36,
   "metadata": {
    "collapsed": false
   },
   "outputs": [
    {
     "name": "stdout",
     "output_type": "stream",
     "text": [
      "+-------------+-------+----------------+---------------+\n",
      "|     name    | index |     value      |     stderr    |\n",
      "+-------------+-------+----------------+---------------+\n",
      "| (intercept) |  None | 145.290597865  | 92.0105870058 |\n",
      "|   power_1   |  None | 0.648484838497 | 2.94246984746 |\n",
      "+-------------+-------+----------------+---------------+\n",
      "[16 rows x 4 columns]\n",
      "\n"
     ]
    },
    {
     "data": {
      "image/png": "[encoded data removed]",
      "text/plain": [
       "<matplotlib.figure.Figure at 0x1253cda90>"
      ]
     },
     "metadata": {},
     "output_type": "display_data"
    }
   ],
   "source": [
    "set4_poly_data = polynomial_sframe(set_4['size'], degree)\n",
    "set4_features = set4_poly_data.column_names() # get the name of the features\n",
    "set4_poly_data['price'] = set_4['price'] # add price to the data since it's the target\n",
    "set4_model = graphlab.linear_regression.create(set4_poly_data, target = 'price', features = set4_features, l2_penalty=l2_small_penalty,verbose=False,\n",
    "                                          validation_set=None)\n",
    "plt.plot(set4_poly_data['power_1'],set4_poly_data['price'],'.',\n",
    "        set4_poly_data['power_1'], set4_model.predict(set4_poly_data),'-')\n",
    "set4_model.get(\"coefficients\").print_rows(2)"
   ]
  },
  {
   "cell_type": "markdown",
   "metadata": {},
   "source": [
    "As we can see, the four curves are different from one another a lot, as should the coefficients we have learned."
   ]
  },
  {
   "cell_type": "markdown",
   "metadata": {},
   "source": [
    "# Ridge regression comes to rescue¶\n"
   ]
  },
  {
   "cell_type": "markdown",
   "metadata": {},
   "source": [
    "Generally, whenever we see weights change so much in response to change in data, we believe the variance of our estimate to be large. Ridge regression aims to address this issue by penalizing \"large\" weights. (Weights of model15 looked quite small, but they are not that small because 'size' input is in the order of thousands.)\n",
    "\n",
    "With the argument l2_penalty=1e5, fit a 15th-order polynomial model on set_1, set_2, set_3, and set_4. Other than the change in the l2_penalty parameter, the code should be the same as the experiment above. Also, make sure GraphLab Create doesn't create its own validation set by using the option validation_set = None in this call.\n"
   ]
  },
  {
   "cell_type": "code",
   "execution_count": 71,
   "metadata": {
    "collapsed": false
   },
   "outputs": [
    {
     "name": "stdout",
     "output_type": "stream",
     "text": [
      "+-------------+-------+-----------------+---------------+\n",
      "|     name    | index |      value      |     stderr    |\n",
      "+-------------+-------+-----------------+---------------+\n",
      "| (intercept) |  None |  274.431708247  | 1332.07546344 |\n",
      "|   power_1   |  None | 0.0178371375758 |  39.453742199 |\n",
      "+-------------+-------+-----------------+---------------+\n",
      "[16 rows x 4 columns]\n",
      "\n"
     ]
    },
    {
     "data": {
      "image/png": "[encoded data removed]",
      "text/plain": [
       "<matplotlib.figure.Figure at 0x128568650>"
      ]
     },
     "metadata": {},
     "output_type": "display_data"
    }
   ],
   "source": [
    "l2_penalty = 7000\n",
    "degree = 15\n",
    "set1_poly_data = polynomial_sframe(set_1['size'], degree)\n",
    "set1_features = set1_poly_data.column_names() # get the name of the features\n",
    "set1_poly_data['price'] = set_1['price'] # add price to the data since it's the target\n",
    "set1_model = graphlab.linear_regression.create(set1_poly_data, target = 'price', features = set1_features, l2_penalty=l2_penalty,verbose=False,\n",
    "                                          validation_set=None)\n",
    "plt.plot(set1_poly_data['power_1'],set1_poly_data['price'],'.',\n",
    "        set1_poly_data['power_1'], set1_model.predict(set1_poly_data),'-')\n",
    "set1_model.get(\"coefficients\").print_rows(2)"
   ]
  },
  {
   "cell_type": "code",
   "execution_count": 72,
   "metadata": {
    "collapsed": false
   },
   "outputs": [
    {
     "name": "stdout",
     "output_type": "stream",
     "text": [
      "+-------------+-------+-----------------+---------------+\n",
      "|     name    | index |      value      |     stderr    |\n",
      "+-------------+-------+-----------------+---------------+\n",
      "| (intercept) |  None |  277.160523274  | 228.047517596 |\n",
      "|   power_1   |  None | 0.0164770528056 | 1.48554831713 |\n",
      "+-------------+-------+-----------------+---------------+\n",
      "[16 rows x 4 columns]\n",
      "\n"
     ]
    },
    {
     "data": {
      "image/png": "[encoded data removed]",
      "text/plain": [
       "<matplotlib.figure.Figure at 0x1282eadd0>"
      ]
     },
     "metadata": {},
     "output_type": "display_data"
    }
   ],
   "source": [
    "set2_poly_data = polynomial_sframe(set_2['size'], degree)\n",
    "set2_features = set2_poly_data.column_names() # get the name of the features\n",
    "set2_poly_data['price'] = set_2['price'] # add price to the data since it's the target\n",
    "set2_model = graphlab.linear_regression.create(set2_poly_data, target = 'price', features = set2_features, l2_penalty=l2_penalty,verbose=False,\n",
    "                                          validation_set=None)\n",
    "plt.plot(set2_poly_data['power_1'],set2_poly_data['price'],'.',\n",
    "        set2_poly_data['power_1'], set2_model.predict(set2_poly_data),'-')\n",
    "set2_model.get(\"coefficients\").print_rows(2)"
   ]
  },
  {
   "cell_type": "code",
   "execution_count": 73,
   "metadata": {
    "collapsed": false
   },
   "outputs": [
    {
     "name": "stdout",
     "output_type": "stream",
     "text": [
      "+-------------+-------+-----------------+---------------+\n",
      "|     name    | index |      value      |     stderr    |\n",
      "+-------------+-------+-----------------+---------------+\n",
      "| (intercept) |  None |  276.811260337  | 682.668301308 |\n",
      "|   power_1   |  None | 0.0182229942342 | 17.0934217704 |\n",
      "+-------------+-------+-----------------+---------------+\n",
      "[16 rows x 4 columns]\n",
      "\n"
     ]
    },
    {
     "data": {
      "image/png": "[encoded data removed]",
      "text/plain": [
       "<matplotlib.figure.Figure at 0x124e6ce10>"
      ]
     },
     "metadata": {},
     "output_type": "display_data"
    }
   ],
   "source": [
    "set3_poly_data = polynomial_sframe(set_3['size'], degree)\n",
    "set3_features = set3_poly_data.column_names() # get the name of the features\n",
    "set3_poly_data['price'] = set_3['price'] # add price to the data since it's the target\n",
    "set3_model = graphlab.linear_regression.create(set3_poly_data, target = 'price', features = set3_features, l2_penalty=l2_penalty,verbose=False,\n",
    "                                          validation_set=None)\n",
    "plt.plot(set3_poly_data['power_1'],set3_poly_data['price'],'.',\n",
    "        set3_poly_data['power_1'], set3_model.predict(set3_poly_data),'-')\n",
    "set3_model.get(\"coefficients\").print_rows(2)"
   ]
  },
  {
   "cell_type": "code",
   "execution_count": 74,
   "metadata": {
    "collapsed": false
   },
   "outputs": [
    {
     "name": "stdout",
     "output_type": "stream",
     "text": [
      "+-------------+-------+-----------------+---------------+\n",
      "|     name    | index |      value      |     stderr    |\n",
      "+-------------+-------+-----------------+---------------+\n",
      "| (intercept) |  None |  280.576154089  | 111.058989485 |\n",
      "|   power_1   |  None | 0.0156326824704 | 3.55163181197 |\n",
      "+-------------+-------+-----------------+---------------+\n",
      "[16 rows x 4 columns]\n",
      "\n"
     ]
    },
    {
     "data": {
      "image/png": "[encoded data removed]",
      "text/plain": [
       "<matplotlib.figure.Figure at 0x128569c90>"
      ]
     },
     "metadata": {},
     "output_type": "display_data"
    }
   ],
   "source": [
    "set4_poly_data = polynomial_sframe(set_4['size'], degree)\n",
    "set4_features = set4_poly_data.column_names() # get the name of the features\n",
    "set4_poly_data['price'] = set_4['price'] # add price to the data since it's the target\n",
    "set4_model = graphlab.linear_regression.create(set4_poly_data, target = 'price', features = set4_features, l2_penalty=l2_penalty,verbose=False,\n",
    "                                          validation_set=None)\n",
    "plt.plot(set4_poly_data['power_1'],set4_poly_data['price'],'.',\n",
    "        set4_poly_data['power_1'], set4_model.predict(set4_poly_data),'-')\n",
    "set4_model.get(\"coefficients\").print_rows(2)"
   ]
  },
  {
   "cell_type": "markdown",
   "metadata": {},
   "source": [
    "As we can see, these curves should vary a lot less, now that we applied a high degree of regularization.\n"
   ]
  },
  {
   "cell_type": "markdown",
   "metadata": {},
   "source": [
    "# Selecting an L2 penalty via cross-validation\n"
   ]
  },
  {
   "cell_type": "markdown",
   "metadata": {},
   "source": [
    "Just like the polynomial degree, the L2 penalty is a \"magic\" parameter we need to select. We could use the validation set approach as we did in the last module, but that approach has a major disadvantage: it leaves fewer observations available for training. Cross-validation seeks to overcome this issue by using all of the training set in a smart way.\n",
    "\n",
    "We will implement a kind of cross-validation called k-fold cross-validation. The method gets its name because it involves dividing the training set into k segments of roughtly equal size. Similar to the validation set method, we measure the validation error with one of the segments designated as the validation set. The major difference is that we repeat the process k times as follows:\n",
    "\n",
    "Set aside segment 0 as the validation set, and fit a model on rest of data, and evalutate it on this validation set\n",
    "Set aside segment 1 as the validation set, and fit a model on rest of data, and evalutate it on this validation set\n",
    "...\n",
    "Set aside segment k-1 as the validation set, and fit a model on rest of data, and evalutate it on this validation set\n",
    "\n",
    "After this process, we compute the average of the k validation errors, and use it as an estimate of the generalization error. Notice that all observations are used for both training and validation, as we iterate over segments of data.\n",
    "\n",
    "To estimate the generalization error well, it is crucial to shuffle the training data before dividing them into segments. GraphLab Create has a utility function for shuffling a given SFrame. We reserve 10% of the data as the test set and shuffle the remainder."
   ]
  },
  {
   "cell_type": "code",
   "execution_count": 75,
   "metadata": {
    "collapsed": true
   },
   "outputs": [],
   "source": [
    "(train_valid, test) = hotels.random_split(.9, seed=1)\n",
    "train_valid_shuffled = graphlab.toolkits.cross_validation.shuffle(train_valid, random_seed=1)"
   ]
  },
  {
   "cell_type": "markdown",
   "metadata": {},
   "source": [
    "Once the data is shuffled, we divide it into equal segments. Each segment should receive n/k elements, where n is the number of observations in the training set and k is the number of segments. Since the segment 0 starts at index 0 and contains n/k elements, it ends at index (n/k)-1. The segment 1 starts where the segment 0 left off, at index (n/k). With n/k elements, the segment 1 ends at index (n*2/k)-1. Continuing in this fashion, we deduce that the segment i starts at index (n*i/k) and ends at (n*(i+1)/k)-1.\n",
    "\n",
    "With this pattern in mind, we write a short loop that prints the starting and ending indices of each segment."
   ]
  },
  {
   "cell_type": "code",
   "execution_count": 76,
   "metadata": {
    "collapsed": false
   },
   "outputs": [
    {
     "name": "stdout",
     "output_type": "stream",
     "text": [
      "0 (0, 482)\n",
      "1 (483, 965)\n",
      "2 (966, 1448)\n",
      "3 (1449, 1932)\n",
      "4 (1933, 2415)\n",
      "5 (2416, 2898)\n",
      "6 (2899, 3382)\n",
      "7 (3383, 3865)\n",
      "8 (3866, 4348)\n",
      "9 (4349, 4832)\n",
      "483\n"
     ]
    }
   ],
   "source": [
    "n = len(train_valid_shuffled)\n",
    "k = 10 # 10-fold cross-validation\n",
    "\n",
    "for i in xrange(k):\n",
    "    start = (n*i)/k\n",
    "    end = (n*(i+1))/k-1\n",
    "    print i, (start, end)\n",
    "    \n",
    "print n/k"
   ]
  },
  {
   "cell_type": "markdown",
   "metadata": {},
   "source": [
    "To extract a continuous slice from an SFrame, use colon in square brackets."
   ]
  },
  {
   "cell_type": "code",
   "execution_count": 77,
   "metadata": {
    "collapsed": false
   },
   "outputs": [
    {
     "data": {
      "text/html": [
       "<div style=\"max-height:1000px;max-width:1500px;overflow:auto;\"><table frame=\"box\" rules=\"cols\">\n",
       "    <tr>\n",
       "        <th style=\"padding-left: 1em; padding-right: 1em; text-align: center\">name</th>\n",
       "        <th style=\"padding-left: 1em; padding-right: 1em; text-align: center\">zone</th>\n",
       "        <th style=\"padding-left: 1em; padding-right: 1em; text-align: center\">zipcode</th>\n",
       "        <th style=\"padding-left: 1em; padding-right: 1em; text-align: center\">star</th>\n",
       "        <th style=\"padding-left: 1em; padding-right: 1em; text-align: center\">rating</th>\n",
       "        <th style=\"padding-left: 1em; padding-right: 1em; text-align: center\">rates</th>\n",
       "        <th style=\"padding-left: 1em; padding-right: 1em; text-align: center\">checkin</th>\n",
       "        <th style=\"padding-left: 1em; padding-right: 1em; text-align: center\">checkout</th>\n",
       "    </tr>\n",
       "    <tr>\n",
       "        <td style=\"padding-left: 1em; padding-right: 1em; text-align: center; vertical-align: top\">DoubleTree Suites by<br>Hilton New York City - ...</td>\n",
       "        <td style=\"padding-left: 1em; padding-right: 1em; text-align: center; vertical-align: top\">Broadway - Times Square</td>\n",
       "        <td style=\"padding-left: 1em; padding-right: 1em; text-align: center; vertical-align: top\">10036.0</td>\n",
       "        <td style=\"padding-left: 1em; padding-right: 1em; text-align: center; vertical-align: top\">4.0</td>\n",
       "        <td style=\"padding-left: 1em; padding-right: 1em; text-align: center; vertical-align: top\">4.4</td>\n",
       "        <td style=\"padding-left: 1em; padding-right: 1em; text-align: center; vertical-align: top\">8,258</td>\n",
       "        <td style=\"padding-left: 1em; padding-right: 1em; text-align: center; vertical-align: top\">04/23/2017</td>\n",
       "        <td style=\"padding-left: 1em; padding-right: 1em; text-align: center; vertical-align: top\">04/24/2017</td>\n",
       "    </tr>\n",
       "    <tr>\n",
       "        <td style=\"padding-left: 1em; padding-right: 1em; text-align: center; vertical-align: top\">Stewart Hotel</td>\n",
       "        <td style=\"padding-left: 1em; padding-right: 1em; text-align: center; vertical-align: top\">Madison Square Garden</td>\n",
       "        <td style=\"padding-left: 1em; padding-right: 1em; text-align: center; vertical-align: top\">10001.0</td>\n",
       "        <td style=\"padding-left: 1em; padding-right: 1em; text-align: center; vertical-align: top\">4.0</td>\n",
       "        <td style=\"padding-left: 1em; padding-right: 1em; text-align: center; vertical-align: top\">4.0</td>\n",
       "        <td style=\"padding-left: 1em; padding-right: 1em; text-align: center; vertical-align: top\">7,197</td>\n",
       "        <td style=\"padding-left: 1em; padding-right: 1em; text-align: center; vertical-align: top\">04/21/2017</td>\n",
       "        <td style=\"padding-left: 1em; padding-right: 1em; text-align: center; vertical-align: top\">04/22/2017</td>\n",
       "    </tr>\n",
       "    <tr>\n",
       "        <td style=\"padding-left: 1em; padding-right: 1em; text-align: center; vertical-align: top\">Viceroy Central Park New<br>York ...</td>\n",
       "        <td style=\"padding-left: 1em; padding-right: 1em; text-align: center; vertical-align: top\">Broadway - Times Square</td>\n",
       "        <td style=\"padding-left: 1em; padding-right: 1em; text-align: center; vertical-align: top\">10019.0</td>\n",
       "        <td style=\"padding-left: 1em; padding-right: 1em; text-align: center; vertical-align: top\">5.0</td>\n",
       "        <td style=\"padding-left: 1em; padding-right: 1em; text-align: center; vertical-align: top\">4.2</td>\n",
       "        <td style=\"padding-left: 1em; padding-right: 1em; text-align: center; vertical-align: top\">868</td>\n",
       "        <td style=\"padding-left: 1em; padding-right: 1em; text-align: center; vertical-align: top\">04/22/2017</td>\n",
       "        <td style=\"padding-left: 1em; padding-right: 1em; text-align: center; vertical-align: top\">04/23/2017</td>\n",
       "    </tr>\n",
       "    <tr>\n",
       "        <td style=\"padding-left: 1em; padding-right: 1em; text-align: center; vertical-align: top\">Henry Norman Hotel</td>\n",
       "        <td style=\"padding-left: 1em; padding-right: 1em; text-align: center; vertical-align: top\">Brooklyn</td>\n",
       "        <td style=\"padding-left: 1em; padding-right: 1em; text-align: center; vertical-align: top\">11222.0</td>\n",
       "        <td style=\"padding-left: 1em; padding-right: 1em; text-align: center; vertical-align: top\">3.5</td>\n",
       "        <td style=\"padding-left: 1em; padding-right: 1em; text-align: center; vertical-align: top\">4.7</td>\n",
       "        <td style=\"padding-left: 1em; padding-right: 1em; text-align: center; vertical-align: top\">237</td>\n",
       "        <td style=\"padding-left: 1em; padding-right: 1em; text-align: center; vertical-align: top\">04/22/2017</td>\n",
       "        <td style=\"padding-left: 1em; padding-right: 1em; text-align: center; vertical-align: top\">04/23/2017</td>\n",
       "    </tr>\n",
       "    <tr>\n",
       "        <td style=\"padding-left: 1em; padding-right: 1em; text-align: center; vertical-align: top\">Hilton Garden Inn New<br>York-Times Square Cen ...</td>\n",
       "        <td style=\"padding-left: 1em; padding-right: 1em; text-align: center; vertical-align: top\">Broadway - Times Square</td>\n",
       "        <td style=\"padding-left: 1em; padding-right: 1em; text-align: center; vertical-align: top\">10036.0</td>\n",
       "        <td style=\"padding-left: 1em; padding-right: 1em; text-align: center; vertical-align: top\">3.5</td>\n",
       "        <td style=\"padding-left: 1em; padding-right: 1em; text-align: center; vertical-align: top\">4.2</td>\n",
       "        <td style=\"padding-left: 1em; padding-right: 1em; text-align: center; vertical-align: top\">1,814</td>\n",
       "        <td style=\"padding-left: 1em; padding-right: 1em; text-align: center; vertical-align: top\">04/21/2017</td>\n",
       "        <td style=\"padding-left: 1em; padding-right: 1em; text-align: center; vertical-align: top\">04/22/2017</td>\n",
       "    </tr>\n",
       "    <tr>\n",
       "        <td style=\"padding-left: 1em; padding-right: 1em; text-align: center; vertical-align: top\">Warwick New York</td>\n",
       "        <td style=\"padding-left: 1em; padding-right: 1em; text-align: center; vertical-align: top\">Broadway - Times Square</td>\n",
       "        <td style=\"padding-left: 1em; padding-right: 1em; text-align: center; vertical-align: top\">10019.0</td>\n",
       "        <td style=\"padding-left: 1em; padding-right: 1em; text-align: center; vertical-align: top\">4.5</td>\n",
       "        <td style=\"padding-left: 1em; padding-right: 1em; text-align: center; vertical-align: top\">4.4</td>\n",
       "        <td style=\"padding-left: 1em; padding-right: 1em; text-align: center; vertical-align: top\">4,340</td>\n",
       "        <td style=\"padding-left: 1em; padding-right: 1em; text-align: center; vertical-align: top\">04/21/2017</td>\n",
       "        <td style=\"padding-left: 1em; padding-right: 1em; text-align: center; vertical-align: top\">04/22/2017</td>\n",
       "    </tr>\n",
       "    <tr>\n",
       "        <td style=\"padding-left: 1em; padding-right: 1em; text-align: center; vertical-align: top\">W New York - Times Square</td>\n",
       "        <td style=\"padding-left: 1em; padding-right: 1em; text-align: center; vertical-align: top\">Broadway - Times Square</td>\n",
       "        <td style=\"padding-left: 1em; padding-right: 1em; text-align: center; vertical-align: top\">10036.0</td>\n",
       "        <td style=\"padding-left: 1em; padding-right: 1em; text-align: center; vertical-align: top\">4.5</td>\n",
       "        <td style=\"padding-left: 1em; padding-right: 1em; text-align: center; vertical-align: top\">4.2</td>\n",
       "        <td style=\"padding-left: 1em; padding-right: 1em; text-align: center; vertical-align: top\">2,438</td>\n",
       "        <td style=\"padding-left: 1em; padding-right: 1em; text-align: center; vertical-align: top\">04/22/2017</td>\n",
       "        <td style=\"padding-left: 1em; padding-right: 1em; text-align: center; vertical-align: top\">04/23/2017</td>\n",
       "    </tr>\n",
       "    <tr>\n",
       "        <td style=\"padding-left: 1em; padding-right: 1em; text-align: center; vertical-align: top\">Vanderbilt YMCA</td>\n",
       "        <td style=\"padding-left: 1em; padding-right: 1em; text-align: center; vertical-align: top\">Midtown East - Grand<br>Central ...</td>\n",
       "        <td style=\"padding-left: 1em; padding-right: 1em; text-align: center; vertical-align: top\">10017.0</td>\n",
       "        <td style=\"padding-left: 1em; padding-right: 1em; text-align: center; vertical-align: top\">2.0</td>\n",
       "        <td style=\"padding-left: 1em; padding-right: 1em; text-align: center; vertical-align: top\">3.2</td>\n",
       "        <td style=\"padding-left: 1em; padding-right: 1em; text-align: center; vertical-align: top\">942</td>\n",
       "        <td style=\"padding-left: 1em; padding-right: 1em; text-align: center; vertical-align: top\">04/22/2017</td>\n",
       "        <td style=\"padding-left: 1em; padding-right: 1em; text-align: center; vertical-align: top\">04/23/2017</td>\n",
       "    </tr>\n",
       "    <tr>\n",
       "        <td style=\"padding-left: 1em; padding-right: 1em; text-align: center; vertical-align: top\">Hotel 48LEX New York</td>\n",
       "        <td style=\"padding-left: 1em; padding-right: 1em; text-align: center; vertical-align: top\">Midtown East - Grand<br>Central ...</td>\n",
       "        <td style=\"padding-left: 1em; padding-right: 1em; text-align: center; vertical-align: top\">10017.0</td>\n",
       "        <td style=\"padding-left: 1em; padding-right: 1em; text-align: center; vertical-align: top\">4.5</td>\n",
       "        <td style=\"padding-left: 1em; padding-right: 1em; text-align: center; vertical-align: top\">4.5</td>\n",
       "        <td style=\"padding-left: 1em; padding-right: 1em; text-align: center; vertical-align: top\">731</td>\n",
       "        <td style=\"padding-left: 1em; padding-right: 1em; text-align: center; vertical-align: top\">04/23/2017</td>\n",
       "        <td style=\"padding-left: 1em; padding-right: 1em; text-align: center; vertical-align: top\">04/24/2017</td>\n",
       "    </tr>\n",
       "    <tr>\n",
       "        <td style=\"padding-left: 1em; padding-right: 1em; text-align: center; vertical-align: top\">Element New York Times<br>Square West ...</td>\n",
       "        <td style=\"padding-left: 1em; padding-right: 1em; text-align: center; vertical-align: top\">Broadway - Times Square</td>\n",
       "        <td style=\"padding-left: 1em; padding-right: 1em; text-align: center; vertical-align: top\">10018.0</td>\n",
       "        <td style=\"padding-left: 1em; padding-right: 1em; text-align: center; vertical-align: top\">3.5</td>\n",
       "        <td style=\"padding-left: 1em; padding-right: 1em; text-align: center; vertical-align: top\">4.4</td>\n",
       "        <td style=\"padding-left: 1em; padding-right: 1em; text-align: center; vertical-align: top\">5,946</td>\n",
       "        <td style=\"padding-left: 1em; padding-right: 1em; text-align: center; vertical-align: top\">04/23/2017</td>\n",
       "        <td style=\"padding-left: 1em; padding-right: 1em; text-align: center; vertical-align: top\">04/24/2017</td>\n",
       "    </tr>\n",
       "</table>\n",
       "<table frame=\"box\" rules=\"cols\">\n",
       "    <tr>\n",
       "        <th style=\"padding-left: 1em; padding-right: 1em; text-align: center\">room</th>\n",
       "        <th style=\"padding-left: 1em; padding-right: 1em; text-align: center\">size</th>\n",
       "        <th style=\"padding-left: 1em; padding-right: 1em; text-align: center\">price</th>\n",
       "        <th style=\"padding-left: 1em; padding-right: 1em; text-align: center\">bed</th>\n",
       "        <th style=\"padding-left: 1em; padding-right: 1em; text-align: center\">guests</th>\n",
       "        <th style=\"padding-left: 1em; padding-right: 1em; text-align: center\">address</th>\n",
       "    </tr>\n",
       "    <tr>\n",
       "        <td style=\"padding-left: 1em; padding-right: 1em; text-align: center; vertical-align: top\">Standard Suite One King<br>and One Sofa Bed ...</td>\n",
       "        <td style=\"padding-left: 1em; padding-right: 1em; text-align: center; vertical-align: top\">420</td>\n",
       "        <td style=\"padding-left: 1em; padding-right: 1em; text-align: center; vertical-align: top\">129.0</td>\n",
       "        <td style=\"padding-left: 1em; padding-right: 1em; text-align: center; vertical-align: top\">1 king and 1 sofa bed</td>\n",
       "        <td style=\"padding-left: 1em; padding-right: 1em; text-align: center; vertical-align: top\">4</td>\n",
       "        <td style=\"padding-left: 1em; padding-right: 1em; text-align: center; vertical-align: top\">Broadway 47th Street And<br>7th Avenue ...</td>\n",
       "    </tr>\n",
       "    <tr>\n",
       "        <td style=\"padding-left: 1em; padding-right: 1em; text-align: center; vertical-align: top\">Studio Suite, 1 King Bed</td>\n",
       "        <td style=\"padding-left: 1em; padding-right: 1em; text-align: center; vertical-align: top\">409</td>\n",
       "        <td style=\"padding-left: 1em; padding-right: 1em; text-align: center; vertical-align: top\">204.0</td>\n",
       "        <td style=\"padding-left: 1em; padding-right: 1em; text-align: center; vertical-align: top\">1 king bed</td>\n",
       "        <td style=\"padding-left: 1em; padding-right: 1em; text-align: center; vertical-align: top\">3</td>\n",
       "        <td style=\"padding-left: 1em; padding-right: 1em; text-align: center; vertical-align: top\">7th Ave</td>\n",
       "    </tr>\n",
       "    <tr>\n",
       "        <td style=\"padding-left: 1em; padding-right: 1em; text-align: center; vertical-align: top\">Suite, Park View</td>\n",
       "        <td style=\"padding-left: 1em; padding-right: 1em; text-align: center; vertical-align: top\">500</td>\n",
       "        <td style=\"padding-left: 1em; padding-right: 1em; text-align: center; vertical-align: top\">719.0</td>\n",
       "        <td style=\"padding-left: 1em; padding-right: 1em; text-align: center; vertical-align: top\">1 king bed</td>\n",
       "        <td style=\"padding-left: 1em; padding-right: 1em; text-align: center; vertical-align: top\">3</td>\n",
       "        <td style=\"padding-left: 1em; padding-right: 1em; text-align: center; vertical-align: top\">W 57th St</td>\n",
       "    </tr>\n",
       "    <tr>\n",
       "        <td style=\"padding-left: 1em; padding-right: 1em; text-align: center; vertical-align: top\">Standard Loft</td>\n",
       "        <td style=\"padding-left: 1em; padding-right: 1em; text-align: center; vertical-align: top\">220</td>\n",
       "        <td style=\"padding-left: 1em; padding-right: 1em; text-align: center; vertical-align: top\">269.0</td>\n",
       "        <td style=\"padding-left: 1em; padding-right: 1em; text-align: center; vertical-align: top\">1 queen bed</td>\n",
       "        <td style=\"padding-left: 1em; padding-right: 1em; text-align: center; vertical-align: top\">2</td>\n",
       "        <td style=\"padding-left: 1em; padding-right: 1em; text-align: center; vertical-align: top\">North Henry Street</td>\n",
       "    </tr>\n",
       "    <tr>\n",
       "        <td style=\"padding-left: 1em; padding-right: 1em; text-align: center; vertical-align: top\">Room, Accessible, City<br>View ...</td>\n",
       "        <td style=\"padding-left: 1em; padding-right: 1em; text-align: center; vertical-align: top\">180</td>\n",
       "        <td style=\"padding-left: 1em; padding-right: 1em; text-align: center; vertical-align: top\">189.0</td>\n",
       "        <td style=\"padding-left: 1em; padding-right: 1em; text-align: center; vertical-align: top\">1 queen bed</td>\n",
       "        <td style=\"padding-left: 1em; padding-right: 1em; text-align: center; vertical-align: top\">2</td>\n",
       "        <td style=\"padding-left: 1em; padding-right: 1em; text-align: center; vertical-align: top\">West 42nd Street</td>\n",
       "    </tr>\n",
       "    <tr>\n",
       "        <td style=\"padding-left: 1em; padding-right: 1em; text-align: center; vertical-align: top\">Premier Room, 1 King Bed,<br>Private Bathroom, ...</td>\n",
       "        <td style=\"padding-left: 1em; padding-right: 1em; text-align: center; vertical-align: top\">250</td>\n",
       "        <td style=\"padding-left: 1em; padding-right: 1em; text-align: center; vertical-align: top\">249.0</td>\n",
       "        <td style=\"padding-left: 1em; padding-right: 1em; text-align: center; vertical-align: top\">1 king bed</td>\n",
       "        <td style=\"padding-left: 1em; padding-right: 1em; text-align: center; vertical-align: top\">3</td>\n",
       "        <td style=\"padding-left: 1em; padding-right: 1em; text-align: center; vertical-align: top\">W 54th St</td>\n",
       "    </tr>\n",
       "    <tr>\n",
       "        <td style=\"padding-left: 1em; padding-right: 1em; text-align: center; vertical-align: top\">Wonderful Room, 2 Double<br>Beds ...</td>\n",
       "        <td style=\"padding-left: 1em; padding-right: 1em; text-align: center; vertical-align: top\">288</td>\n",
       "        <td style=\"padding-left: 1em; padding-right: 1em; text-align: center; vertical-align: top\">384.0</td>\n",
       "        <td style=\"padding-left: 1em; padding-right: 1em; text-align: center; vertical-align: top\">2 double beds</td>\n",
       "        <td style=\"padding-left: 1em; padding-right: 1em; text-align: center; vertical-align: top\">4</td>\n",
       "        <td style=\"padding-left: 1em; padding-right: 1em; text-align: center; vertical-align: top\">Broadway At 47th St</td>\n",
       "    </tr>\n",
       "    <tr>\n",
       "        <td style=\"padding-left: 1em; padding-right: 1em; text-align: center; vertical-align: top\">Standard Bunk Room,<br>Shared Bathroom ...</td>\n",
       "        <td style=\"padding-left: 1em; padding-right: 1em; text-align: center; vertical-align: top\">80</td>\n",
       "        <td style=\"padding-left: 1em; padding-right: 1em; text-align: center; vertical-align: top\">175.0</td>\n",
       "        <td style=\"padding-left: 1em; padding-right: 1em; text-align: center; vertical-align: top\">1 bunk bed</td>\n",
       "        <td style=\"padding-left: 1em; padding-right: 1em; text-align: center; vertical-align: top\">2</td>\n",
       "        <td style=\"padding-left: 1em; padding-right: 1em; text-align: center; vertical-align: top\">East 47th Street</td>\n",
       "    </tr>\n",
       "    <tr>\n",
       "        <td style=\"padding-left: 1em; padding-right: 1em; text-align: center; vertical-align: top\">Premium Room, 1 King Bed</td>\n",
       "        <td style=\"padding-left: 1em; padding-right: 1em; text-align: center; vertical-align: top\">366</td>\n",
       "        <td style=\"padding-left: 1em; padding-right: 1em; text-align: center; vertical-align: top\">237.0</td>\n",
       "        <td style=\"padding-left: 1em; padding-right: 1em; text-align: center; vertical-align: top\">1 king bed</td>\n",
       "        <td style=\"padding-left: 1em; padding-right: 1em; text-align: center; vertical-align: top\">2</td>\n",
       "        <td style=\"padding-left: 1em; padding-right: 1em; text-align: center; vertical-align: top\">Lexington Avenue</td>\n",
       "    </tr>\n",
       "    <tr>\n",
       "        <td style=\"padding-left: 1em; padding-right: 1em; text-align: center; vertical-align: top\">Deluxe Double Room</td>\n",
       "        <td style=\"padding-left: 1em; padding-right: 1em; text-align: center; vertical-align: top\">335</td>\n",
       "        <td style=\"padding-left: 1em; padding-right: 1em; text-align: center; vertical-align: top\">144.0</td>\n",
       "        <td style=\"padding-left: 1em; padding-right: 1em; text-align: center; vertical-align: top\">2 double beds</td>\n",
       "        <td style=\"padding-left: 1em; padding-right: 1em; text-align: center; vertical-align: top\">4</td>\n",
       "        <td style=\"padding-left: 1em; padding-right: 1em; text-align: center; vertical-align: top\">West 39th Street</td>\n",
       "    </tr>\n",
       "</table>\n",
       "<table frame=\"box\" rules=\"cols\">\n",
       "    <tr>\n",
       "        <th style=\"padding-left: 1em; padding-right: 1em; text-align: center\">link</th>\n",
       "    </tr>\n",
       "    <tr>\n",
       "        <td style=\"padding-left: 1em; padding-right: 1em; text-align: center; vertical-align: top\">https://www.expedia.com<br>/New-York-Hotels- ...</td>\n",
       "    </tr>\n",
       "    <tr>\n",
       "        <td style=\"padding-left: 1em; padding-right: 1em; text-align: center; vertical-align: top\">https://www.expedia.com<br>/New-York-Hotels-Stew ...</td>\n",
       "    </tr>\n",
       "    <tr>\n",
       "        <td style=\"padding-left: 1em; padding-right: 1em; text-align: center; vertical-align: top\">https://www.expedia.com<br>/New-York-Hotels-Vice ...</td>\n",
       "    </tr>\n",
       "    <tr>\n",
       "        <td style=\"padding-left: 1em; padding-right: 1em; text-align: center; vertical-align: top\">https://www.expedia.com<br>/Brooklyn-Hotels-Henry- ...</td>\n",
       "    </tr>\n",
       "    <tr>\n",
       "        <td style=\"padding-left: 1em; padding-right: 1em; text-align: center; vertical-align: top\">https://www.expedia.com<br>/New-York-Hotels-Hilton- ...</td>\n",
       "    </tr>\n",
       "    <tr>\n",
       "        <td style=\"padding-left: 1em; padding-right: 1em; text-align: center; vertical-align: top\">https://www.expedia.com<br>/New-York-Hotels-Warw ...</td>\n",
       "    </tr>\n",
       "    <tr>\n",
       "        <td style=\"padding-left: 1em; padding-right: 1em; text-align: center; vertical-align: top\">https://www.expedia.com<br>/New-York-Hotels-W-New- ...</td>\n",
       "    </tr>\n",
       "    <tr>\n",
       "        <td style=\"padding-left: 1em; padding-right: 1em; text-align: center; vertical-align: top\">https://www.expedia.com<br>/New-York-Hotels- ...</td>\n",
       "    </tr>\n",
       "    <tr>\n",
       "        <td style=\"padding-left: 1em; padding-right: 1em; text-align: center; vertical-align: top\">https://www.expedia.com<br>/New-York-Hotels-Hotel- ...</td>\n",
       "    </tr>\n",
       "    <tr>\n",
       "        <td style=\"padding-left: 1em; padding-right: 1em; text-align: center; vertical-align: top\">https://www.expedia.com<br>/New-York-Hotels-Elem ...</td>\n",
       "    </tr>\n",
       "</table>\n",
       "[10 rows x 15 columns]<br/>\n",
       "</div>"
      ],
      "text/plain": [
       "Columns:\n",
       "\tname\tstr\n",
       "\tzone\tstr\n",
       "\tzipcode\tfloat\n",
       "\tstar\tfloat\n",
       "\trating\tfloat\n",
       "\trates\tstr\n",
       "\tcheckin\tstr\n",
       "\tcheckout\tstr\n",
       "\troom\tstr\n",
       "\tsize\tint\n",
       "\tprice\tfloat\n",
       "\tbed\tstr\n",
       "\tguests\tint\n",
       "\taddress\tstr\n",
       "\tlink\tstr\n",
       "\n",
       "Rows: 10\n",
       "\n",
       "Data:\n",
       "+-------------------------------+------------------------------+---------+------+\n",
       "|              name             |             zone             | zipcode | star |\n",
       "+-------------------------------+------------------------------+---------+------+\n",
       "| DoubleTree Suites by Hilto... |   Broadway - Times Square    | 10036.0 | 4.0  |\n",
       "|         Stewart Hotel         |    Madison Square Garden     | 10001.0 | 4.0  |\n",
       "| Viceroy Central Park New York |   Broadway - Times Square    | 10019.0 | 5.0  |\n",
       "|       Henry Norman Hotel      |           Brooklyn           | 11222.0 | 3.5  |\n",
       "| Hilton Garden Inn New York... |   Broadway - Times Square    | 10036.0 | 3.5  |\n",
       "|        Warwick New York       |   Broadway - Times Square    | 10019.0 | 4.5  |\n",
       "|   W New York - Times Square   |   Broadway - Times Square    | 10036.0 | 4.5  |\n",
       "|        Vanderbilt YMCA        | Midtown East - Grand Central | 10017.0 | 2.0  |\n",
       "|      Hotel 48LEX New York     | Midtown East - Grand Central | 10017.0 | 4.5  |\n",
       "| Element New York Times Squ... |   Broadway - Times Square    | 10018.0 | 3.5  |\n",
       "+-------------------------------+------------------------------+---------+------+\n",
       "+--------+-------+------------+------------+-------------------------------+------+\n",
       "| rating | rates |  checkin   |  checkout  |              room             | size |\n",
       "+--------+-------+------------+------------+-------------------------------+------+\n",
       "|  4.4   | 8,258 | 04/23/2017 | 04/24/2017 | Standard Suite One King an... | 420  |\n",
       "|  4.0   | 7,197 | 04/21/2017 | 04/22/2017 |    Studio Suite, 1 King Bed   | 409  |\n",
       "|  4.2   |  868  | 04/22/2017 | 04/23/2017 |        Suite, Park View       | 500  |\n",
       "|  4.7   |  237  | 04/22/2017 | 04/23/2017 |         Standard Loft         | 220  |\n",
       "|  4.2   | 1,814 | 04/21/2017 | 04/22/2017 |  Room, Accessible, City View  | 180  |\n",
       "|  4.4   | 4,340 | 04/21/2017 | 04/22/2017 | Premier Room, 1 King Bed, ... | 250  |\n",
       "|  4.2   | 2,438 | 04/22/2017 | 04/23/2017 | Wonderful Room, 2 Double Beds | 288  |\n",
       "|  3.2   |  942  | 04/22/2017 | 04/23/2017 | Standard Bunk Room, Shared... |  80  |\n",
       "|  4.5   |  731  | 04/23/2017 | 04/24/2017 |    Premium Room, 1 King Bed   | 366  |\n",
       "|  4.4   | 5,946 | 04/23/2017 | 04/24/2017 |       Deluxe Double Room      | 335  |\n",
       "+--------+-------+------------+------------+-------------------------------+------+\n",
       "+-------+-----------------------+--------+-------------------------------+\n",
       "| price |          bed          | guests |            address            |\n",
       "+-------+-----------------------+--------+-------------------------------+\n",
       "| 129.0 | 1 king and 1 sofa bed |   4    | Broadway 47th Street And 7... |\n",
       "| 204.0 |       1 king bed      |   3    |            7th Ave            |\n",
       "| 719.0 |       1 king bed      |   3    |           W 57th St           |\n",
       "| 269.0 |      1 queen bed      |   2    |       North Henry Street      |\n",
       "| 189.0 |      1 queen bed      |   2    |        West 42nd Street       |\n",
       "| 249.0 |       1 king bed      |   3    |           W 54th St           |\n",
       "| 384.0 |     2 double beds     |   4    |      Broadway At 47th St      |\n",
       "| 175.0 |       1 bunk bed      |   2    |        East 47th Street       |\n",
       "| 237.0 |       1 king bed      |   2    |        Lexington Avenue       |\n",
       "| 144.0 |     2 double beds     |   4    |        West 39th Street       |\n",
       "+-------+-----------------------+--------+-------------------------------+\n",
       "+-------------------------------+\n",
       "|              link             |\n",
       "+-------------------------------+\n",
       "| https://www.expedia.com/Ne... |\n",
       "| https://www.expedia.com/Ne... |\n",
       "| https://www.expedia.com/Ne... |\n",
       "| https://www.expedia.com/Br... |\n",
       "| https://www.expedia.com/Ne... |\n",
       "| https://www.expedia.com/Ne... |\n",
       "| https://www.expedia.com/Ne... |\n",
       "| https://www.expedia.com/Ne... |\n",
       "| https://www.expedia.com/Ne... |\n",
       "| https://www.expedia.com/Ne... |\n",
       "+-------------------------------+\n",
       "[10 rows x 15 columns]"
      ]
     },
     "execution_count": 77,
     "metadata": {},
     "output_type": "execute_result"
    }
   ],
   "source": [
    "train_valid_shuffled[0:10] # rows 0 to 9"
   ]
  },
  {
   "cell_type": "markdown",
   "metadata": {},
   "source": [
    "We will extract individual segments with array slicing. Consider the scenario where we group the hotels in the train_valid_shuffled dataframe into k=10 segments of roughly equal size, with starting and ending indices computed as above. Extract the fourth segment (segment 3) and assign it to a variable called validation4."
   ]
  },
  {
   "cell_type": "code",
   "execution_count": 78,
   "metadata": {
    "collapsed": false
   },
   "outputs": [
    {
     "data": {
      "text/html": [
       "<div style=\"max-height:1000px;max-width:1500px;overflow:auto;\"><table frame=\"box\" rules=\"cols\">\n",
       "    <tr>\n",
       "        <th style=\"padding-left: 1em; padding-right: 1em; text-align: center\">name</th>\n",
       "        <th style=\"padding-left: 1em; padding-right: 1em; text-align: center\">zone</th>\n",
       "        <th style=\"padding-left: 1em; padding-right: 1em; text-align: center\">zipcode</th>\n",
       "        <th style=\"padding-left: 1em; padding-right: 1em; text-align: center\">star</th>\n",
       "        <th style=\"padding-left: 1em; padding-right: 1em; text-align: center\">rating</th>\n",
       "        <th style=\"padding-left: 1em; padding-right: 1em; text-align: center\">rates</th>\n",
       "        <th style=\"padding-left: 1em; padding-right: 1em; text-align: center\">checkin</th>\n",
       "        <th style=\"padding-left: 1em; padding-right: 1em; text-align: center\">checkout</th>\n",
       "    </tr>\n",
       "    <tr>\n",
       "        <td style=\"padding-left: 1em; padding-right: 1em; text-align: center; vertical-align: top\">Heritage Hotel</td>\n",
       "        <td style=\"padding-left: 1em; padding-right: 1em; text-align: center; vertical-align: top\">Chelsea</td>\n",
       "        <td style=\"padding-left: 1em; padding-right: 1em; text-align: center; vertical-align: top\">10010.0</td>\n",
       "        <td style=\"padding-left: 1em; padding-right: 1em; text-align: center; vertical-align: top\">2.5</td>\n",
       "        <td style=\"padding-left: 1em; padding-right: 1em; text-align: center; vertical-align: top\">3.6</td>\n",
       "        <td style=\"padding-left: 1em; padding-right: 1em; text-align: center; vertical-align: top\">135</td>\n",
       "        <td style=\"padding-left: 1em; padding-right: 1em; text-align: center; vertical-align: top\">04/21/2017</td>\n",
       "        <td style=\"padding-left: 1em; padding-right: 1em; text-align: center; vertical-align: top\">04/22/2017</td>\n",
       "    </tr>\n",
       "    <tr>\n",
       "        <td style=\"padding-left: 1em; padding-right: 1em; text-align: center; vertical-align: top\">The Ritz-Carlton New<br>York, Battery Park ...</td>\n",
       "        <td style=\"padding-left: 1em; padding-right: 1em; text-align: center; vertical-align: top\">Wall Street - Financial<br>District ...</td>\n",
       "        <td style=\"padding-left: 1em; padding-right: 1em; text-align: center; vertical-align: top\">10004.0</td>\n",
       "        <td style=\"padding-left: 1em; padding-right: 1em; text-align: center; vertical-align: top\">5.0</td>\n",
       "        <td style=\"padding-left: 1em; padding-right: 1em; text-align: center; vertical-align: top\">4.6</td>\n",
       "        <td style=\"padding-left: 1em; padding-right: 1em; text-align: center; vertical-align: top\">1,130</td>\n",
       "        <td style=\"padding-left: 1em; padding-right: 1em; text-align: center; vertical-align: top\">04/21/2017</td>\n",
       "        <td style=\"padding-left: 1em; padding-right: 1em; text-align: center; vertical-align: top\">04/22/2017</td>\n",
       "    </tr>\n",
       "    <tr>\n",
       "        <td style=\"padding-left: 1em; padding-right: 1em; text-align: center; vertical-align: top\">Grand Hyatt New York</td>\n",
       "        <td style=\"padding-left: 1em; padding-right: 1em; text-align: center; vertical-align: top\">Midtown East - Grand<br>Central ...</td>\n",
       "        <td style=\"padding-left: 1em; padding-right: 1em; text-align: center; vertical-align: top\">10017.0</td>\n",
       "        <td style=\"padding-left: 1em; padding-right: 1em; text-align: center; vertical-align: top\">4.0</td>\n",
       "        <td style=\"padding-left: 1em; padding-right: 1em; text-align: center; vertical-align: top\">4.2</td>\n",
       "        <td style=\"padding-left: 1em; padding-right: 1em; text-align: center; vertical-align: top\">8,337</td>\n",
       "        <td style=\"padding-left: 1em; padding-right: 1em; text-align: center; vertical-align: top\">04/22/2017</td>\n",
       "        <td style=\"padding-left: 1em; padding-right: 1em; text-align: center; vertical-align: top\">04/23/2017</td>\n",
       "    </tr>\n",
       "    <tr>\n",
       "        <td style=\"padding-left: 1em; padding-right: 1em; text-align: center; vertical-align: top\">W New York - Downtown</td>\n",
       "        <td style=\"padding-left: 1em; padding-right: 1em; text-align: center; vertical-align: top\">Wall Street - Financial<br>District ...</td>\n",
       "        <td style=\"padding-left: 1em; padding-right: 1em; text-align: center; vertical-align: top\">10006.0</td>\n",
       "        <td style=\"padding-left: 1em; padding-right: 1em; text-align: center; vertical-align: top\">4.5</td>\n",
       "        <td style=\"padding-left: 1em; padding-right: 1em; text-align: center; vertical-align: top\">4.2</td>\n",
       "        <td style=\"padding-left: 1em; padding-right: 1em; text-align: center; vertical-align: top\">691</td>\n",
       "        <td style=\"padding-left: 1em; padding-right: 1em; text-align: center; vertical-align: top\">04/22/2017</td>\n",
       "        <td style=\"padding-left: 1em; padding-right: 1em; text-align: center; vertical-align: top\">04/23/2017</td>\n",
       "    </tr>\n",
       "    <tr>\n",
       "        <td style=\"padding-left: 1em; padding-right: 1em; text-align: center; vertical-align: top\">Four Seasons New York<br>Downtown ...</td>\n",
       "        <td style=\"padding-left: 1em; padding-right: 1em; text-align: center; vertical-align: top\">Wall Street - Financial<br>District ...</td>\n",
       "        <td style=\"padding-left: 1em; padding-right: 1em; text-align: center; vertical-align: top\">10007.0</td>\n",
       "        <td style=\"padding-left: 1em; padding-right: 1em; text-align: center; vertical-align: top\">5.0</td>\n",
       "        <td style=\"padding-left: 1em; padding-right: 1em; text-align: center; vertical-align: top\">4.9</td>\n",
       "        <td style=\"padding-left: 1em; padding-right: 1em; text-align: center; vertical-align: top\">14</td>\n",
       "        <td style=\"padding-left: 1em; padding-right: 1em; text-align: center; vertical-align: top\">04/21/2017</td>\n",
       "        <td style=\"padding-left: 1em; padding-right: 1em; text-align: center; vertical-align: top\">04/22/2017</td>\n",
       "    </tr>\n",
       "    <tr>\n",
       "        <td style=\"padding-left: 1em; padding-right: 1em; text-align: center; vertical-align: top\">Loews Regency New York<br>Hotel ...</td>\n",
       "        <td style=\"padding-left: 1em; padding-right: 1em; text-align: center; vertical-align: top\">Upper East Side</td>\n",
       "        <td style=\"padding-left: 1em; padding-right: 1em; text-align: center; vertical-align: top\">10065.0</td>\n",
       "        <td style=\"padding-left: 1em; padding-right: 1em; text-align: center; vertical-align: top\">5.0</td>\n",
       "        <td style=\"padding-left: 1em; padding-right: 1em; text-align: center; vertical-align: top\">4.6</td>\n",
       "        <td style=\"padding-left: 1em; padding-right: 1em; text-align: center; vertical-align: top\">797</td>\n",
       "        <td style=\"padding-left: 1em; padding-right: 1em; text-align: center; vertical-align: top\">04/22/2017</td>\n",
       "        <td style=\"padding-left: 1em; padding-right: 1em; text-align: center; vertical-align: top\">04/23/2017</td>\n",
       "    </tr>\n",
       "    <tr>\n",
       "        <td style=\"padding-left: 1em; padding-right: 1em; text-align: center; vertical-align: top\">Andaz 5th Avenue - a<br>concept by Hyatt ...</td>\n",
       "        <td style=\"padding-left: 1em; padding-right: 1em; text-align: center; vertical-align: top\">Broadway - Times Square</td>\n",
       "        <td style=\"padding-left: 1em; padding-right: 1em; text-align: center; vertical-align: top\">10017.0</td>\n",
       "        <td style=\"padding-left: 1em; padding-right: 1em; text-align: center; vertical-align: top\">4.5</td>\n",
       "        <td style=\"padding-left: 1em; padding-right: 1em; text-align: center; vertical-align: top\">4.7</td>\n",
       "        <td style=\"padding-left: 1em; padding-right: 1em; text-align: center; vertical-align: top\">842</td>\n",
       "        <td style=\"padding-left: 1em; padding-right: 1em; text-align: center; vertical-align: top\">04/22/2017</td>\n",
       "        <td style=\"padding-left: 1em; padding-right: 1em; text-align: center; vertical-align: top\">04/23/2017</td>\n",
       "    </tr>\n",
       "    <tr>\n",
       "        <td style=\"padding-left: 1em; padding-right: 1em; text-align: center; vertical-align: top\">Sheraton New York Times<br>Square Hotel ...</td>\n",
       "        <td style=\"padding-left: 1em; padding-right: 1em; text-align: center; vertical-align: top\">Broadway - Times Square</td>\n",
       "        <td style=\"padding-left: 1em; padding-right: 1em; text-align: center; vertical-align: top\">10019.0</td>\n",
       "        <td style=\"padding-left: 1em; padding-right: 1em; text-align: center; vertical-align: top\">4.0</td>\n",
       "        <td style=\"padding-left: 1em; padding-right: 1em; text-align: center; vertical-align: top\">4.0</td>\n",
       "        <td style=\"padding-left: 1em; padding-right: 1em; text-align: center; vertical-align: top\">8,307</td>\n",
       "        <td style=\"padding-left: 1em; padding-right: 1em; text-align: center; vertical-align: top\">04/23/2017</td>\n",
       "        <td style=\"padding-left: 1em; padding-right: 1em; text-align: center; vertical-align: top\">04/24/2017</td>\n",
       "    </tr>\n",
       "    <tr>\n",
       "        <td style=\"padding-left: 1em; padding-right: 1em; text-align: center; vertical-align: top\">The Westin New York Grand<br>Central ...</td>\n",
       "        <td style=\"padding-left: 1em; padding-right: 1em; text-align: center; vertical-align: top\">Midtown East - Grand<br>Central ...</td>\n",
       "        <td style=\"padding-left: 1em; padding-right: 1em; text-align: center; vertical-align: top\">10017.0</td>\n",
       "        <td style=\"padding-left: 1em; padding-right: 1em; text-align: center; vertical-align: top\">4.5</td>\n",
       "        <td style=\"padding-left: 1em; padding-right: 1em; text-align: center; vertical-align: top\">4.4</td>\n",
       "        <td style=\"padding-left: 1em; padding-right: 1em; text-align: center; vertical-align: top\">1,765</td>\n",
       "        <td style=\"padding-left: 1em; padding-right: 1em; text-align: center; vertical-align: top\">04/21/2017</td>\n",
       "        <td style=\"padding-left: 1em; padding-right: 1em; text-align: center; vertical-align: top\">04/22/2017</td>\n",
       "    </tr>\n",
       "    <tr>\n",
       "        <td style=\"padding-left: 1em; padding-right: 1em; text-align: center; vertical-align: top\">Grand Hyatt New York</td>\n",
       "        <td style=\"padding-left: 1em; padding-right: 1em; text-align: center; vertical-align: top\">Midtown East - Grand<br>Central ...</td>\n",
       "        <td style=\"padding-left: 1em; padding-right: 1em; text-align: center; vertical-align: top\">10017.0</td>\n",
       "        <td style=\"padding-left: 1em; padding-right: 1em; text-align: center; vertical-align: top\">4.0</td>\n",
       "        <td style=\"padding-left: 1em; padding-right: 1em; text-align: center; vertical-align: top\">4.2</td>\n",
       "        <td style=\"padding-left: 1em; padding-right: 1em; text-align: center; vertical-align: top\">8,337</td>\n",
       "        <td style=\"padding-left: 1em; padding-right: 1em; text-align: center; vertical-align: top\">04/22/2017</td>\n",
       "        <td style=\"padding-left: 1em; padding-right: 1em; text-align: center; vertical-align: top\">04/23/2017</td>\n",
       "    </tr>\n",
       "</table>\n",
       "<table frame=\"box\" rules=\"cols\">\n",
       "    <tr>\n",
       "        <th style=\"padding-left: 1em; padding-right: 1em; text-align: center\">room</th>\n",
       "        <th style=\"padding-left: 1em; padding-right: 1em; text-align: center\">size</th>\n",
       "        <th style=\"padding-left: 1em; padding-right: 1em; text-align: center\">price</th>\n",
       "        <th style=\"padding-left: 1em; padding-right: 1em; text-align: center\">bed</th>\n",
       "        <th style=\"padding-left: 1em; padding-right: 1em; text-align: center\">guests</th>\n",
       "        <th style=\"padding-left: 1em; padding-right: 1em; text-align: center\">address</th>\n",
       "    </tr>\n",
       "    <tr>\n",
       "        <td style=\"padding-left: 1em; padding-right: 1em; text-align: center; vertical-align: top\">Standard Room, 1 King<br>Bed, Non Smoking ...</td>\n",
       "        <td style=\"padding-left: 1em; padding-right: 1em; text-align: center; vertical-align: top\">200</td>\n",
       "        <td style=\"padding-left: 1em; padding-right: 1em; text-align: center; vertical-align: top\">259.0</td>\n",
       "        <td style=\"padding-left: 1em; padding-right: 1em; text-align: center; vertical-align: top\">1 king bed</td>\n",
       "        <td style=\"padding-left: 1em; padding-right: 1em; text-align: center; vertical-align: top\">2</td>\n",
       "        <td style=\"padding-left: 1em; padding-right: 1em; text-align: center; vertical-align: top\">West 25th Street</td>\n",
       "    </tr>\n",
       "    <tr>\n",
       "        <td style=\"padding-left: 1em; padding-right: 1em; text-align: center; vertical-align: top\">Club Room (Club Lounge<br>Access) ...</td>\n",
       "        <td style=\"padding-left: 1em; padding-right: 1em; text-align: center; vertical-align: top\">425</td>\n",
       "        <td style=\"padding-left: 1em; padding-right: 1em; text-align: center; vertical-align: top\">590.0</td>\n",
       "        <td style=\"padding-left: 1em; padding-right: 1em; text-align: center; vertical-align: top\">1 king bed</td>\n",
       "        <td style=\"padding-left: 1em; padding-right: 1em; text-align: center; vertical-align: top\">4</td>\n",
       "        <td style=\"padding-left: 1em; padding-right: 1em; text-align: center; vertical-align: top\">West St</td>\n",
       "    </tr>\n",
       "    <tr>\n",
       "        <td style=\"padding-left: 1em; padding-right: 1em; text-align: center; vertical-align: top\">Suite, Corner</td>\n",
       "        <td style=\"padding-left: 1em; padding-right: 1em; text-align: center; vertical-align: top\">350</td>\n",
       "        <td style=\"padding-left: 1em; padding-right: 1em; text-align: center; vertical-align: top\">289.0</td>\n",
       "        <td style=\"padding-left: 1em; padding-right: 1em; text-align: center; vertical-align: top\">1 king bed</td>\n",
       "        <td style=\"padding-left: 1em; padding-right: 1em; text-align: center; vertical-align: top\">3</td>\n",
       "        <td style=\"padding-left: 1em; padding-right: 1em; text-align: center; vertical-align: top\">East 42nd Street at Grand<br>Central Terminal ...</td>\n",
       "    </tr>\n",
       "    <tr>\n",
       "        <td style=\"padding-left: 1em; padding-right: 1em; text-align: center; vertical-align: top\">Ultra Cool Corner Room</td>\n",
       "        <td style=\"padding-left: 1em; padding-right: 1em; text-align: center; vertical-align: top\">382</td>\n",
       "        <td style=\"padding-left: 1em; padding-right: 1em; text-align: center; vertical-align: top\">309.0</td>\n",
       "        <td style=\"padding-left: 1em; padding-right: 1em; text-align: center; vertical-align: top\">1 king bed</td>\n",
       "        <td style=\"padding-left: 1em; padding-right: 1em; text-align: center; vertical-align: top\">2</td>\n",
       "        <td style=\"padding-left: 1em; padding-right: 1em; text-align: center; vertical-align: top\">Albany Street</td>\n",
       "    </tr>\n",
       "    <tr>\n",
       "        <td style=\"padding-left: 1em; padding-right: 1em; text-align: center; vertical-align: top\">Deluxe Room, 1 King Bed,<br>Accessible ...</td>\n",
       "        <td style=\"padding-left: 1em; padding-right: 1em; text-align: center; vertical-align: top\">482</td>\n",
       "        <td style=\"padding-left: 1em; padding-right: 1em; text-align: center; vertical-align: top\">699.0</td>\n",
       "        <td style=\"padding-left: 1em; padding-right: 1em; text-align: center; vertical-align: top\">1 king bed</td>\n",
       "        <td style=\"padding-left: 1em; padding-right: 1em; text-align: center; vertical-align: top\">2</td>\n",
       "        <td style=\"padding-left: 1em; padding-right: 1em; text-align: center; vertical-align: top\">Barclay St</td>\n",
       "    </tr>\n",
       "    <tr>\n",
       "        <td style=\"padding-left: 1em; padding-right: 1em; text-align: center; vertical-align: top\">Grand Room, 2 Double Beds</td>\n",
       "        <td style=\"padding-left: 1em; padding-right: 1em; text-align: center; vertical-align: top\">425</td>\n",
       "        <td style=\"padding-left: 1em; padding-right: 1em; text-align: center; vertical-align: top\">519.0</td>\n",
       "        <td style=\"padding-left: 1em; padding-right: 1em; text-align: center; vertical-align: top\">2 double beds</td>\n",
       "        <td style=\"padding-left: 1em; padding-right: 1em; text-align: center; vertical-align: top\">4</td>\n",
       "        <td style=\"padding-left: 1em; padding-right: 1em; text-align: center; vertical-align: top\">Park Avenue</td>\n",
       "    </tr>\n",
       "    <tr>\n",
       "        <td style=\"padding-left: 1em; padding-right: 1em; text-align: center; vertical-align: top\">Room, 1 King Bed</td>\n",
       "        <td style=\"padding-left: 1em; padding-right: 1em; text-align: center; vertical-align: top\">398</td>\n",
       "        <td style=\"padding-left: 1em; padding-right: 1em; text-align: center; vertical-align: top\">420.0</td>\n",
       "        <td style=\"padding-left: 1em; padding-right: 1em; text-align: center; vertical-align: top\">1 king bed</td>\n",
       "        <td style=\"padding-left: 1em; padding-right: 1em; text-align: center; vertical-align: top\">2</td>\n",
       "        <td style=\"padding-left: 1em; padding-right: 1em; text-align: center; vertical-align: top\">5th Ave</td>\n",
       "    </tr>\n",
       "    <tr>\n",
       "        <td style=\"padding-left: 1em; padding-right: 1em; text-align: center; vertical-align: top\">Superior Room, 2 Double<br>Beds, Accessible ...</td>\n",
       "        <td style=\"padding-left: 1em; padding-right: 1em; text-align: center; vertical-align: top\">248</td>\n",
       "        <td style=\"padding-left: 1em; padding-right: 1em; text-align: center; vertical-align: top\">239.0</td>\n",
       "        <td style=\"padding-left: 1em; padding-right: 1em; text-align: center; vertical-align: top\">2 double beds</td>\n",
       "        <td style=\"padding-left: 1em; padding-right: 1em; text-align: center; vertical-align: top\">4</td>\n",
       "        <td style=\"padding-left: 1em; padding-right: 1em; text-align: center; vertical-align: top\">7th Ave</td>\n",
       "    </tr>\n",
       "    <tr>\n",
       "        <td style=\"padding-left: 1em; padding-right: 1em; text-align: center; vertical-align: top\">Traditional Room, 2<br>Double Beds ...</td>\n",
       "        <td style=\"padding-left: 1em; padding-right: 1em; text-align: center; vertical-align: top\">338</td>\n",
       "        <td style=\"padding-left: 1em; padding-right: 1em; text-align: center; vertical-align: top\">215.0</td>\n",
       "        <td style=\"padding-left: 1em; padding-right: 1em; text-align: center; vertical-align: top\">2 double beds</td>\n",
       "        <td style=\"padding-left: 1em; padding-right: 1em; text-align: center; vertical-align: top\">4</td>\n",
       "        <td style=\"padding-left: 1em; padding-right: 1em; text-align: center; vertical-align: top\">East 42nd Street</td>\n",
       "    </tr>\n",
       "    <tr>\n",
       "        <td style=\"padding-left: 1em; padding-right: 1em; text-align: center; vertical-align: top\">Suite (VIP)</td>\n",
       "        <td style=\"padding-left: 1em; padding-right: 1em; text-align: center; vertical-align: top\">600</td>\n",
       "        <td style=\"padding-left: 1em; padding-right: 1em; text-align: center; vertical-align: top\">649.0</td>\n",
       "        <td style=\"padding-left: 1em; padding-right: 1em; text-align: center; vertical-align: top\">1 king bed</td>\n",
       "        <td style=\"padding-left: 1em; padding-right: 1em; text-align: center; vertical-align: top\">4</td>\n",
       "        <td style=\"padding-left: 1em; padding-right: 1em; text-align: center; vertical-align: top\">East 42nd Street at Grand<br>Central Terminal ...</td>\n",
       "    </tr>\n",
       "</table>\n",
       "<table frame=\"box\" rules=\"cols\">\n",
       "    <tr>\n",
       "        <th style=\"padding-left: 1em; padding-right: 1em; text-align: center\">link</th>\n",
       "    </tr>\n",
       "    <tr>\n",
       "        <td style=\"padding-left: 1em; padding-right: 1em; text-align: center; vertical-align: top\">https://www.expedia.com<br>/New-York-Hotels- ...</td>\n",
       "    </tr>\n",
       "    <tr>\n",
       "        <td style=\"padding-left: 1em; padding-right: 1em; text-align: center; vertical-align: top\">https://www.expedia.com<br>/Wall-Street-Financial- ...</td>\n",
       "    </tr>\n",
       "    <tr>\n",
       "        <td style=\"padding-left: 1em; padding-right: 1em; text-align: center; vertical-align: top\">https://www.expedia.com<br>/New-York-Hotels-Grand- ...</td>\n",
       "    </tr>\n",
       "    <tr>\n",
       "        <td style=\"padding-left: 1em; padding-right: 1em; text-align: center; vertical-align: top\">https://www.expedia.com<br>/Wall-Street-Financial- ...</td>\n",
       "    </tr>\n",
       "    <tr>\n",
       "        <td style=\"padding-left: 1em; padding-right: 1em; text-align: center; vertical-align: top\">https://www.expedia.com<br>/Wall-Street-Financial- ...</td>\n",
       "    </tr>\n",
       "    <tr>\n",
       "        <td style=\"padding-left: 1em; padding-right: 1em; text-align: center; vertical-align: top\">https://www.expedia.com<br>/New-York-Hotels-Loews- ...</td>\n",
       "    </tr>\n",
       "    <tr>\n",
       "        <td style=\"padding-left: 1em; padding-right: 1em; text-align: center; vertical-align: top\">https://www.expedia.com<br>/New-York-Hotels-Andaz- ...</td>\n",
       "    </tr>\n",
       "    <tr>\n",
       "        <td style=\"padding-left: 1em; padding-right: 1em; text-align: center; vertical-align: top\">https://www.expedia.com<br>/New-York-Hotels- ...</td>\n",
       "    </tr>\n",
       "    <tr>\n",
       "        <td style=\"padding-left: 1em; padding-right: 1em; text-align: center; vertical-align: top\">https://www.expedia.com<br>/New-York-Hotels-The- ...</td>\n",
       "    </tr>\n",
       "    <tr>\n",
       "        <td style=\"padding-left: 1em; padding-right: 1em; text-align: center; vertical-align: top\">https://www.expedia.com<br>/New-York-Hotels-Grand- ...</td>\n",
       "    </tr>\n",
       "</table>\n",
       "[484 rows x 15 columns]<br/>Note: Only the head of the SFrame is printed.<br/>You can use print_rows(num_rows=m, num_columns=n) to print more rows and columns.\n",
       "</div>"
      ],
      "text/plain": [
       "Columns:\n",
       "\tname\tstr\n",
       "\tzone\tstr\n",
       "\tzipcode\tfloat\n",
       "\tstar\tfloat\n",
       "\trating\tfloat\n",
       "\trates\tstr\n",
       "\tcheckin\tstr\n",
       "\tcheckout\tstr\n",
       "\troom\tstr\n",
       "\tsize\tint\n",
       "\tprice\tfloat\n",
       "\tbed\tstr\n",
       "\tguests\tint\n",
       "\taddress\tstr\n",
       "\tlink\tstr\n",
       "\n",
       "Rows: 484\n",
       "\n",
       "Data:\n",
       "+--------------------------------+-------------------------------+---------+------+\n",
       "|              name              |              zone             | zipcode | star |\n",
       "+--------------------------------+-------------------------------+---------+------+\n",
       "|         Heritage Hotel         |            Chelsea            | 10010.0 | 2.5  |\n",
       "| The Ritz-Carlton New York,...  | Wall Street - Financial Di... | 10004.0 | 5.0  |\n",
       "|      Grand Hyatt New York      |  Midtown East - Grand Central | 10017.0 | 4.0  |\n",
       "|     W New York - Downtown      | Wall Street - Financial Di... | 10006.0 | 4.5  |\n",
       "| Four Seasons New York Downtown | Wall Street - Financial Di... | 10007.0 | 5.0  |\n",
       "|  Loews Regency New York Hotel  |        Upper East Side        | 10065.0 | 5.0  |\n",
       "| Andaz 5th Avenue - a conce...  |    Broadway - Times Square    | 10017.0 | 4.5  |\n",
       "| Sheraton New York Times Sq...  |    Broadway - Times Square    | 10019.0 | 4.0  |\n",
       "| The Westin New York Grand ...  |  Midtown East - Grand Central | 10017.0 | 4.5  |\n",
       "|      Grand Hyatt New York      |  Midtown East - Grand Central | 10017.0 | 4.0  |\n",
       "+--------------------------------+-------------------------------+---------+------+\n",
       "+--------+-------+------------+------------+--------------------------------+\n",
       "| rating | rates |  checkin   |  checkout  |              room              |\n",
       "+--------+-------+------------+------------+--------------------------------+\n",
       "|  3.6   |  135  | 04/21/2017 | 04/22/2017 | Standard Room, 1 King Bed,...  |\n",
       "|  4.6   | 1,130 | 04/21/2017 | 04/22/2017 | Club Room (Club Lounge Access) |\n",
       "|  4.2   | 8,337 | 04/22/2017 | 04/23/2017 |         Suite, Corner          |\n",
       "|  4.2   |  691  | 04/22/2017 | 04/23/2017 |     Ultra Cool Corner Room     |\n",
       "|  4.9   |   14  | 04/21/2017 | 04/22/2017 | Deluxe Room, 1 King Bed, A...  |\n",
       "|  4.6   |  797  | 04/22/2017 | 04/23/2017 |   Grand Room, 2 Double Beds    |\n",
       "|  4.7   |  842  | 04/22/2017 | 04/23/2017 |        Room, 1 King Bed        |\n",
       "|  4.0   | 8,307 | 04/23/2017 | 04/24/2017 | Superior Room, 2 Double Be...  |\n",
       "|  4.4   | 1,765 | 04/21/2017 | 04/22/2017 | Traditional Room, 2 Double...  |\n",
       "|  4.2   | 8,337 | 04/22/2017 | 04/23/2017 |          Suite (VIP)           |\n",
       "+--------+-------+------------+------------+--------------------------------+\n",
       "+------+-------+---------------+--------+-------------------------------+\n",
       "| size | price |      bed      | guests |            address            |\n",
       "+------+-------+---------------+--------+-------------------------------+\n",
       "| 200  | 259.0 |   1 king bed  |   2    |        West 25th Street       |\n",
       "| 425  | 590.0 |   1 king bed  |   4    |            West St            |\n",
       "| 350  | 289.0 |   1 king bed  |   3    | East 42nd Street at Grand ... |\n",
       "| 382  | 309.0 |   1 king bed  |   2    |         Albany Street         |\n",
       "| 482  | 699.0 |   1 king bed  |   2    |           Barclay St          |\n",
       "| 425  | 519.0 | 2 double beds |   4    |          Park Avenue          |\n",
       "| 398  | 420.0 |   1 king bed  |   2    |            5th Ave            |\n",
       "| 248  | 239.0 | 2 double beds |   4    |            7th Ave            |\n",
       "| 338  | 215.0 | 2 double beds |   4    |        East 42nd Street       |\n",
       "| 600  | 649.0 |   1 king bed  |   4    | East 42nd Street at Grand ... |\n",
       "+------+-------+---------------+--------+-------------------------------+\n",
       "+-------------------------------+\n",
       "|              link             |\n",
       "+-------------------------------+\n",
       "| https://www.expedia.com/Ne... |\n",
       "| https://www.expedia.com/Wa... |\n",
       "| https://www.expedia.com/Ne... |\n",
       "| https://www.expedia.com/Wa... |\n",
       "| https://www.expedia.com/Wa... |\n",
       "| https://www.expedia.com/Ne... |\n",
       "| https://www.expedia.com/Ne... |\n",
       "| https://www.expedia.com/Ne... |\n",
       "| https://www.expedia.com/Ne... |\n",
       "| https://www.expedia.com/Ne... |\n",
       "+-------------------------------+\n",
       "[484 rows x 15 columns]\n",
       "Note: Only the head of the SFrame is printed.\n",
       "You can use print_rows(num_rows=m, num_columns=n) to print more rows and columns."
      ]
     },
     "execution_count": 78,
     "metadata": {},
     "output_type": "execute_result"
    }
   ],
   "source": [
    "validation4 = train_valid_shuffled[1449 : 1933]\n",
    "validation4"
   ]
  },
  {
   "cell_type": "markdown",
   "metadata": {},
   "source": [
    "To verify that we have the right elements extracted, run the following cell, which computes the average price of the fourth segment. When rounded to nearest whole number, the average should be $."
   ]
  },
  {
   "cell_type": "code",
   "execution_count": 79,
   "metadata": {
    "collapsed": false
   },
   "outputs": [
    {
     "name": "stdout",
     "output_type": "stream",
     "text": [
      "299\n"
     ]
    }
   ],
   "source": [
    "print int(round(validation4['price'].mean(), 0))"
   ]
  },
  {
   "cell_type": "markdown",
   "metadata": {},
   "source": [
    "After designating one of the k segments as the validation set, we train a model using the rest of the data. To choose the remainder, we slice (0:start) and (end+1:n) of the data and paste them together. \n",
    "\n",
    "SFrame has append() method that pastes together two disjoint sets of rows originating from a common dataset. For instance, the following cell pastes together the first and last two rows of the train_valid_shuffled dataframe."
   ]
  },
  {
   "cell_type": "code",
   "execution_count": 80,
   "metadata": {
    "collapsed": false
   },
   "outputs": [
    {
     "name": "stdout",
     "output_type": "stream",
     "text": [
      "+-------------------------------+-------------------------+---------+------+--------+\n",
      "|              name             |           zone          | zipcode | star | rating |\n",
      "+-------------------------------+-------------------------+---------+------+--------+\n",
      "| DoubleTree Suites by Hilto... | Broadway - Times Square | 10036.0 | 4.0  |  4.4   |\n",
      "|         Stewart Hotel         |  Madison Square Garden  | 10001.0 | 4.0  |  4.0   |\n",
      "|      Hilton Times Square      | Broadway - Times Square | 10036.0 | 4.0  |  4.5   |\n",
      "| The Chatwal, a Luxury Coll... | Broadway - Times Square | 10036.0 | 5.0  |  4.7   |\n",
      "+-------------------------------+-------------------------+---------+------+--------+\n",
      "+-------+------------+------------+-------------------------------+------+-------+\n",
      "| rates |  checkin   |  checkout  |              room             | size | price |\n",
      "+-------+------------+------------+-------------------------------+------+-------+\n",
      "| 8,258 | 04/23/2017 | 04/24/2017 | Standard Suite One King an... | 420  | 129.0 |\n",
      "| 7,197 | 04/21/2017 | 04/22/2017 |    Studio Suite, 1 King Bed   | 409  | 204.0 |\n",
      "| 5,149 | 04/23/2017 | 04/24/2017 | 1 King Bed No Smoking Alle... | 334  | 109.0 |\n",
      "|  227  | 04/22/2017 | 04/23/2017 |       Grand Deluxe Room       | 370  | 770.0 |\n",
      "+-------+------------+------------+-------------------------------+------+-------+\n",
      "+-----------------------+--------+-------------------------------+\n",
      "|          bed          | guests |            address            |\n",
      "+-----------------------+--------+-------------------------------+\n",
      "| 1 king and 1 sofa bed |   4    | Broadway 47th Street And 7... |\n",
      "|       1 king bed      |   3    |            7th Ave            |\n",
      "|       1 king bed      |   2    |           W 42nd St           |\n",
      "|       1 king bed      |   2    |         W. 44th Street        |\n",
      "+-----------------------+--------+-------------------------------+\n",
      "+-------------------------------+\n",
      "|              link             |\n",
      "+-------------------------------+\n",
      "| https://www.expedia.com/Ne... |\n",
      "| https://www.expedia.com/Ne... |\n",
      "| https://www.expedia.com/Ne... |\n",
      "| https://www.expedia.com/Ne... |\n",
      "+-------------------------------+\n",
      "[4 rows x 15 columns]\n",
      "\n"
     ]
    }
   ],
   "source": [
    "# test\n",
    "n = len(train_valid_shuffled)\n",
    "first_two = train_valid_shuffled[0:2]\n",
    "last_two = train_valid_shuffled[n-2:n]\n",
    "print first_two.append(last_two)"
   ]
  },
  {
   "cell_type": "markdown",
   "metadata": {},
   "source": [
    "Extract the remainder of the data after excluding fourth segment (segment 3) and assign the subset to train4."
   ]
  },
  {
   "cell_type": "code",
   "execution_count": 81,
   "metadata": {
    "collapsed": false
   },
   "outputs": [
    {
     "name": "stdout",
     "output_type": "stream",
     "text": [
      "4349 4350\n"
     ]
    }
   ],
   "source": [
    "#[0:start]\n",
    "before = train_valid_shuffled[0:1449]\n",
    "#[end+1:n]\n",
    "after = train_valid_shuffled[1933:n]\n",
    "train4 = before.append(after)\n",
    "print len(train4), n - n/10"
   ]
  },
  {
   "cell_type": "markdown",
   "metadata": {},
   "source": [
    "To verify that we have the right elements extracted, run the following cell, which computes the average price of the data with fourth segment excluded. When rounded to nearest whole number, the average should be $294."
   ]
  },
  {
   "cell_type": "code",
   "execution_count": 83,
   "metadata": {
    "collapsed": false
   },
   "outputs": [
    {
     "name": "stdout",
     "output_type": "stream",
     "text": [
      "294\n"
     ]
    }
   ],
   "source": [
    "print int(round(train4['price'].mean(), 0))"
   ]
  },
  {
   "cell_type": "markdown",
   "metadata": {},
   "source": [
    "Now we are ready to implement k-fold cross-validation. Write a function that computes k validation errors by designating each of the k segments as the validation set. It accepts as parameters \n",
    "\n",
    "(i) k, \n",
    "(ii) l2_penalty, \n",
    "(iii) dataframe, \n",
    "(iv) name of output column (e.g. price)\n",
    "(v) list of feature names. \n",
    "\n",
    "The function returns the average validation error using k segments as validation sets."
   ]
  },
  {
   "cell_type": "markdown",
   "metadata": {},
   "source": [
    "* For each i in [0, 1, ..., k-1]:\n",
    "    * Compute starting and ending indices of segment i and call 'start' and 'end'\n",
    "    * Form validation set by taking a slice (start:end+1) from the data.\n",
    "    * Form training set by appending slice (end+1:n) to the end of slice (0:start).\n",
    "    * Train a linear model using training set just formed, with a given l2_penalty\n",
    "    * Compute validation error using validation set just formed"
   ]
  },
  {
   "cell_type": "code",
   "execution_count": 84,
   "metadata": {
    "collapsed": true
   },
   "outputs": [],
   "source": [
    "def k_fold_cross_validation(k, l2_penalty, data, output_name, features_list):\n",
    "    vali_error_sum = 0\n",
    "    n = len(data) \n",
    "    for i in xrange(k):\n",
    "        start = (n * i) / k\n",
    "        end = (n * (i + 1))/ k - 1\n",
    "        validation_set = data[start : end + 1]\n",
    "        train_set = data[0 : start].append(data[end + 1 : n])\n",
    "        model = graphlab.linear_regression.create(train_set, target = output_name, features = features_list, l2_penalty=l2_penalty,\n",
    "                                                  verbose=False,validation_set=None)\n",
    "        predicitons = model.predict(validation_set)\n",
    "        residuals = predicitons - validation_set[output_name]\n",
    "        rss =  sum(residuals**2)\n",
    "        vali_error_sum += rss\n",
    "    \n",
    "    ave =  vali_error_sum / k\n",
    "    return ave"
   ]
  },
  {
   "cell_type": "markdown",
   "metadata": {},
   "source": [
    "Once we have a function to compute the average validation error for a model, we can write a loop to find the model that minimizes the average validation error.\n"
   ]
  },
  {
   "cell_type": "markdown",
   "metadata": {},
   "source": [
    "* We will again be aiming to fit a 15th-order polynomial model using the size input\n",
    "* For l2_penalty in [10^1, 10^1.5, 10^2, 10^2.5, ..., 10^7] (Numpy function: np.logspace(1, 7, num=13).)\n",
    "* Run 10-fold cross-validation with l2_penalty\n",
    "* Report which L2 penalty produced the lowest average validation error.\n",
    "\n",
    "Since the degree of the polynomial is now fixed to 15, to make things faster, we should generate polynomial features in advance and re-use them throughout the loop. Make sure to use train_valid_shuffled when generating polynomial features!\n"
   ]
  },
  {
   "cell_type": "code",
   "execution_count": 85,
   "metadata": {
    "collapsed": false
   },
   "outputs": [
    {
     "data": {
      "text/plain": [
       "7615364.541746682"
      ]
     },
     "execution_count": 85,
     "metadata": {},
     "output_type": "execute_result"
    }
   ],
   "source": [
    "degree = 15\n",
    "poly_data = polynomial_sframe(train_valid_shuffled['size'], degree)\n",
    "features = poly_data.column_names() # get the name of the features\n",
    "poly_data['price'] = train_valid_shuffled['price'] # add price to the data since it's the target\n",
    "\n",
    "l2_penalty = np.logspace(1, 7, num=13)\n",
    "k = 10\n",
    "data = poly_data\n",
    "output_name = 'price'\n",
    "features_list = features\n",
    "k_fold_cross_validation(k, l2_penalty[0], data, output_name, features_list)"
   ]
  },
  {
   "cell_type": "code",
   "execution_count": 86,
   "metadata": {
    "collapsed": false
   },
   "outputs": [
    {
     "name": "stdout",
     "output_type": "stream",
     "text": [
      "{10.0: 7615364.541746682,\n",
      " 31.622776601683793: 7637411.68574772,\n",
      " 100.0: 7721047.114119877,\n",
      " 316.22776601683796: 7936543.92672014,\n",
      " 1000.0: 8443854.6990764,\n",
      " 3162.2776601683795: 9431317.926447181,\n",
      " 10000.0: 10533302.015685903,\n",
      " 31622.776601683792: 11362307.332518894,\n",
      " 100000.0: 11857800.405767659,\n",
      " 316227.76601683791: 12117316.432790216,\n",
      " 1000000.0: 12227767.467988815,\n",
      " 3162277.6601683795: 12267274.708156649,\n",
      " 10000000.0: 12280315.857841142}\n"
     ]
    }
   ],
   "source": [
    "val_err_dict = {}\n",
    "for l2_penalty in np.logspace(1, 7, num=13):\n",
    "    val_err = k_fold_cross_validation(k, l2_penalty, poly_data, output_name, features_list)    \n",
    "    #print l2_penalty # val_err\n",
    "    val_err_dict[l2_penalty] = val_err\n",
    "import pprint \n",
    "pprint.pprint(val_err_dict)"
   ]
  },
  {
   "cell_type": "code",
   "execution_count": 89,
   "metadata": {
    "collapsed": false
   },
   "outputs": [
    {
     "name": "stdout",
     "output_type": "stream",
     "text": [
      "(10.0, 7615364.541746682)\n",
      "10.0\n",
      "7615364.54175\n"
     ]
    }
   ],
   "source": [
    "#compute the lowest average validation error  \n",
    "print min(val_err_dict.items(), key = lambda x: x[1]) \n",
    "min_val = min(val_err_dict.itervalues())\n",
    "print min(val_err_dict, key=val_err_dict.get)\n",
    "print min_val"
   ]
  },
  {
   "cell_type": "markdown",
   "metadata": {},
   "source": [
    "It is useful to plot the k-fold cross-validation errors we have obtained to better understand the behavior of the method."
   ]
  },
  {
   "cell_type": "code",
   "execution_count": 90,
   "metadata": {
    "collapsed": false
   },
   "outputs": [
    {
     "name": "stdout",
     "output_type": "stream",
     "text": [
      "+---------------+------------------+\n",
      "|   l2_penalty  | validation_error |\n",
      "+---------------+------------------+\n",
      "|    100000.0   |  11857800.4058   |\n",
      "| 316227.766017 |  12117316.4328   |\n",
      "|     100.0     |  7721047.11412   |\n",
      "| 3162.27766017 |  9431317.92645   |\n",
      "| 31.6227766017 |  7637411.68575   |\n",
      "|     1000.0    |  8443854.69908   |\n",
      "|      10.0     |  7615364.54175   |\n",
      "| 31622.7766017 |  11362307.3325   |\n",
      "|    10000.0    |  10533302.0157   |\n",
      "| 3162277.66017 |  12267274.7082   |\n",
      "| 316.227766017 |  7936543.92672   |\n",
      "|   1000000.0   |   12227767.468   |\n",
      "|   10000000.0  |  12280315.8578   |\n",
      "+---------------+------------------+\n",
      "[13 rows x 2 columns]\n",
      "\n",
      "None\n",
      "13\n"
     ]
    }
   ],
   "source": [
    "l2_penalty = graphlab.SArray(val_err_dict.keys())\n",
    "validation_error = graphlab.SArray(val_err_dict.values())\n",
    "sf = graphlab.SFrame({'l2_penalty':l2_penalty,'validation_error':validation_error})\n",
    "print sf.print_rows(13)\n",
    "print len(sf)"
   ]
  },
  {
   "cell_type": "code",
   "execution_count": 91,
   "metadata": {
    "collapsed": false
   },
   "outputs": [
    {
     "data": {
      "image/png": "[encoded data removed]",
      "text/plain": [
       "<matplotlib.figure.Figure at 0x1253fcc90>"
      ]
     },
     "metadata": {},
     "output_type": "display_data"
    }
   ],
   "source": [
    "# Plot the l2_penalty values in the x axis and the cross-validation error in the y axis.\n",
    "# Using plt.xscale('log') will make the plot more intuitive.\n",
    "plt.plot(sf['l2_penalty'],sf['validation_error'],'k.')\n",
    "plt.xscale('log')\n"
   ]
  },
  {
   "cell_type": "markdown",
   "metadata": {},
   "source": [
    "It is important to retrain a final model on all of the training data using this value of l2_penalty. This way, our final model will be trained on the entire dataset."
   ]
  },
  {
   "cell_type": "code",
   "execution_count": 92,
   "metadata": {
    "collapsed": true
   },
   "outputs": [],
   "source": [
    "poly_data = polynomial_sframe(train_valid_shuffled['size'], 15)\n",
    "features_list = poly_data.column_names()\n",
    "poly_data['price'] = train_valid_shuffled['price']\n",
    "l2_penalty_best = 10.0\n",
    "\n",
    "model = graphlab.linear_regression.create(poly_data, target='price',\n",
    "                                         features=features_list,\n",
    "                                         l2_penalty=l2_penalty_best,\n",
    "                                         verbose = False,\n",
    "                                         validation_set=None)"
   ]
  },
  {
   "cell_type": "code",
   "execution_count": 94,
   "metadata": {
    "collapsed": false
   },
   "outputs": [
    {
     "name": "stdout",
     "output_type": "stream",
     "text": [
      "18423054.6709\n"
     ]
    }
   ],
   "source": [
    "# the best RSS\n",
    "predictions = model.predict(test)\n",
    "errors = predictions - test['price']\n",
    "rss = (errors * errors).sum()\n",
    "print rss"
   ]
  },
  {
   "cell_type": "code",
   "execution_count": 97,
   "metadata": {
    "collapsed": false
   },
   "outputs": [
    {
     "data": {
      "text/plain": [
       "[<matplotlib.lines.Line2D at 0x124627b10>,\n",
       " <matplotlib.lines.Line2D at 0x124627990>]"
      ]
     },
     "execution_count": 97,
     "metadata": {},
     "output_type": "execute_result"
    },
    {
     "data": {
      "image/png": "[encoded data removed]",
      "text/plain": [
       "<matplotlib.figure.Figure at 0x12330a350>"
      ]
     },
     "metadata": {},
     "output_type": "display_data"
    }
   ],
   "source": [
    "poly_data = polynomial_sframe(train_valid['size'], 15)\n",
    "poly_data['price'] = train_valid['price']\n",
    "plt.plot(poly_data['power_1'],poly_data['price'],'.',\n",
    "        poly_data['power_1'], model.predict(poly_data),'-')"
   ]
  },
  {
   "cell_type": "code",
   "execution_count": null,
   "metadata": {
    "collapsed": true
   },
   "outputs": [],
   "source": []
  }
 ],
 "metadata": {
  "kernelspec": {
   "display_name": "Python 2",
   "language": "python",
   "name": "python2"
  },
  "language_info": {
   "codemirror_mode": {
    "name": "ipython",
    "version": 2
   },
   "file_extension": ".py",
   "mimetype": "text/x-python",
   "name": "python",
   "nbconvert_exporter": "python",
   "pygments_lexer": "ipython2",
   "version": "2.7.12"
  }
 },
 "nbformat": 4,
 "nbformat_minor": 0
}
