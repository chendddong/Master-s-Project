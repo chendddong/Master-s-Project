{
 "cells": [
  {
   "cell_type": "markdown",
   "metadata": {},
   "source": [
    "# Regression phase 9: LASSO (coordinate descent)"
   ]
  },
  {
   "cell_type": "markdown",
   "metadata": {},
   "source": [
    "We will implement our very own LASSO solver via coordinate descent. "
   ]
  },
  {
   "cell_type": "markdown",
   "metadata": {},
   "source": [
    "* Write a function to normalize features\n",
    "* Implement coordinate descent for LASSO\n",
    "* Explore effects of L1 penalty"
   ]
  },
  {
   "cell_type": "markdown",
   "metadata": {},
   "source": [
    "# Import graphlab"
   ]
  },
  {
   "cell_type": "code",
   "execution_count": 2,
   "metadata": {
    "collapsed": true
   },
   "outputs": [],
   "source": [
    "import graphlab\n"
   ]
  },
  {
   "cell_type": "markdown",
   "metadata": {},
   "source": [
    "# Load hotel data"
   ]
  },
  {
   "cell_type": "code",
   "execution_count": 3,
   "metadata": {
    "collapsed": false
   },
   "outputs": [
    {
     "name": "stderr",
     "output_type": "stream",
     "text": [
      "[INFO] graphlab.cython.cy_server: GraphLab Create v2.1 started. Logging: /tmp/graphlab_server_1492847332.log\n"
     ]
    },
    {
     "name": "stdout",
     "output_type": "stream",
     "text": [
      "This non-commercial license of GraphLab Create for academic use is assigned to dchen@albany.edu and will expire on November 05, 2017.\n"
     ]
    },
    {
     "data": {
      "text/html": [
       "<pre>Finished parsing file /Users/Peter/NY.csv</pre>"
      ],
      "text/plain": [
       "Finished parsing file /Users/Peter/NY.csv"
      ]
     },
     "metadata": {},
     "output_type": "display_data"
    },
    {
     "data": {
      "text/html": [
       "<pre>Parsing completed. Parsed 100 lines in 0.203051 secs.</pre>"
      ],
      "text/plain": [
       "Parsing completed. Parsed 100 lines in 0.203051 secs."
      ]
     },
     "metadata": {},
     "output_type": "display_data"
    },
    {
     "name": "stdout",
     "output_type": "stream",
     "text": [
      "------------------------------------------------------\n",
      "Inferred types from first 100 line(s) of file as \n",
      "column_type_hints=[str,str,int,float,float,str,str,str,str,int,int,str,int,str,str]\n",
      "If parsing fails due to incorrect types, you can correct\n",
      "the inferred type list above and pass it to read_csv in\n",
      "the column_type_hints argument\n",
      "------------------------------------------------------\n"
     ]
    },
    {
     "data": {
      "text/html": [
       "<pre>Finished parsing file /Users/Peter/NY.csv</pre>"
      ],
      "text/plain": [
       "Finished parsing file /Users/Peter/NY.csv"
      ]
     },
     "metadata": {},
     "output_type": "display_data"
    },
    {
     "data": {
      "text/html": [
       "<pre>Parsing completed. Parsed 26382 lines in 0.190104 secs.</pre>"
      ],
      "text/plain": [
       "Parsing completed. Parsed 26382 lines in 0.190104 secs."
      ]
     },
     "metadata": {},
     "output_type": "display_data"
    },
    {
     "data": {
      "text/html": [
       "<div style=\"max-height:1000px;max-width:1500px;overflow:auto;\"><table frame=\"box\" rules=\"cols\">\n",
       "    <tr>\n",
       "        <th style=\"padding-left: 1em; padding-right: 1em; text-align: center\">name</th>\n",
       "        <th style=\"padding-left: 1em; padding-right: 1em; text-align: center\">zone</th>\n",
       "        <th style=\"padding-left: 1em; padding-right: 1em; text-align: center\">zipcode</th>\n",
       "        <th style=\"padding-left: 1em; padding-right: 1em; text-align: center\">star</th>\n",
       "        <th style=\"padding-left: 1em; padding-right: 1em; text-align: center\">rating</th>\n",
       "        <th style=\"padding-left: 1em; padding-right: 1em; text-align: center\">rates</th>\n",
       "        <th style=\"padding-left: 1em; padding-right: 1em; text-align: center\">checkin</th>\n",
       "        <th style=\"padding-left: 1em; padding-right: 1em; text-align: center\">checkout</th>\n",
       "    </tr>\n",
       "    <tr>\n",
       "        <td style=\"padding-left: 1em; padding-right: 1em; text-align: center; vertical-align: top\">Courtyard New York<br>Downtown Manhattan/World ...</td>\n",
       "        <td style=\"padding-left: 1em; padding-right: 1em; text-align: center; vertical-align: top\">Wall Street - Financial<br>District ...</td>\n",
       "        <td style=\"padding-left: 1em; padding-right: 1em; text-align: center; vertical-align: top\">10006.0</td>\n",
       "        <td style=\"padding-left: 1em; padding-right: 1em; text-align: center; vertical-align: top\">3.0</td>\n",
       "        <td style=\"padding-left: 1em; padding-right: 1em; text-align: center; vertical-align: top\">4.3</td>\n",
       "        <td style=\"padding-left: 1em; padding-right: 1em; text-align: center; vertical-align: top\">46.0</td>\n",
       "        <td style=\"padding-left: 1em; padding-right: 1em; text-align: center; vertical-align: top\">04/21/2017</td>\n",
       "        <td style=\"padding-left: 1em; padding-right: 1em; text-align: center; vertical-align: top\">04/22/2017</td>\n",
       "    </tr>\n",
       "    <tr>\n",
       "        <td style=\"padding-left: 1em; padding-right: 1em; text-align: center; vertical-align: top\">Courtyard New York<br>Downtown Manhattan/World ...</td>\n",
       "        <td style=\"padding-left: 1em; padding-right: 1em; text-align: center; vertical-align: top\">Wall Street - Financial<br>District ...</td>\n",
       "        <td style=\"padding-left: 1em; padding-right: 1em; text-align: center; vertical-align: top\">10006.0</td>\n",
       "        <td style=\"padding-left: 1em; padding-right: 1em; text-align: center; vertical-align: top\">3.0</td>\n",
       "        <td style=\"padding-left: 1em; padding-right: 1em; text-align: center; vertical-align: top\">4.3</td>\n",
       "        <td style=\"padding-left: 1em; padding-right: 1em; text-align: center; vertical-align: top\">46.0</td>\n",
       "        <td style=\"padding-left: 1em; padding-right: 1em; text-align: center; vertical-align: top\">04/21/2017</td>\n",
       "        <td style=\"padding-left: 1em; padding-right: 1em; text-align: center; vertical-align: top\">04/22/2017</td>\n",
       "    </tr>\n",
       "    <tr>\n",
       "        <td style=\"padding-left: 1em; padding-right: 1em; text-align: center; vertical-align: top\">Courtyard New York<br>Downtown Manhattan/World ...</td>\n",
       "        <td style=\"padding-left: 1em; padding-right: 1em; text-align: center; vertical-align: top\">Wall Street - Financial<br>District ...</td>\n",
       "        <td style=\"padding-left: 1em; padding-right: 1em; text-align: center; vertical-align: top\">10006.0</td>\n",
       "        <td style=\"padding-left: 1em; padding-right: 1em; text-align: center; vertical-align: top\">3.0</td>\n",
       "        <td style=\"padding-left: 1em; padding-right: 1em; text-align: center; vertical-align: top\">4.3</td>\n",
       "        <td style=\"padding-left: 1em; padding-right: 1em; text-align: center; vertical-align: top\">46.0</td>\n",
       "        <td style=\"padding-left: 1em; padding-right: 1em; text-align: center; vertical-align: top\">04/21/2017</td>\n",
       "        <td style=\"padding-left: 1em; padding-right: 1em; text-align: center; vertical-align: top\">04/22/2017</td>\n",
       "    </tr>\n",
       "    <tr>\n",
       "        <td style=\"padding-left: 1em; padding-right: 1em; text-align: center; vertical-align: top\">Courtyard New York<br>Downtown Manhattan/World ...</td>\n",
       "        <td style=\"padding-left: 1em; padding-right: 1em; text-align: center; vertical-align: top\">Wall Street - Financial<br>District ...</td>\n",
       "        <td style=\"padding-left: 1em; padding-right: 1em; text-align: center; vertical-align: top\">10006.0</td>\n",
       "        <td style=\"padding-left: 1em; padding-right: 1em; text-align: center; vertical-align: top\">3.0</td>\n",
       "        <td style=\"padding-left: 1em; padding-right: 1em; text-align: center; vertical-align: top\">4.3</td>\n",
       "        <td style=\"padding-left: 1em; padding-right: 1em; text-align: center; vertical-align: top\">46.0</td>\n",
       "        <td style=\"padding-left: 1em; padding-right: 1em; text-align: center; vertical-align: top\">04/21/2017</td>\n",
       "        <td style=\"padding-left: 1em; padding-right: 1em; text-align: center; vertical-align: top\">04/22/2017</td>\n",
       "    </tr>\n",
       "    <tr>\n",
       "        <td style=\"padding-left: 1em; padding-right: 1em; text-align: center; vertical-align: top\">Courtyard New York<br>Downtown Manhattan/World ...</td>\n",
       "        <td style=\"padding-left: 1em; padding-right: 1em; text-align: center; vertical-align: top\">Wall Street - Financial<br>District ...</td>\n",
       "        <td style=\"padding-left: 1em; padding-right: 1em; text-align: center; vertical-align: top\">10006.0</td>\n",
       "        <td style=\"padding-left: 1em; padding-right: 1em; text-align: center; vertical-align: top\">3.0</td>\n",
       "        <td style=\"padding-left: 1em; padding-right: 1em; text-align: center; vertical-align: top\">4.3</td>\n",
       "        <td style=\"padding-left: 1em; padding-right: 1em; text-align: center; vertical-align: top\">46.0</td>\n",
       "        <td style=\"padding-left: 1em; padding-right: 1em; text-align: center; vertical-align: top\">04/21/2017</td>\n",
       "        <td style=\"padding-left: 1em; padding-right: 1em; text-align: center; vertical-align: top\">04/22/2017</td>\n",
       "    </tr>\n",
       "    <tr>\n",
       "        <td style=\"padding-left: 1em; padding-right: 1em; text-align: center; vertical-align: top\">Courtyard New York<br>Downtown Manhattan/World ...</td>\n",
       "        <td style=\"padding-left: 1em; padding-right: 1em; text-align: center; vertical-align: top\">Wall Street - Financial<br>District ...</td>\n",
       "        <td style=\"padding-left: 1em; padding-right: 1em; text-align: center; vertical-align: top\">10006.0</td>\n",
       "        <td style=\"padding-left: 1em; padding-right: 1em; text-align: center; vertical-align: top\">3.0</td>\n",
       "        <td style=\"padding-left: 1em; padding-right: 1em; text-align: center; vertical-align: top\">4.3</td>\n",
       "        <td style=\"padding-left: 1em; padding-right: 1em; text-align: center; vertical-align: top\">46.0</td>\n",
       "        <td style=\"padding-left: 1em; padding-right: 1em; text-align: center; vertical-align: top\">04/21/2017</td>\n",
       "        <td style=\"padding-left: 1em; padding-right: 1em; text-align: center; vertical-align: top\">04/22/2017</td>\n",
       "    </tr>\n",
       "    <tr>\n",
       "        <td style=\"padding-left: 1em; padding-right: 1em; text-align: center; vertical-align: top\">Park Lane Hotel</td>\n",
       "        <td style=\"padding-left: 1em; padding-right: 1em; text-align: center; vertical-align: top\">Central Park</td>\n",
       "        <td style=\"padding-left: 1em; padding-right: 1em; text-align: center; vertical-align: top\">10019.0</td>\n",
       "        <td style=\"padding-left: 1em; padding-right: 1em; text-align: center; vertical-align: top\">4.0</td>\n",
       "        <td style=\"padding-left: 1em; padding-right: 1em; text-align: center; vertical-align: top\">4.0</td>\n",
       "        <td style=\"padding-left: 1em; padding-right: 1em; text-align: center; vertical-align: top\">6.0</td>\n",
       "        <td style=\"padding-left: 1em; padding-right: 1em; text-align: center; vertical-align: top\">04/21/2017</td>\n",
       "        <td style=\"padding-left: 1em; padding-right: 1em; text-align: center; vertical-align: top\">04/22/2017</td>\n",
       "    </tr>\n",
       "    <tr>\n",
       "        <td style=\"padding-left: 1em; padding-right: 1em; text-align: center; vertical-align: top\">Park Lane Hotel</td>\n",
       "        <td style=\"padding-left: 1em; padding-right: 1em; text-align: center; vertical-align: top\">Central Park</td>\n",
       "        <td style=\"padding-left: 1em; padding-right: 1em; text-align: center; vertical-align: top\">10019.0</td>\n",
       "        <td style=\"padding-left: 1em; padding-right: 1em; text-align: center; vertical-align: top\">4.0</td>\n",
       "        <td style=\"padding-left: 1em; padding-right: 1em; text-align: center; vertical-align: top\">4.0</td>\n",
       "        <td style=\"padding-left: 1em; padding-right: 1em; text-align: center; vertical-align: top\">6.0</td>\n",
       "        <td style=\"padding-left: 1em; padding-right: 1em; text-align: center; vertical-align: top\">04/21/2017</td>\n",
       "        <td style=\"padding-left: 1em; padding-right: 1em; text-align: center; vertical-align: top\">04/22/2017</td>\n",
       "    </tr>\n",
       "    <tr>\n",
       "        <td style=\"padding-left: 1em; padding-right: 1em; text-align: center; vertical-align: top\">Park Lane Hotel</td>\n",
       "        <td style=\"padding-left: 1em; padding-right: 1em; text-align: center; vertical-align: top\">Central Park</td>\n",
       "        <td style=\"padding-left: 1em; padding-right: 1em; text-align: center; vertical-align: top\">10019.0</td>\n",
       "        <td style=\"padding-left: 1em; padding-right: 1em; text-align: center; vertical-align: top\">4.0</td>\n",
       "        <td style=\"padding-left: 1em; padding-right: 1em; text-align: center; vertical-align: top\">4.0</td>\n",
       "        <td style=\"padding-left: 1em; padding-right: 1em; text-align: center; vertical-align: top\">6.0</td>\n",
       "        <td style=\"padding-left: 1em; padding-right: 1em; text-align: center; vertical-align: top\">04/21/2017</td>\n",
       "        <td style=\"padding-left: 1em; padding-right: 1em; text-align: center; vertical-align: top\">04/22/2017</td>\n",
       "    </tr>\n",
       "    <tr>\n",
       "        <td style=\"padding-left: 1em; padding-right: 1em; text-align: center; vertical-align: top\">The Belvedere Hotel</td>\n",
       "        <td style=\"padding-left: 1em; padding-right: 1em; text-align: center; vertical-align: top\">Broadway - Times Square</td>\n",
       "        <td style=\"padding-left: 1em; padding-right: 1em; text-align: center; vertical-align: top\">10036.0</td>\n",
       "        <td style=\"padding-left: 1em; padding-right: 1em; text-align: center; vertical-align: top\">3.5</td>\n",
       "        <td style=\"padding-left: 1em; padding-right: 1em; text-align: center; vertical-align: top\">4.2</td>\n",
       "        <td style=\"padding-left: 1em; padding-right: 1em; text-align: center; vertical-align: top\">16.0</td>\n",
       "        <td style=\"padding-left: 1em; padding-right: 1em; text-align: center; vertical-align: top\">04/21/2017</td>\n",
       "        <td style=\"padding-left: 1em; padding-right: 1em; text-align: center; vertical-align: top\">04/22/2017</td>\n",
       "    </tr>\n",
       "</table>\n",
       "<table frame=\"box\" rules=\"cols\">\n",
       "    <tr>\n",
       "        <th style=\"padding-left: 1em; padding-right: 1em; text-align: center\">room</th>\n",
       "        <th style=\"padding-left: 1em; padding-right: 1em; text-align: center\">size</th>\n",
       "        <th style=\"padding-left: 1em; padding-right: 1em; text-align: center\">price</th>\n",
       "        <th style=\"padding-left: 1em; padding-right: 1em; text-align: center\">bed</th>\n",
       "        <th style=\"padding-left: 1em; padding-right: 1em; text-align: center\">guests</th>\n",
       "        <th style=\"padding-left: 1em; padding-right: 1em; text-align: center\">address</th>\n",
       "    </tr>\n",
       "    <tr>\n",
       "        <td style=\"padding-left: 1em; padding-right: 1em; text-align: center; vertical-align: top\">Room, 1 King Bed</td>\n",
       "        <td style=\"padding-left: 1em; padding-right: 1em; text-align: center; vertical-align: top\">245</td>\n",
       "        <td style=\"padding-left: 1em; padding-right: 1em; text-align: center; vertical-align: top\">220.0</td>\n",
       "        <td style=\"padding-left: 1em; padding-right: 1em; text-align: center; vertical-align: top\">1 King Bed</td>\n",
       "        <td style=\"padding-left: 1em; padding-right: 1em; text-align: center; vertical-align: top\">2.0</td>\n",
       "        <td style=\"padding-left: 1em; padding-right: 1em; text-align: center; vertical-align: top\">Greenwich Street</td>\n",
       "    </tr>\n",
       "    <tr>\n",
       "        <td style=\"padding-left: 1em; padding-right: 1em; text-align: center; vertical-align: top\">Room, 1 King Bed</td>\n",
       "        <td style=\"padding-left: 1em; padding-right: 1em; text-align: center; vertical-align: top\">245</td>\n",
       "        <td style=\"padding-left: 1em; padding-right: 1em; text-align: center; vertical-align: top\">289.0</td>\n",
       "        <td style=\"padding-left: 1em; padding-right: 1em; text-align: center; vertical-align: top\">1 King Bed</td>\n",
       "        <td style=\"padding-left: 1em; padding-right: 1em; text-align: center; vertical-align: top\">2.0</td>\n",
       "        <td style=\"padding-left: 1em; padding-right: 1em; text-align: center; vertical-align: top\">Greenwich Street</td>\n",
       "    </tr>\n",
       "    <tr>\n",
       "        <td style=\"padding-left: 1em; padding-right: 1em; text-align: center; vertical-align: top\">Room, 1 King Bed, Harbor<br>View ...</td>\n",
       "        <td style=\"padding-left: 1em; padding-right: 1em; text-align: center; vertical-align: top\">245</td>\n",
       "        <td style=\"padding-left: 1em; padding-right: 1em; text-align: center; vertical-align: top\">224.0</td>\n",
       "        <td style=\"padding-left: 1em; padding-right: 1em; text-align: center; vertical-align: top\">1 King Bed</td>\n",
       "        <td style=\"padding-left: 1em; padding-right: 1em; text-align: center; vertical-align: top\">2.0</td>\n",
       "        <td style=\"padding-left: 1em; padding-right: 1em; text-align: center; vertical-align: top\">Greenwich Street</td>\n",
       "    </tr>\n",
       "    <tr>\n",
       "        <td style=\"padding-left: 1em; padding-right: 1em; text-align: center; vertical-align: top\">Room, 1 King Bed, Harbor<br>View ...</td>\n",
       "        <td style=\"padding-left: 1em; padding-right: 1em; text-align: center; vertical-align: top\">245</td>\n",
       "        <td style=\"padding-left: 1em; padding-right: 1em; text-align: center; vertical-align: top\">294.0</td>\n",
       "        <td style=\"padding-left: 1em; padding-right: 1em; text-align: center; vertical-align: top\">1 King Bed</td>\n",
       "        <td style=\"padding-left: 1em; padding-right: 1em; text-align: center; vertical-align: top\">2.0</td>\n",
       "        <td style=\"padding-left: 1em; padding-right: 1em; text-align: center; vertical-align: top\">Greenwich Street</td>\n",
       "    </tr>\n",
       "    <tr>\n",
       "        <td style=\"padding-left: 1em; padding-right: 1em; text-align: center; vertical-align: top\">Room, 1 King Bed, View</td>\n",
       "        <td style=\"padding-left: 1em; padding-right: 1em; text-align: center; vertical-align: top\">251</td>\n",
       "        <td style=\"padding-left: 1em; padding-right: 1em; text-align: center; vertical-align: top\">246.0</td>\n",
       "        <td style=\"padding-left: 1em; padding-right: 1em; text-align: center; vertical-align: top\">1 King Bed</td>\n",
       "        <td style=\"padding-left: 1em; padding-right: 1em; text-align: center; vertical-align: top\">2.0</td>\n",
       "        <td style=\"padding-left: 1em; padding-right: 1em; text-align: center; vertical-align: top\">Greenwich Street</td>\n",
       "    </tr>\n",
       "    <tr>\n",
       "        <td style=\"padding-left: 1em; padding-right: 1em; text-align: center; vertical-align: top\">Room, 1 King Bed, View</td>\n",
       "        <td style=\"padding-left: 1em; padding-right: 1em; text-align: center; vertical-align: top\">251</td>\n",
       "        <td style=\"padding-left: 1em; padding-right: 1em; text-align: center; vertical-align: top\">319.0</td>\n",
       "        <td style=\"padding-left: 1em; padding-right: 1em; text-align: center; vertical-align: top\">1 King Bed</td>\n",
       "        <td style=\"padding-left: 1em; padding-right: 1em; text-align: center; vertical-align: top\">2.0</td>\n",
       "        <td style=\"padding-left: 1em; padding-right: 1em; text-align: center; vertical-align: top\">Greenwich Street</td>\n",
       "    </tr>\n",
       "    <tr>\n",
       "        <td style=\"padding-left: 1em; padding-right: 1em; text-align: center; vertical-align: top\">Executive, One Queen Bed,<br>City View ...</td>\n",
       "        <td style=\"padding-left: 1em; padding-right: 1em; text-align: center; vertical-align: top\">312</td>\n",
       "        <td style=\"padding-left: 1em; padding-right: 1em; text-align: center; vertical-align: top\">179.0</td>\n",
       "        <td style=\"padding-left: 1em; padding-right: 1em; text-align: center; vertical-align: top\">1 Queen Bed</td>\n",
       "        <td style=\"padding-left: 1em; padding-right: 1em; text-align: center; vertical-align: top\">2.0</td>\n",
       "        <td style=\"padding-left: 1em; padding-right: 1em; text-align: center; vertical-align: top\">Central Park S</td>\n",
       "    </tr>\n",
       "    <tr>\n",
       "        <td style=\"padding-left: 1em; padding-right: 1em; text-align: center; vertical-align: top\">Premier City View<br>Queen/King ...</td>\n",
       "        <td style=\"padding-left: 1em; padding-right: 1em; text-align: center; vertical-align: top\">312</td>\n",
       "        <td style=\"padding-left: 1em; padding-right: 1em; text-align: center; vertical-align: top\">189.0</td>\n",
       "        <td style=\"padding-left: 1em; padding-right: 1em; text-align: center; vertical-align: top\">1 King Bed or 1 Queen Bed</td>\n",
       "        <td style=\"padding-left: 1em; padding-right: 1em; text-align: center; vertical-align: top\">2.0</td>\n",
       "        <td style=\"padding-left: 1em; padding-right: 1em; text-align: center; vertical-align: top\">Central Park S</td>\n",
       "    </tr>\n",
       "    <tr>\n",
       "        <td style=\"padding-left: 1em; padding-right: 1em; text-align: center; vertical-align: top\">Executive, One King Bed,<br>City View ...</td>\n",
       "        <td style=\"padding-left: 1em; padding-right: 1em; text-align: center; vertical-align: top\">331</td>\n",
       "        <td style=\"padding-left: 1em; padding-right: 1em; text-align: center; vertical-align: top\">194.0</td>\n",
       "        <td style=\"padding-left: 1em; padding-right: 1em; text-align: center; vertical-align: top\">1 King Bed</td>\n",
       "        <td style=\"padding-left: 1em; padding-right: 1em; text-align: center; vertical-align: top\">2.0</td>\n",
       "        <td style=\"padding-left: 1em; padding-right: 1em; text-align: center; vertical-align: top\">Central Park S</td>\n",
       "    </tr>\n",
       "    <tr>\n",
       "        <td style=\"padding-left: 1em; padding-right: 1em; text-align: center; vertical-align: top\">Deluxe Room, 1 King Bed</td>\n",
       "        <td style=\"padding-left: 1em; padding-right: 1em; text-align: center; vertical-align: top\">300</td>\n",
       "        <td style=\"padding-left: 1em; padding-right: 1em; text-align: center; vertical-align: top\">159.0</td>\n",
       "        <td style=\"padding-left: 1em; padding-right: 1em; text-align: center; vertical-align: top\">1 King Bed</td>\n",
       "        <td style=\"padding-left: 1em; padding-right: 1em; text-align: center; vertical-align: top\">2.0</td>\n",
       "        <td style=\"padding-left: 1em; padding-right: 1em; text-align: center; vertical-align: top\">W 48th St</td>\n",
       "    </tr>\n",
       "</table>\n",
       "<table frame=\"box\" rules=\"cols\">\n",
       "    <tr>\n",
       "        <th style=\"padding-left: 1em; padding-right: 1em; text-align: center\">link</th>\n",
       "    </tr>\n",
       "    <tr>\n",
       "        <td style=\"padding-left: 1em; padding-right: 1em; text-align: center; vertical-align: top\">https://www.expedia.com<br>/Wall-Street-Financial- ...</td>\n",
       "    </tr>\n",
       "    <tr>\n",
       "        <td style=\"padding-left: 1em; padding-right: 1em; text-align: center; vertical-align: top\">https://www.expedia.com<br>/Wall-Street-Financial- ...</td>\n",
       "    </tr>\n",
       "    <tr>\n",
       "        <td style=\"padding-left: 1em; padding-right: 1em; text-align: center; vertical-align: top\">https://www.expedia.com<br>/Wall-Street-Financial- ...</td>\n",
       "    </tr>\n",
       "    <tr>\n",
       "        <td style=\"padding-left: 1em; padding-right: 1em; text-align: center; vertical-align: top\">https://www.expedia.com<br>/Wall-Street-Financial- ...</td>\n",
       "    </tr>\n",
       "    <tr>\n",
       "        <td style=\"padding-left: 1em; padding-right: 1em; text-align: center; vertical-align: top\">https://www.expedia.com<br>/Wall-Street-Financial- ...</td>\n",
       "    </tr>\n",
       "    <tr>\n",
       "        <td style=\"padding-left: 1em; padding-right: 1em; text-align: center; vertical-align: top\">https://www.expedia.com<br>/Wall-Street-Financial- ...</td>\n",
       "    </tr>\n",
       "    <tr>\n",
       "        <td style=\"padding-left: 1em; padding-right: 1em; text-align: center; vertical-align: top\">https://www.expedia.com<br>/New-York-Hotels-Park- ...</td>\n",
       "    </tr>\n",
       "    <tr>\n",
       "        <td style=\"padding-left: 1em; padding-right: 1em; text-align: center; vertical-align: top\">https://www.expedia.com<br>/New-York-Hotels-Park- ...</td>\n",
       "    </tr>\n",
       "    <tr>\n",
       "        <td style=\"padding-left: 1em; padding-right: 1em; text-align: center; vertical-align: top\">https://www.expedia.com<br>/New-York-Hotels-Park- ...</td>\n",
       "    </tr>\n",
       "    <tr>\n",
       "        <td style=\"padding-left: 1em; padding-right: 1em; text-align: center; vertical-align: top\">https://www.expedia.com<br>/New-York-Hotels-The- ...</td>\n",
       "    </tr>\n",
       "</table>\n",
       "[? rows x 15 columns]<br/>Note: Only the head of the SFrame is printed. This SFrame is lazily evaluated.<br/>You can use sf.materialize() to force materialization.\n",
       "</div>"
      ],
      "text/plain": [
       "Columns:\n",
       "\tname\tstr\n",
       "\tzone\tstr\n",
       "\tzipcode\tfloat\n",
       "\tstar\tfloat\n",
       "\trating\tfloat\n",
       "\trates\tfloat\n",
       "\tcheckin\tstr\n",
       "\tcheckout\tstr\n",
       "\troom\tstr\n",
       "\tsize\tint\n",
       "\tprice\tfloat\n",
       "\tbed\tstr\n",
       "\tguests\tfloat\n",
       "\taddress\tstr\n",
       "\tlink\tstr\n",
       "\n",
       "Rows: Unknown\n",
       "\n",
       "Data:\n",
       "+-------------------------------+-------------------------------+---------+------+\n",
       "|              name             |              zone             | zipcode | star |\n",
       "+-------------------------------+-------------------------------+---------+------+\n",
       "| Courtyard New York Downtow... | Wall Street - Financial Di... | 10006.0 | 3.0  |\n",
       "| Courtyard New York Downtow... | Wall Street - Financial Di... | 10006.0 | 3.0  |\n",
       "| Courtyard New York Downtow... | Wall Street - Financial Di... | 10006.0 | 3.0  |\n",
       "| Courtyard New York Downtow... | Wall Street - Financial Di... | 10006.0 | 3.0  |\n",
       "| Courtyard New York Downtow... | Wall Street - Financial Di... | 10006.0 | 3.0  |\n",
       "| Courtyard New York Downtow... | Wall Street - Financial Di... | 10006.0 | 3.0  |\n",
       "|        Park Lane Hotel        |          Central Park         | 10019.0 | 4.0  |\n",
       "|        Park Lane Hotel        |          Central Park         | 10019.0 | 4.0  |\n",
       "|        Park Lane Hotel        |          Central Park         | 10019.0 | 4.0  |\n",
       "|      The Belvedere Hotel      |    Broadway - Times Square    | 10036.0 | 3.5  |\n",
       "+-------------------------------+-------------------------------+---------+------+\n",
       "+--------+-------+------------+------------+-------------------------------+------+\n",
       "| rating | rates |  checkin   |  checkout  |              room             | size |\n",
       "+--------+-------+------------+------------+-------------------------------+------+\n",
       "|  4.3   |  46.0 | 04/21/2017 | 04/22/2017 |        Room, 1 King Bed       | 245  |\n",
       "|  4.3   |  46.0 | 04/21/2017 | 04/22/2017 |        Room, 1 King Bed       | 245  |\n",
       "|  4.3   |  46.0 | 04/21/2017 | 04/22/2017 | Room, 1 King Bed, Harbor View | 245  |\n",
       "|  4.3   |  46.0 | 04/21/2017 | 04/22/2017 | Room, 1 King Bed, Harbor View | 245  |\n",
       "|  4.3   |  46.0 | 04/21/2017 | 04/22/2017 |     Room, 1 King Bed, View    | 251  |\n",
       "|  4.3   |  46.0 | 04/21/2017 | 04/22/2017 |     Room, 1 King Bed, View    | 251  |\n",
       "|  4.0   |  6.0  | 04/21/2017 | 04/22/2017 | Executive, One Queen Bed, ... | 312  |\n",
       "|  4.0   |  6.0  | 04/21/2017 | 04/22/2017 |  Premier City View Queen/King | 312  |\n",
       "|  4.0   |  6.0  | 04/21/2017 | 04/22/2017 | Executive, One King Bed, C... | 331  |\n",
       "|  4.2   |  16.0 | 04/21/2017 | 04/22/2017 |    Deluxe Room, 1 King Bed    | 300  |\n",
       "+--------+-------+------------+------------+-------------------------------+------+\n",
       "+-------+---------------------------+--------+------------------+\n",
       "| price |            bed            | guests |     address      |\n",
       "+-------+---------------------------+--------+------------------+\n",
       "| 220.0 |         1 King Bed        |  2.0   | Greenwich Street |\n",
       "| 289.0 |         1 King Bed        |  2.0   | Greenwich Street |\n",
       "| 224.0 |         1 King Bed        |  2.0   | Greenwich Street |\n",
       "| 294.0 |         1 King Bed        |  2.0   | Greenwich Street |\n",
       "| 246.0 |         1 King Bed        |  2.0   | Greenwich Street |\n",
       "| 319.0 |         1 King Bed        |  2.0   | Greenwich Street |\n",
       "| 179.0 |        1 Queen Bed        |  2.0   |  Central Park S  |\n",
       "| 189.0 | 1 King Bed or 1 Queen Bed |  2.0   |  Central Park S  |\n",
       "| 194.0 |         1 King Bed        |  2.0   |  Central Park S  |\n",
       "| 159.0 |         1 King Bed        |  2.0   |    W 48th St     |\n",
       "+-------+---------------------------+--------+------------------+\n",
       "+-------------------------------+\n",
       "|              link             |\n",
       "+-------------------------------+\n",
       "| https://www.expedia.com/Wa... |\n",
       "| https://www.expedia.com/Wa... |\n",
       "| https://www.expedia.com/Wa... |\n",
       "| https://www.expedia.com/Wa... |\n",
       "| https://www.expedia.com/Wa... |\n",
       "| https://www.expedia.com/Wa... |\n",
       "| https://www.expedia.com/Ne... |\n",
       "| https://www.expedia.com/Ne... |\n",
       "| https://www.expedia.com/Ne... |\n",
       "| https://www.expedia.com/Ne... |\n",
       "+-------------------------------+\n",
       "[? rows x 15 columns]\n",
       "Note: Only the head of the SFrame is printed. This SFrame is lazily evaluated.\n",
       "You can use sf.materialize() to force materialization."
      ]
     },
     "execution_count": 3,
     "metadata": {},
     "output_type": "execute_result"
    }
   ],
   "source": [
    "hotels = graphlab.SFrame('NY.csv') # Chicago.csv\n",
    "hotels['price'] = hotels['price'].astype(float)\n",
    "hotels['rates'] = hotels['rates'].astype(float)\n",
    "hotels['zipcode'] = hotels['zipcode'].astype(float)\n",
    "hotels['guests'] = hotels['guests'].astype(float)\n",
    "\n",
    "#hotels = hotels[hotels['size'] < 1500] \n",
    "hotels = hotels[hotels['price'] > 10]\n",
    "hotels"
   ]
  },
  {
   "cell_type": "markdown",
   "metadata": {},
   "source": [
    "# Import useful functions from previous phase"
   ]
  },
  {
   "cell_type": "code",
   "execution_count": 5,
   "metadata": {
    "collapsed": true
   },
   "outputs": [],
   "source": [
    "import numpy as np "
   ]
  },
  {
   "cell_type": "code",
   "execution_count": 6,
   "metadata": {
    "collapsed": true
   },
   "outputs": [],
   "source": [
    "def get_numpy_data(data_sframe, features, output):\n",
    "    data_sframe['constant'] = 1 #this is how to add a constant to an SFrame\n",
    "    # add the column 'constant' to the front of the features list so that we can extract it along with the ohters:\n",
    "    features = ['constant'] +features # this is how we combine two lists\n",
    "    # select the columns of data_SFrame given by the features list into the SFrame features_sframe (now including constant):\n",
    "    features_sframe = data_sframe[features]\n",
    "    # the following line will convert the features_SFrame into a numpy matrix:\n",
    "    feature_matrix = features_sframe.to_numpy()\n",
    "    # assign the column of data_sframe associated with the output to the SArray output_sarray\n",
    "    output_sarray = data_sframe[output]\n",
    "    # the following will convert the SArray into a numpy array by first converting it to a list\n",
    "    output_array = output_sarray.to_numpy()\n",
    "    return(feature_matrix, output_array)"
   ]
  },
  {
   "cell_type": "code",
   "execution_count": 7,
   "metadata": {
    "collapsed": true
   },
   "outputs": [],
   "source": [
    "# Compute the output \n",
    "def predict_output(feature_matrix, weights):\n",
    "    # assume feature_matrix is a numpy matrix containing the features as columns and weights is a corresponding numpy array\n",
    "    # create the predictions vector by using np.dot()\n",
    "    predictions = np.dot(feature_matrix,weights)\n",
    "    return(predictions)"
   ]
  },
  {
   "cell_type": "markdown",
   "metadata": {},
   "source": [
    "# Normalize features"
   ]
  },
  {
   "cell_type": "markdown",
   "metadata": {},
   "source": [
    "In the hotel dataset, features vary wildly in their relative magnitude: rating is very large overall compared to star, for instance. As a result, weight for rating would be much smaller than weight for star. This is problematic because \"small\" weights are dropped first as l1_penalty goes up.\n",
    "\n",
    "To give equal considerations for all features, we need to normalize features, we divide each feature by its 2-norm so that the transformed feature has norm 1.\n",
    "\n",
    "Let us first consider a small matrix as a test method"
   ]
  },
  {
   "cell_type": "code",
   "execution_count": 8,
   "metadata": {
    "collapsed": false
   },
   "outputs": [
    {
     "name": "stdout",
     "output_type": "stream",
     "text": [
      "[[  3.   5.   8.]\n",
      " [  4.  12.  15.]]\n"
     ]
    }
   ],
   "source": [
    "X = np.array([[3.,5.,8.],[4.,12.,15.]])\n",
    "print X"
   ]
  },
  {
   "cell_type": "markdown",
   "metadata": {},
   "source": [
    "Numpy provides a shorthand for computing 2-norms of each column:\n"
   ]
  },
  {
   "cell_type": "code",
   "execution_count": 9,
   "metadata": {
    "collapsed": false
   },
   "outputs": [
    {
     "name": "stdout",
     "output_type": "stream",
     "text": [
      "[  5.  13.  17.]\n"
     ]
    }
   ],
   "source": [
    "norms = np.linalg.norm(X, axis=0) # gives [norm(X[:,0]), norm(X[:,1]), norm(X[:,2])]\n",
    "print norms"
   ]
  },
  {
   "cell_type": "markdown",
   "metadata": {},
   "source": [
    "To normalize, apply element-wise division"
   ]
  },
  {
   "cell_type": "code",
   "execution_count": 10,
   "metadata": {
    "collapsed": false
   },
   "outputs": [
    {
     "name": "stdout",
     "output_type": "stream",
     "text": [
      "[[ 0.6         0.38461538  0.47058824]\n",
      " [ 0.8         0.92307692  0.88235294]]\n"
     ]
    }
   ],
   "source": [
    "print X / norms # gives [X[:,0]/norm(X[:,0]), X[:,1]/norm(X[:,1]), X[:,2]/norm(X[:,2])]"
   ]
  },
  {
   "cell_type": "markdown",
   "metadata": {},
   "source": [
    "We are going write a short function called normalize_features(feature_matrix), which normalizes columns of a given feature matrix. The function should return a pair (normalized_features, norms), where the second item contains the norms of original features."
   ]
  },
  {
   "cell_type": "code",
   "execution_count": 11,
   "metadata": {
    "collapsed": true
   },
   "outputs": [],
   "source": [
    "def normalize_features(feature_matrix):\n",
    "    norms = np.linalg.norm(feature_matrix, axis=0) # gives [norm(X[:,0]), norm(X[:,1]), norm(X[:,2])]\n",
    "    normalized_features = feature_matrix/norms\n",
    "    return (normalized_features, norms)"
   ]
  },
  {
   "cell_type": "code",
   "execution_count": 12,
   "metadata": {
    "collapsed": false
   },
   "outputs": [
    {
     "name": "stdout",
     "output_type": "stream",
     "text": [
      "[[ 0.6  0.6  0.6]\n",
      " [ 0.8  0.8  0.8]]\n",
      "[  5.  10.  15.]\n"
     ]
    }
   ],
   "source": [
    "# test the function\n",
    "features, norms = normalize_features(np.array([[3.,6.,9.],[4.,8.,12.]]))\n",
    "print features\n",
    "# should print\n",
    "# [[ 0.6  0.6  0.6]\n",
    "#  [ 0.8  0.8  0.8]]\n",
    "print norms\n",
    "# should print\n",
    "# [5.  10.  15.]"
   ]
  },
  {
   "cell_type": "markdown",
   "metadata": {},
   "source": [
    "# Implementing Coordinate Descent with normalized features\n"
   ]
  },
  {
   "cell_type": "markdown",
   "metadata": {},
   "source": [
    "We seek to obtain a sparse set of weights by minimizing the LASSO cost function\n",
    "\n",
    "    SUM[ (prediction - output)^2 ] + lambda*( |w[1]| + ... + |w[k]|).\n",
    "\n",
    "(By convention, we do not include w[0] in the L1 penalty term. We never want to push the intercept to zero.)\n",
    "\n",
    "The absolute value sign makes the cost function non-differentiable, so simple gradient descent is not viable (we would need to implement a method called subgradient descent). Instead, we will use coordinate descent: at each iteration, we will fix all weights but weight i and find the value of weight i that minimizes the objective. That is, we look for\n",
    "    argmin_{w[i]} [ SUM[ (prediction - output)^2 ] + lambda*( |w[1]| + ... + |w[k]|) ]\n",
    "\n",
    "where all weights other than w[i] are held to be constant. We will optimize one w[i] at a time, circling through the weights multiple times.\n",
    "\n",
    "    1.Pick a coordinate i\n",
    "    2.Compute w[i] that minimizes the cost function SUM[ (prediction - output)^2 ] + lambda*( |w[1]| + ... + |w[k]|)\n",
    "    3.Repeat Steps 1 and 2 for all coordinates, multiple times\n",
    "\n",
    "We will use cyclical coordinate descent with normalized features, where we cycle through coordinates 0 to (d-1) in order, and assume the features were normalized as discussed above. The formula for optimizing each coordinate is as follows:\n",
    "\n",
    "           ┌ (ro[i] + lambda/2)     if ro[i] < -lambda/2\n",
    "    w[i] = ├ 0                      if -lambda/2 <= ro[i] <= lambda/2\n",
    "           └ (ro[i] - lambda/2)     if ro[i] > lambda/2\n",
    "\n",
    "where\n",
    "\n",
    "    ro[i] = SUM[ [feature_i]*(output - prediction + w[i]*[feature_i]) ].\n",
    "\n",
    "Note that we do not regularize the weight of the constant feature (intercept) w[0], so, for this weight, the update is simply:\n",
    "\n",
    "    w[0] = ro[i]"
   ]
  },
  {
   "cell_type": "markdown",
   "metadata": {},
   "source": [
    "# Effect of L1 penalty\n"
   ]
  },
  {
   "cell_type": "markdown",
   "metadata": {},
   "source": [
    "Let us consider a simple model with 2 features:"
   ]
  },
  {
   "cell_type": "code",
   "execution_count": 13,
   "metadata": {
    "collapsed": false
   },
   "outputs": [
    {
     "data": {
      "text/plain": [
       "array([ 220.,  289.,  224., ...,  265.,  300.,  300.])"
      ]
     },
     "execution_count": 13,
     "metadata": {},
     "output_type": "execute_result"
    }
   ],
   "source": [
    "simple_features = ['rating', 'star']\n",
    "my_output = 'price'\n",
    "(simple_feature_matrix, output) = get_numpy_data(hotels, simple_features, my_output)\n",
    "output"
   ]
  },
  {
   "cell_type": "markdown",
   "metadata": {},
   "source": [
    "normalize features:"
   ]
  },
  {
   "cell_type": "code",
   "execution_count": 18,
   "metadata": {
    "collapsed": false
   },
   "outputs": [
    {
     "name": "stdout",
     "output_type": "stream",
     "text": [
      "[[ 0.00630642  0.00651189  0.00491019]\n",
      " [ 0.00630642  0.00651189  0.00491019]\n",
      " [ 0.00630642  0.00651189  0.00491019]\n",
      " ..., \n",
      " [ 0.00630642  0.00605758  0.00572856]\n",
      " [ 0.00630642  0.00605758  0.00572856]\n",
      " [ 0.00630642  0.00605758  0.00572856]]\n",
      "################################################################\n",
      "[ 0.00630642  0.00630642  0.00630642 ...,  0.00630642  0.00630642\n",
      "  0.00630642]\n"
     ]
    }
   ],
   "source": [
    "simple_feature_matrix, norms = normalize_features(simple_feature_matrix)\n",
    "print simple_feature_matrix\n",
    "print \"################################################################\"\n",
    "print simple_feature_matrix[:,0]"
   ]
  },
  {
   "cell_type": "markdown",
   "metadata": {},
   "source": [
    "We assign some random set of initial weights and inspect the values of ro[i]:"
   ]
  },
  {
   "cell_type": "code",
   "execution_count": 19,
   "metadata": {
    "collapsed": true
   },
   "outputs": [],
   "source": [
    "weights = np.array([1., 4., 1.])"
   ]
  },
  {
   "cell_type": "markdown",
   "metadata": {},
   "source": [
    "Use predict_output() to make predictions on this data."
   ]
  },
  {
   "cell_type": "code",
   "execution_count": 20,
   "metadata": {
    "collapsed": true
   },
   "outputs": [],
   "source": [
    "prediction = predict_output(simple_feature_matrix,weights)"
   ]
  },
  {
   "cell_type": "markdown",
   "metadata": {},
   "source": [
    "Compute the values of ro[i] for each feature in this simple model:\n",
    "\n",
    "    ro[i] = SUM[ [feature_i]*(output - prediction + w[i]*[feature_i]) ]\n",
    "\n",
    "Get a Numpy vector for feature_i using:\n",
    "\n",
    "    simple_feature_matrix[:,i]"
   ]
  },
  {
   "cell_type": "code",
   "execution_count": 21,
   "metadata": {
    "collapsed": false
   },
   "outputs": [
    {
     "name": "stdout",
     "output_type": "stream",
     "text": [
      "[53270.635854038541, 54210.587831761404, 55316.814541582251]\n"
     ]
    }
   ],
   "source": [
    "#Very Important\n",
    "#simple_feature_matrix.shape[1] return 3 so the code below just making a 1*3 vector full of 0s\n",
    "ro = [0 for i in range((simple_feature_matrix.shape)[1])]\n",
    "for j in range((simple_feature_matrix.shape)[1]):\n",
    "    ro[j] = (simple_feature_matrix[:,j] *(output - prediction +(weights[j] *simple_feature_matrix[:,j]))).sum()\n",
    "print ro"
   ]
  },
  {
   "cell_type": "code",
   "execution_count": 22,
   "metadata": {
    "collapsed": false
   },
   "outputs": [
    {
     "name": "stdout",
     "output_type": "stream",
     "text": [
      "108421.175664 , 110633.629083\n"
     ]
    }
   ],
   "source": [
    "print 2* ro[1],',',2* ro[2]"
   ]
  },
  {
   "cell_type": "markdown",
   "metadata": {},
   "source": [
    "we have ro[0], ro[1], ro[2]\n",
    "\n",
    "For W1 to be zero, we need ro[1] in [-lambda/2, lambda/2]\n",
    "\n",
    "We have -lambda/2 <= ro[1] <= lambda/2\n",
    "\n",
    "This translates to lambda >= -2ro[1] and lambda >= 2ro[1]\n",
    "\n",
    "For both conditions to be satisfied, lambda >= 2ro[1] = 1.08e5\n",
    "\n",
    "Similarly for W2. lambda >= 2ro[2] = 1.11e5.\n",
    "\n",
    "So, w[i] = 0 if lambda >= 2 * abs(ro[i])\n"
   ]
  },
  {
   "cell_type": "code",
   "execution_count": 23,
   "metadata": {
    "collapsed": true
   },
   "outputs": [],
   "source": [
    "#return true if value is within the threshold ranges otherwise False\n",
    "#Looking for range -1l_penality/2 <= ro <= l1_penalty/2\n",
    "def in_l1range(value, penalty):\n",
    "    return((value >= -penalty / 2.) and (value <= penalty / 2.))"
   ]
  },
  {
   "cell_type": "code",
   "execution_count": 24,
   "metadata": {
    "collapsed": false
   },
   "outputs": [
    {
     "name": "stdout",
     "output_type": "stream",
     "text": [
      "False False\n",
      "True False\n",
      "True False\n",
      "True True\n",
      "True True\n"
     ]
    }
   ],
   "source": [
    "for l1_penalty in [1.00e5, 1.09e5, 1.10e5, 1.30e5, 2.00e5]:\n",
    "    print in_l1range(ro[1],l1_penalty) , in_l1range(ro[2],l1_penalty)"
   ]
  },
  {
   "cell_type": "markdown",
   "metadata": {},
   "source": [
    "# Single Coordinate Descent Step\n"
   ]
  },
  {
   "cell_type": "markdown",
   "metadata": {},
   "source": [
    "Using the formula above, we will implement coordinate descent that minimizes the cost function over a single feature i.\n",
    "\n",
    "Note that the intercept (weight 0) is not regularized. The function should accept feature matrix, output, current weights, l1 penalty, and index of feature to optimize over. The function should return new weight for feature i.\n"
   ]
  },
  {
   "cell_type": "code",
   "execution_count": 25,
   "metadata": {
    "collapsed": true
   },
   "outputs": [],
   "source": [
    "def lasso_coordinate_descent_step(i, feature_matrix, output, weights, l1_penalty):\n",
    "    # compute prediction\n",
    "    prediction = predict_output(feature_matrix, weights)\n",
    "    # compute ro[i] = SUM[ [feature_i]*(output - prediction + weight[i]*[feature_i]) ]\n",
    "    ro_i = (feature_matrix[:,i] *(output - prediction +(weights[i] *feature_matrix[:,i]))).sum()\n",
    "    # soft Threshholding!!!\n",
    "    if i == 0: # intercept -- do not regularize\n",
    "        new_weight_i = ro_i \n",
    "    elif ro_i < -l1_penalty/2.:\n",
    "        new_weight_i = (ro_i + l1_penalty/2.)\n",
    "    elif ro_i > l1_penalty/2.:\n",
    "        new_weight_i = (ro_i - l1_penalty/2.)\n",
    "    else:\n",
    "        new_weight_i = 0.\n",
    "    \n",
    "    return new_weight_i"
   ]
  },
  {
   "cell_type": "markdown",
   "metadata": {},
   "source": [
    "To test the function, run the following cell:\n"
   ]
  },
  {
   "cell_type": "code",
   "execution_count": 27,
   "metadata": {
    "collapsed": false
   },
   "outputs": [
    {
     "name": "stdout",
     "output_type": "stream",
     "text": [
      "0.425558846691\n"
     ]
    }
   ],
   "source": [
    "# should print 0.425558846691\n",
    "import math\n",
    "print lasso_coordinate_descent_step(1, np.array([[3./math.sqrt(13),1./math.sqrt(10)],[2./math.sqrt(13),3./math.sqrt(10)]]), \n",
    "                                   np.array([1., 1.]), np.array([1., 4.]), 0.1)"
   ]
  },
  {
   "cell_type": "markdown",
   "metadata": {},
   "source": [
    "# Cyclical coordinate descent"
   ]
  },
  {
   "cell_type": "markdown",
   "metadata": {},
   "source": [
    "Now that we have a function that optimizes the cost function over a single coordinate, let us implement cyclical coordinate descent where we optimize coordinates 0, 1, ..., (d-1) in order and repeat.\n",
    "\n",
    "When do we know to stop? Each time we scan all the coordinates (features) once, we measure the change in weight for each coordinate. If no coordinate changes by more than a specified threshold, we stop.\n",
    "\n",
    "For each iteration:\n",
    "\n",
    "    1.As we loop over features in order and perform coordinate descent, measure how much each coordinate changes.\n",
    "    2.After the loop, if the maximum change across all coordinates is falls below the tolerance, stop. Otherwise, go back to step 1.\n",
    "    \n",
    "Return weights\n",
    "\n",
    "**IMPORTANT: when computing a new weight for coordinate i, make sure to incorporate the new weights for coordinates 0, 1, ..., i-1. One good way is to update our weights variable in-place. See following pseudocode for illustration.**\n",
    "\n",
    "    for i in range(len(weights)):\n",
    "        old_weights_i = weights[i] # remember old value of weight[i], as it will be overwritten\n",
    "        # the following line uses new values for weight[0], weight[1], ..., weight[i-1]\n",
    "        #     and old values for weight[i], ..., weight[d-1]\n",
    "        weights[i] = lasso_coordinate_descent_step(i, feature_matrix, output, weights, l1_penalty)\n",
    "\n",
    "        # use old_weights_i to compute change in coordinate\n",
    "        ..."
   ]
  },
  {
   "cell_type": "code",
   "execution_count": 28,
   "metadata": {
    "collapsed": true
   },
   "outputs": [],
   "source": [
    "def lasso_cyclical_coordinate_descent(feature_matrix, output, initial_weights, l1_penalty, tolerance):\n",
    "    #the # of the features\n",
    "    D = feature_matrix.shape[1]\n",
    "    old_weights = np.array(initial_weights)\n",
    "    change = np.array(initial_weights) * 0.0\n",
    "    converged = False\n",
    "    \n",
    "    while not converged:\n",
    "        \n",
    "        for i in range(D):\n",
    "            new_weights = lasso_coordinate_descent_step(i,feature_matrix,output,\n",
    "                                                        old_weights,l1_penalty) \n",
    "            #compute the change\n",
    "            change[i] = np.abs(new_weights - old_weights[i])\n",
    "            #assign new weight\n",
    "            old_weights[i] = new_weights\n",
    "        max_change = max(change)\n",
    "        if max_change < tolerance:\n",
    "            converged = True\n",
    "    return old_weights"
   ]
  },
  {
   "cell_type": "markdown",
   "metadata": {},
   "source": [
    "Use rating and star learn the weights on the hotles dataset\n"
   ]
  },
  {
   "cell_type": "code",
   "execution_count": 84,
   "metadata": {
    "collapsed": true
   },
   "outputs": [],
   "source": [
    "simple_features = ['rating', 'star']\n",
    "my_output = 'price'\n",
    "initial_weights = np.zeros(3)\n",
    "l1_penalty = 3e3\n",
    "tolerance = 1.0"
   ]
  },
  {
   "cell_type": "markdown",
   "metadata": {},
   "source": [
    "First create a normalized version of the feature matrix, normalized_simple_feature_matrix.\n"
   ]
  },
  {
   "cell_type": "code",
   "execution_count": 85,
   "metadata": {
    "collapsed": false
   },
   "outputs": [],
   "source": [
    "(simple_feature_matrix, output) = get_numpy_data(hotels, simple_features, my_output)\n",
    "(normalized_simple_feature_matrix, simple_norms) = normalize_features(simple_feature_matrix) # normalize features"
   ]
  },
  {
   "cell_type": "markdown",
   "metadata": {},
   "source": [
    "Run the implementation of LASSO coordinate descent:"
   ]
  },
  {
   "cell_type": "code",
   "execution_count": 86,
   "metadata": {
    "collapsed": false
   },
   "outputs": [
    {
     "name": "stdout",
     "output_type": "stream",
     "text": [
      "[ 11626.13157722      0.          42401.57635627]\n"
     ]
    }
   ],
   "source": [
    "weights = lasso_cyclical_coordinate_descent(normalized_simple_feature_matrix, output,\n",
    "                                            initial_weights, l1_penalty, tolerance)\n",
    "print weights"
   ]
  },
  {
   "cell_type": "code",
   "execution_count": 87,
   "metadata": {
    "collapsed": false
   },
   "outputs": [
    {
     "name": "stdout",
     "output_type": "stream",
     "text": [
      "RSS for normalized dataset =  532919827.552\n"
     ]
    }
   ],
   "source": [
    "prediction = predict_output(normalized_simple_feature_matrix,weights)\n",
    "prediction\n",
    "RSS = np.dot(output - prediction, output - prediction)\n",
    "print 'RSS for normalized dataset = ', RSS"
   ]
  },
  {
   "cell_type": "markdown",
   "metadata": {},
   "source": [
    "# Evaluating LASSO fit with more features\n"
   ]
  },
  {
   "cell_type": "markdown",
   "metadata": {},
   "source": [
    "Let us split the sales dataset into training and test sets."
   ]
  },
  {
   "cell_type": "code",
   "execution_count": 73,
   "metadata": {
    "collapsed": false
   },
   "outputs": [],
   "source": [
    "train_data,test_data = hotels.random_split(.8,seed=0)"
   ]
  },
  {
   "cell_type": "markdown",
   "metadata": {},
   "source": [
    "Let us consider the following set of features.\n"
   ]
  },
  {
   "cell_type": "code",
   "execution_count": 74,
   "metadata": {
    "collapsed": true
   },
   "outputs": [],
   "source": [
    "all_features = ['star',  \n",
    "                'zipcode',\n",
    "                'rating',\n",
    "                'rates',\n",
    "                'size',\n",
    "                'guests'\n",
    "               ]"
   ]
  },
  {
   "cell_type": "markdown",
   "metadata": {},
   "source": [
    "First, create a normalized feature matrix from the TRAINING data with these features. \n"
   ]
  },
  {
   "cell_type": "code",
   "execution_count": 89,
   "metadata": {
    "collapsed": true
   },
   "outputs": [],
   "source": [
    "my_output = 'price'\n",
    "(feature_matrix, output) = get_numpy_data(train_data,all_features,my_output)\n",
    "normalize_features_matirx, norms = normalize_features(feature_matrix)"
   ]
  },
  {
   "cell_type": "markdown",
   "metadata": {},
   "source": [
    "First, learn the weights with l1_penalty=3e3, on the training data. Initialize weights to all zeros, and set the tolerance = 1. Call resulting weights weights3e3, we will need them later."
   ]
  },
  {
   "cell_type": "code",
   "execution_count": 102,
   "metadata": {
    "collapsed": true
   },
   "outputs": [],
   "source": [
    "initial_weights = np.zeros(len(all_features) + 1)\n",
    "l1_penalty = 3e3\n",
    "tolerance = 1.0"
   ]
  },
  {
   "cell_type": "code",
   "execution_count": 103,
   "metadata": {
    "collapsed": false
   },
   "outputs": [
    {
     "name": "stdout",
     "output_type": "stream",
     "text": [
      "[ 11482.20095505  17857.62269066      0.              0.              0.\n",
      "  20589.84229056      0.        ]\n"
     ]
    }
   ],
   "source": [
    "weights3e3 = lasso_cyclical_coordinate_descent(normalize_features_matirx,output,\n",
    "                                              initial_weights,l1_penalty,tolerance)\n",
    "print weights3e3"
   ]
  },
  {
   "cell_type": "code",
   "execution_count": 104,
   "metadata": {
    "collapsed": false
   },
   "outputs": [
    {
     "name": "stdout",
     "output_type": "stream",
     "text": [
      "['constant', 'star', 'zipcode', 'rating', 'rates', 'size', 'guests']\n"
     ]
    }
   ],
   "source": [
    "feature_list = ['constant'] + all_features\n",
    "print feature_list"
   ]
  },
  {
   "cell_type": "code",
   "execution_count": 106,
   "metadata": {
    "collapsed": false
   },
   "outputs": [
    {
     "name": "stdout",
     "output_type": "stream",
     "text": [
      "0 value coefficient are:  rating\n",
      "star 17857.6226907\n",
      "0 value coefficient are:  zipcode\n",
      "0 value coefficient are:  rates\n",
      "0 value coefficient are:  guests\n",
      "constant 11482.2009551\n",
      "size 20589.8422906\n"
     ]
    }
   ],
   "source": [
    "non_zero_weight3e3 = dict(zip(feature_list,weights3e3))\n",
    "#non_zero_weightle7\n",
    "for k,v in non_zero_weight3e3.iteritems():\n",
    "    if v != 0:\n",
    "        print k,v\n",
    "    else :\n",
    "        print '0 value coefficient are: ' , k"
   ]
  },
  {
   "cell_type": "markdown",
   "metadata": {},
   "source": [
    "Next, learn the weights with l1_penalty=1e5, on the training data. Initialize weights to all zeros, and set the tolerance=1. Call resulting weights weights1e5, we will need them later."
   ]
  },
  {
   "cell_type": "code",
   "execution_count": 114,
   "metadata": {
    "collapsed": false
   },
   "outputs": [
    {
     "name": "stdout",
     "output_type": "stream",
     "text": [
      "0 value coefficient are:  rating\n",
      "0 value coefficient are:  star\n",
      "0 value coefficient are:  zipcode\n",
      "0 value coefficient are:  rates\n",
      "0 value coefficient are:  guests\n",
      "constant 47676.9575697\n",
      "0 value coefficient are:  size\n"
     ]
    }
   ],
   "source": [
    "l1_penalty = 1e5\n",
    "weights1e5 = lasso_cyclical_coordinate_descent(normalize_features_matirx,output,\n",
    "                                              initial_weights,l1_penalty,tolerance)\n",
    "feature_list = ['constant'] + all_features\n",
    "non_zero_weights1e5 = dict(zip(feature_list,weights1e5))\n",
    "for k,v in non_zero_weights1e5.iteritems():\n",
    "    if v != 0:\n",
    "        print k,v\n",
    "    else :\n",
    "        print '0 value coefficient are: ' , k"
   ]
  },
  {
   "cell_type": "markdown",
   "metadata": {},
   "source": [
    "Finally, learn the weights with l1_penalty=1e4, on the training data. Initialize weights to all zeros, and set the tolerance=5e5. Call resulting weights weights1e4, we will need them later. "
   ]
  },
  {
   "cell_type": "code",
   "execution_count": 145,
   "metadata": {
    "collapsed": false
   },
   "outputs": [
    {
     "name": "stdout",
     "output_type": "stream",
     "text": [
      "rating 43.2950529995\n",
      "star 2191.22103331\n",
      "zipcode -1661.62574629\n",
      "rates 59.8644278169\n",
      "guests -2641.87427611\n",
      "constant 47676.9575697\n",
      "size 4593.05050074\n"
     ]
    }
   ],
   "source": [
    "l1_penalty = 1e3\n",
    "tolerance = 5e4\n",
    "weights1e3 = lasso_cyclical_coordinate_descent(normalize_features_matirx,output,\n",
    "                                              initial_weights,l1_penalty,tolerance)\n",
    "feature_list = ['constant'] + all_features\n",
    "non_zero_weights1e3 = dict(zip(feature_list,weights1e3))\n",
    "for k,v in non_zero_weights1e3.iteritems():\n",
    "    if v != 0:\n",
    "        print k,v\n",
    "    else :\n",
    "        print 'The zero-value coefficient are: ' , k"
   ]
  },
  {
   "cell_type": "markdown",
   "metadata": {},
   "source": [
    "# Rescaling learned weights\n"
   ]
  },
  {
   "cell_type": "markdown",
   "metadata": {},
   "source": [
    "To use these weights on a test set, we must normalize the test data in the same way.\n",
    "\n",
    "Alternatively, we can rescale the learned weights to include the normalization, so we never have to worry about normalizing the test data:\n",
    "\n",
    "In this case, we must scale the resulting weights so that we can make predictions with original features:\n",
    "\n",
    "    1.Store the norms of the original features to a vector called norms:\n",
    "        features, norms = normalize_features(features)\n",
    "    2.Run Lasso on the normalized features and obtain a weights vector\n",
    "    3.Compute the weights for the original features by performing element-wise division, i.e.\n",
    "        weights_normalized = weights / norms\n",
    "\n",
    "Now, we can apply weights_normalized to the test data, without normalizing it!\n",
    "\n",
    "Create a normalized version of each of the weights learned above. (weights1e3, weights1e5, weights3e3)."
   ]
  },
  {
   "cell_type": "code",
   "execution_count": 156,
   "metadata": {
    "collapsed": false
   },
   "outputs": [
    {
     "name": "stdout",
     "output_type": "stream",
     "text": [
      "32.6121477456\n"
     ]
    }
   ],
   "source": [
    "my_output = 'price'\n",
    "(feature_matrix, output) = get_numpy_data(train_data, all_features, my_output)\n",
    "normalized_feature_matrix, norms = normalize_features(feature_matrix)\n",
    "\n",
    "normalized_weights1e3 = weights1e3 / norms\n",
    "normalized_weights3e3 = weights3e3 / norms\n",
    "normalized_weights1e5 = weights1e5 / norms\n",
    "print normalized_weights3e3[1]"
   ]
  },
  {
   "cell_type": "code",
   "execution_count": 160,
   "metadata": {
    "collapsed": false
   },
   "outputs": [
    {
     "name": "stdout",
     "output_type": "stream",
     "text": [
      "##########################################\n",
      "normalized weights: with L1 = 1e3 \n",
      "335.428995694\n",
      "4.00167622082\n",
      "-0.00115306833756\n",
      "0.0731373921154\n",
      "0.00122055522058\n",
      "0.0902066385819\n",
      "-6.01156124396\n",
      "##########################################\n",
      "normalized weights: with L1 = 3e3 \n",
      "80.782485524\n",
      "32.6121477456\n",
      "0.0\n",
      "0.0\n",
      "0.0\n",
      "0.404380587948\n",
      "0.0\n",
      "##########################################\n",
      "normalized weights: with L1 = 1e5 \n",
      "335.428995694\n",
      "0.0\n",
      "0.0\n",
      "0.0\n",
      "0.0\n",
      "0.0\n",
      "0.0\n",
      "##########################################\n"
     ]
    }
   ],
   "source": [
    "print '##########################################'\n",
    "print 'normalized weights: with L1 = 1e3 '\n",
    "for i in range(0,7):\n",
    "    print normalized_weights1e3[i]\n",
    "print '##########################################'\n",
    "print 'normalized weights: with L1 = 3e3 '\n",
    "for i in range(0,7):\n",
    "    print normalized_weights3e3[i]\n",
    "print '##########################################'\n",
    "print 'normalized weights: with L1 = 1e5 '\n",
    "for i in range(0,7):\n",
    "    print normalized_weights1e5[i]\n",
    "print '##########################################'"
   ]
  },
  {
   "cell_type": "markdown",
   "metadata": {},
   "source": [
    "# Evaluating each of the learned models on the test data\n"
   ]
  },
  {
   "cell_type": "markdown",
   "metadata": {},
   "source": [
    "Let's now evaluate the three models on the test data:\n"
   ]
  },
  {
   "cell_type": "code",
   "execution_count": 161,
   "metadata": {
    "collapsed": true
   },
   "outputs": [],
   "source": [
    "(test_feature_matrix, test_output) = get_numpy_data(test_data, all_features, 'price')"
   ]
  },
  {
   "cell_type": "markdown",
   "metadata": {},
   "source": [
    "Compute the RSS of each of the three normalized weights on the (unnormalized) test_feature_matrix:\n"
   ]
  },
  {
   "cell_type": "code",
   "execution_count": 162,
   "metadata": {
    "collapsed": false
   },
   "outputs": [
    {
     "name": "stdout",
     "output_type": "stream",
     "text": [
      "RSS for model with weights1e7 =  133256591.788\n"
     ]
    }
   ],
   "source": [
    "prediction =  predict_output(test_feature_matrix, normalized_weights1e3)\n",
    "RSS = np.dot(test_output-prediction, test_output-prediction)\n",
    "print 'RSS for model with weights1e7 = ', RSS"
   ]
  },
  {
   "cell_type": "code",
   "execution_count": 163,
   "metadata": {
    "collapsed": false
   },
   "outputs": [
    {
     "name": "stdout",
     "output_type": "stream",
     "text": [
      "RSS for model with weights1e7 =  91671642.8756\n"
     ]
    }
   ],
   "source": [
    "prediction =  predict_output(test_feature_matrix, normalized_weights3e3)\n",
    "RSS = np.dot(test_output-prediction, test_output-prediction)\n",
    "print 'RSS for model with weights1e7 = ', RSS"
   ]
  },
  {
   "cell_type": "code",
   "execution_count": 164,
   "metadata": {
    "collapsed": false
   },
   "outputs": [
    {
     "name": "stdout",
     "output_type": "stream",
     "text": [
      "RSS for model with weights1e7 =  144953135.526\n"
     ]
    }
   ],
   "source": [
    "prediction =  predict_output(test_feature_matrix, normalized_weights1e5)\n",
    "RSS = np.dot(test_output-prediction, test_output-prediction)\n",
    "print 'RSS for model with weights1e7 = ', RSS"
   ]
  },
  {
   "cell_type": "markdown",
   "metadata": {},
   "source": [
    "Obviously, the second model performed best on test data. The one with the L1 = 3e3"
   ]
  },
  {
   "cell_type": "code",
   "execution_count": null,
   "metadata": {
    "collapsed": true
   },
   "outputs": [],
   "source": []
  }
 ],
 "metadata": {
  "kernelspec": {
   "display_name": "Python 2",
   "language": "python",
   "name": "python2"
  },
  "language_info": {
   "codemirror_mode": {
    "name": "ipython",
    "version": 2
   },
   "file_extension": ".py",
   "mimetype": "text/x-python",
   "name": "python",
   "nbconvert_exporter": "python",
   "pygments_lexer": "ipython2",
   "version": "2.7.12"
  }
 },
 "nbformat": 4,
 "nbformat_minor": 0
}
